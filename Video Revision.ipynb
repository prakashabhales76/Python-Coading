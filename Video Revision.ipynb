{
 "cells": [
  {
   "cell_type": "markdown",
   "id": "ff605a38",
   "metadata": {},
   "source": [
    "# Introduction to python"
   ]
  },
  {
   "cell_type": "code",
   "execution_count": 1,
   "id": "0d5bdd5c",
   "metadata": {},
   "outputs": [
    {
     "data": {
      "text/plain": [
       "4"
      ]
     },
     "execution_count": 1,
     "metadata": {},
     "output_type": "execute_result"
    }
   ],
   "source": [
    "num=4\n",
    "num"
   ]
  },
  {
   "cell_type": "code",
   "execution_count": 2,
   "id": "acc72160",
   "metadata": {},
   "outputs": [
    {
     "data": {
      "text/plain": [
       "4"
      ]
     },
     "execution_count": 2,
     "metadata": {},
     "output_type": "execute_result"
    }
   ],
   "source": [
    "num"
   ]
  },
  {
   "cell_type": "code",
   "execution_count": 3,
   "id": "1828e733",
   "metadata": {},
   "outputs": [],
   "source": [
    "x = y = z = 10"
   ]
  },
  {
   "cell_type": "code",
   "execution_count": 4,
   "id": "d6d5209a",
   "metadata": {},
   "outputs": [
    {
     "data": {
      "text/plain": [
       "10"
      ]
     },
     "execution_count": 4,
     "metadata": {},
     "output_type": "execute_result"
    }
   ],
   "source": [
    "x"
   ]
  },
  {
   "cell_type": "code",
   "execution_count": 5,
   "id": "152334d0",
   "metadata": {},
   "outputs": [
    {
     "data": {
      "text/plain": [
       "10"
      ]
     },
     "execution_count": 5,
     "metadata": {},
     "output_type": "execute_result"
    }
   ],
   "source": [
    "y"
   ]
  },
  {
   "cell_type": "code",
   "execution_count": 6,
   "id": "55c490e2",
   "metadata": {},
   "outputs": [
    {
     "data": {
      "text/plain": [
       "10"
      ]
     },
     "execution_count": 6,
     "metadata": {},
     "output_type": "execute_result"
    }
   ],
   "source": [
    "z"
   ]
  },
  {
   "cell_type": "code",
   "execution_count": 7,
   "id": "87064aa9",
   "metadata": {},
   "outputs": [
    {
     "data": {
      "text/plain": [
       "(10, 10, 10)"
      ]
     },
     "execution_count": 7,
     "metadata": {},
     "output_type": "execute_result"
    }
   ],
   "source": [
    "x,y,z"
   ]
  },
  {
   "cell_type": "markdown",
   "id": "cbaf27ee",
   "metadata": {},
   "source": [
    "#  Updating Variables and Srtings"
   ]
  },
  {
   "cell_type": "code",
   "execution_count": 8,
   "id": "3d027ec2",
   "metadata": {},
   "outputs": [],
   "source": [
    "a = 'Great Learning'"
   ]
  },
  {
   "cell_type": "code",
   "execution_count": 9,
   "id": "d60303ea",
   "metadata": {},
   "outputs": [
    {
     "data": {
      "text/plain": [
       "'Great Learning'"
      ]
     },
     "execution_count": 9,
     "metadata": {},
     "output_type": "execute_result"
    }
   ],
   "source": [
    "a"
   ]
  },
  {
   "cell_type": "code",
   "execution_count": 10,
   "id": "85a9fbef",
   "metadata": {},
   "outputs": [],
   "source": [
    "a,b,c = 4,5,\"grat learning\""
   ]
  },
  {
   "cell_type": "code",
   "execution_count": 11,
   "id": "69f0ab48",
   "metadata": {},
   "outputs": [
    {
     "data": {
      "text/plain": [
       "4"
      ]
     },
     "execution_count": 11,
     "metadata": {},
     "output_type": "execute_result"
    }
   ],
   "source": [
    "a"
   ]
  },
  {
   "cell_type": "code",
   "execution_count": 12,
   "id": "07deed24",
   "metadata": {},
   "outputs": [
    {
     "data": {
      "text/plain": [
       "'grat learning'"
      ]
     },
     "execution_count": 12,
     "metadata": {},
     "output_type": "execute_result"
    }
   ],
   "source": [
    "a\n",
    "b\n",
    "c"
   ]
  },
  {
   "cell_type": "code",
   "execution_count": 13,
   "id": "1ac7027e",
   "metadata": {},
   "outputs": [
    {
     "data": {
      "text/plain": [
       "5"
      ]
     },
     "execution_count": 13,
     "metadata": {},
     "output_type": "execute_result"
    }
   ],
   "source": [
    "b"
   ]
  },
  {
   "cell_type": "code",
   "execution_count": 14,
   "id": "e6177be7",
   "metadata": {},
   "outputs": [
    {
     "data": {
      "text/plain": [
       "'grat learning'"
      ]
     },
     "execution_count": 14,
     "metadata": {},
     "output_type": "execute_result"
    }
   ],
   "source": [
    "c"
   ]
  },
  {
   "cell_type": "code",
   "execution_count": 15,
   "id": "980dd3e8",
   "metadata": {},
   "outputs": [
    {
     "data": {
      "text/plain": [
       "5"
      ]
     },
     "execution_count": 15,
     "metadata": {},
     "output_type": "execute_result"
    }
   ],
   "source": [
    "b"
   ]
  },
  {
   "cell_type": "markdown",
   "id": "f00c57e9",
   "metadata": {},
   "source": [
    "#  Good practices of naming variables"
   ]
  },
  {
   "cell_type": "code",
   "execution_count": 69,
   "id": "018a2822",
   "metadata": {},
   "outputs": [],
   "source": [
    "var1 = 83\n",
    "var2 = 'prakash'\n",
    "var2=var1"
   ]
  },
  {
   "cell_type": "code",
   "execution_count": 2,
   "id": "5f38eae7",
   "metadata": {},
   "outputs": [
    {
     "data": {
      "text/plain": [
       "83"
      ]
     },
     "execution_count": 2,
     "metadata": {},
     "output_type": "execute_result"
    }
   ],
   "source": [
    "var1"
   ]
  },
  {
   "cell_type": "code",
   "execution_count": 3,
   "id": "78cc8e86",
   "metadata": {},
   "outputs": [
    {
     "data": {
      "text/plain": [
       "83"
      ]
     },
     "execution_count": 3,
     "metadata": {},
     "output_type": "execute_result"
    }
   ],
   "source": [
    "var2"
   ]
  },
  {
   "cell_type": "code",
   "execution_count": 4,
   "id": "3455e9ff",
   "metadata": {},
   "outputs": [
    {
     "data": {
      "text/plain": [
       "166"
      ]
     },
     "execution_count": 4,
     "metadata": {},
     "output_type": "execute_result"
    }
   ],
   "source": [
    "var1+var2"
   ]
  },
  {
   "cell_type": "code",
   "execution_count": 5,
   "id": "319c0577",
   "metadata": {},
   "outputs": [],
   "source": [
    "var2='prakash'"
   ]
  },
  {
   "cell_type": "code",
   "execution_count": 6,
   "id": "6cedc9e3",
   "metadata": {},
   "outputs": [
    {
     "data": {
      "text/plain": [
       "'prakash'"
      ]
     },
     "execution_count": 6,
     "metadata": {},
     "output_type": "execute_result"
    }
   ],
   "source": [
    "var2"
   ]
  },
  {
   "cell_type": "markdown",
   "id": "d8973e15",
   "metadata": {},
   "source": [
    "# Integer, Float and Complex"
   ]
  },
  {
   "cell_type": "code",
   "execution_count": 8,
   "id": "68c3057a",
   "metadata": {},
   "outputs": [
    {
     "data": {
      "text/plain": [
       "int"
      ]
     },
     "execution_count": 8,
     "metadata": {},
     "output_type": "execute_result"
    }
   ],
   "source": [
    "a = -5\n",
    "type(a)"
   ]
  },
  {
   "cell_type": "code",
   "execution_count": 9,
   "id": "905be595",
   "metadata": {},
   "outputs": [
    {
     "data": {
      "text/plain": [
       "float"
      ]
     },
     "execution_count": 9,
     "metadata": {},
     "output_type": "execute_result"
    }
   ],
   "source": [
    "a=0.123\n",
    "type(a)"
   ]
  },
  {
   "cell_type": "code",
   "execution_count": 10,
   "id": "954a51d6",
   "metadata": {},
   "outputs": [
    {
     "data": {
      "text/plain": [
       "int"
      ]
     },
     "execution_count": 10,
     "metadata": {},
     "output_type": "execute_result"
    }
   ],
   "source": [
    "a=1600000\n",
    "type(a)"
   ]
  },
  {
   "cell_type": "code",
   "execution_count": 11,
   "id": "6bb4d043",
   "metadata": {},
   "outputs": [
    {
     "data": {
      "text/plain": [
       "float"
      ]
     },
     "execution_count": 11,
     "metadata": {},
     "output_type": "execute_result"
    }
   ],
   "source": [
    "a=1.6e4\n",
    "type(a)"
   ]
  },
  {
   "cell_type": "code",
   "execution_count": 12,
   "id": "65b84026",
   "metadata": {},
   "outputs": [
    {
     "data": {
      "text/plain": [
       "complex"
      ]
     },
     "execution_count": 12,
     "metadata": {},
     "output_type": "execute_result"
    }
   ],
   "source": [
    "x=3+4j\n",
    "type(x)"
   ]
  },
  {
   "cell_type": "markdown",
   "id": "004d936c",
   "metadata": {},
   "source": [
    "# Operations of Strings"
   ]
  },
  {
   "cell_type": "code",
   "execution_count": 27,
   "id": "b720fb38",
   "metadata": {},
   "outputs": [
    {
     "data": {
      "text/plain": [
       "'greatLearning'"
      ]
     },
     "execution_count": 27,
     "metadata": {},
     "output_type": "execute_result"
    }
   ],
   "source": [
    "str1= \"great\"\n",
    "str2=\"Learning\"\n",
    "str1+str2"
   ]
  },
  {
   "cell_type": "code",
   "execution_count": 28,
   "id": "21e78afd",
   "metadata": {},
   "outputs": [
    {
     "data": {
      "text/plain": [
       "'actgactgactgactgactgactgactgactgactgactg'"
      ]
     },
     "execution_count": 28,
     "metadata": {},
     "output_type": "execute_result"
    }
   ],
   "source": [
    "str4='actg'\n",
    "str4*10"
   ]
  },
  {
   "cell_type": "code",
   "execution_count": 29,
   "id": "c9e5ea07",
   "metadata": {},
   "outputs": [
    {
     "data": {
      "text/plain": [
       "'a'"
      ]
     },
     "execution_count": 29,
     "metadata": {},
     "output_type": "execute_result"
    }
   ],
   "source": [
    "str4[0]"
   ]
  },
  {
   "cell_type": "code",
   "execution_count": 30,
   "id": "9cd5e595",
   "metadata": {},
   "outputs": [
    {
     "data": {
      "text/plain": [
       "'a'"
      ]
     },
     "execution_count": 30,
     "metadata": {},
     "output_type": "execute_result"
    }
   ],
   "source": [
    "str4[0]"
   ]
  },
  {
   "cell_type": "code",
   "execution_count": 31,
   "id": "1d5cc714",
   "metadata": {},
   "outputs": [
    {
     "data": {
      "text/plain": [
       "'t'"
      ]
     },
     "execution_count": 31,
     "metadata": {},
     "output_type": "execute_result"
    }
   ],
   "source": [
    "str4[2]"
   ]
  },
  {
   "cell_type": "code",
   "execution_count": 32,
   "id": "3e1e66e1",
   "metadata": {},
   "outputs": [
    {
     "data": {
      "text/plain": [
       "'g'"
      ]
     },
     "execution_count": 32,
     "metadata": {},
     "output_type": "execute_result"
    }
   ],
   "source": [
    "str4[-1]"
   ]
  },
  {
   "cell_type": "code",
   "execution_count": 33,
   "id": "f8ec5958",
   "metadata": {},
   "outputs": [
    {
     "data": {
      "text/plain": [
       "'t'"
      ]
     },
     "execution_count": 33,
     "metadata": {},
     "output_type": "execute_result"
    }
   ],
   "source": [
    "str4[-2]"
   ]
  },
  {
   "cell_type": "code",
   "execution_count": 34,
   "id": "9a761d3e",
   "metadata": {},
   "outputs": [
    {
     "data": {
      "text/plain": [
       "'g'"
      ]
     },
     "execution_count": 34,
     "metadata": {},
     "output_type": "execute_result"
    }
   ],
   "source": [
    "str1[0]"
   ]
  },
  {
   "cell_type": "code",
   "execution_count": 35,
   "id": "079d98de",
   "metadata": {},
   "outputs": [
    {
     "data": {
      "text/plain": [
       "'gr'"
      ]
     },
     "execution_count": 35,
     "metadata": {},
     "output_type": "execute_result"
    }
   ],
   "source": [
    "str1[0:2]"
   ]
  },
  {
   "cell_type": "code",
   "execution_count": 36,
   "id": "1e78ad80",
   "metadata": {},
   "outputs": [
    {
     "data": {
      "text/plain": [
       "'Lea'"
      ]
     },
     "execution_count": 36,
     "metadata": {},
     "output_type": "execute_result"
    }
   ],
   "source": [
    "str2[0:3]"
   ]
  },
  {
   "cell_type": "code",
   "execution_count": 37,
   "id": "47b866ef",
   "metadata": {},
   "outputs": [
    {
     "ename": "TypeError",
     "evalue": "'str' object is not callable",
     "output_type": "error",
     "traceback": [
      "\u001b[1;31m---------------------------------------------------------------------------\u001b[0m",
      "\u001b[1;31mTypeError\u001b[0m                                 Traceback (most recent call last)",
      "\u001b[1;32m~\\AppData\\Local\\Temp\\ipykernel_20368\\856907042.py\u001b[0m in \u001b[0;36m<module>\u001b[1;34m\u001b[0m\n\u001b[1;32m----> 1\u001b[1;33m \u001b[0mstr4\u001b[0m\u001b[1;33m(\u001b[0m\u001b[1;36m0\u001b[0m\u001b[1;33m)\u001b[0m\u001b[1;33m\u001b[0m\u001b[1;33m\u001b[0m\u001b[0m\n\u001b[0m",
      "\u001b[1;31mTypeError\u001b[0m: 'str' object is not callable"
     ]
    }
   ],
   "source": [
    "str4(0)"
   ]
  },
  {
   "cell_type": "markdown",
   "id": "f6796a04",
   "metadata": {},
   "source": [
    "# Type Markdown and LaTeX:  𝛼2"
   ]
  },
  {
   "cell_type": "code",
   "execution_count": 38,
   "id": "72d7ccbc",
   "metadata": {},
   "outputs": [
    {
     "data": {
      "text/plain": [
       "bool"
      ]
     },
     "execution_count": 38,
     "metadata": {},
     "output_type": "execute_result"
    }
   ],
   "source": [
    "var = True\n",
    "type(var)"
   ]
  },
  {
   "cell_type": "markdown",
   "id": "ad7ba78e",
   "metadata": {},
   "source": [
    "# Boolean Data type"
   ]
  },
  {
   "cell_type": "markdown",
   "id": "3df5a67d",
   "metadata": {},
   "source": [
    "Name of a Jorge Bool"
   ]
  },
  {
   "cell_type": "code",
   "execution_count": 39,
   "id": "99f5abfd",
   "metadata": {},
   "outputs": [
    {
     "data": {
      "text/plain": [
       "bool"
      ]
     },
     "execution_count": 39,
     "metadata": {},
     "output_type": "execute_result"
    }
   ],
   "source": [
    "var = False\n",
    "type(var)"
   ]
  },
  {
   "cell_type": "code",
   "execution_count": 40,
   "id": "33d76412",
   "metadata": {},
   "outputs": [
    {
     "data": {
      "text/plain": [
       "True"
      ]
     },
     "execution_count": 40,
     "metadata": {},
     "output_type": "execute_result"
    }
   ],
   "source": [
    "10>9"
   ]
  },
  {
   "cell_type": "code",
   "execution_count": 41,
   "id": "0a7b494c",
   "metadata": {},
   "outputs": [
    {
     "data": {
      "text/plain": [
       "False"
      ]
     },
     "execution_count": 41,
     "metadata": {},
     "output_type": "execute_result"
    }
   ],
   "source": [
    "9 > 10"
   ]
  },
  {
   "cell_type": "code",
   "execution_count": 42,
   "id": "a88370ac",
   "metadata": {},
   "outputs": [
    {
     "data": {
      "text/plain": [
       "int"
      ]
     },
     "execution_count": 42,
     "metadata": {},
     "output_type": "execute_result"
    }
   ],
   "source": [
    "type(11)"
   ]
  },
  {
   "cell_type": "code",
   "execution_count": 43,
   "id": "e9f1de80",
   "metadata": {},
   "outputs": [
    {
     "data": {
      "text/plain": [
       "11.0"
      ]
     },
     "execution_count": 43,
     "metadata": {},
     "output_type": "execute_result"
    }
   ],
   "source": [
    "float(11)"
   ]
  },
  {
   "cell_type": "code",
   "execution_count": 44,
   "id": "5ccb8cdb",
   "metadata": {},
   "outputs": [
    {
     "data": {
      "text/plain": [
       "11.0"
      ]
     },
     "execution_count": 44,
     "metadata": {},
     "output_type": "execute_result"
    }
   ],
   "source": [
    "float('11')"
   ]
  },
  {
   "cell_type": "markdown",
   "id": "addf4c15",
   "metadata": {},
   "source": [
    "# Changing Data Type"
   ]
  },
  {
   "cell_type": "code",
   "execution_count": 40,
   "id": "200f66bf",
   "metadata": {},
   "outputs": [
    {
     "data": {
      "text/plain": [
       "float"
      ]
     },
     "execution_count": 40,
     "metadata": {},
     "output_type": "execute_result"
    }
   ],
   "source": [
    "type(11.7)"
   ]
  },
  {
   "cell_type": "code",
   "execution_count": 41,
   "id": "894bd27e",
   "metadata": {},
   "outputs": [
    {
     "data": {
      "text/plain": [
       "11"
      ]
     },
     "execution_count": 41,
     "metadata": {},
     "output_type": "execute_result"
    }
   ],
   "source": [
    "int(11.7)"
   ]
  },
  {
   "cell_type": "code",
   "execution_count": 42,
   "id": "862da9b2",
   "metadata": {},
   "outputs": [
    {
     "data": {
      "text/plain": [
       "-11"
      ]
     },
     "execution_count": 42,
     "metadata": {},
     "output_type": "execute_result"
    }
   ],
   "source": [
    "int(-11.7)"
   ]
  },
  {
   "cell_type": "markdown",
   "id": "fb55764e",
   "metadata": {},
   "source": [
    "# Print Statement"
   ]
  },
  {
   "cell_type": "code",
   "execution_count": 48,
   "id": "1613bed9",
   "metadata": {},
   "outputs": [
    {
     "name": "stdout",
     "output_type": "stream",
     "text": [
      "Hello World\n"
     ]
    }
   ],
   "source": [
    "print(\"Hello World\")"
   ]
  },
  {
   "cell_type": "code",
   "execution_count": 51,
   "id": "88cd40bc",
   "metadata": {},
   "outputs": [
    {
     "data": {
      "text/plain": [
       "7"
      ]
     },
     "execution_count": 51,
     "metadata": {},
     "output_type": "execute_result"
    }
   ],
   "source": [
    "x=7\n",
    "x"
   ]
  },
  {
   "cell_type": "code",
   "execution_count": 50,
   "id": "e08462fa",
   "metadata": {},
   "outputs": [
    {
     "name": "stdout",
     "output_type": "stream",
     "text": [
      "x= 7\n"
     ]
    }
   ],
   "source": [
    "print(\"x=\",x)"
   ]
  },
  {
   "cell_type": "code",
   "execution_count": 52,
   "id": "9ee6571a",
   "metadata": {},
   "outputs": [
    {
     "name": "stdout",
     "output_type": "stream",
     "text": [
      "x=  7\n",
      "\n",
      "y=  9\n"
     ]
    }
   ],
   "source": [
    "x=7\n",
    "y=9\n",
    "x\n",
    "y\n",
    "print(\"x= \",x,end='\\n\\n')\n",
    "print(\"y= \",y)"
   ]
  },
  {
   "cell_type": "markdown",
   "id": "80994082",
   "metadata": {},
   "source": [
    "# user input"
   ]
  },
  {
   "cell_type": "code",
   "execution_count": 53,
   "id": "9757241b",
   "metadata": {},
   "outputs": [
    {
     "name": "stdout",
     "output_type": "stream",
     "text": [
      "please enter your age: 25\n",
      "25\n"
     ]
    },
    {
     "data": {
      "text/plain": [
       "int"
      ]
     },
     "execution_count": 53,
     "metadata": {},
     "output_type": "execute_result"
    }
   ],
   "source": [
    "age=int(input(\"please enter your age: \"))\n",
    "print(age)\n",
    "type(age)"
   ]
  },
  {
   "cell_type": "markdown",
   "id": "f4cc208f",
   "metadata": {},
   "source": [
    "# Arithematic operators"
   ]
  },
  {
   "cell_type": "code",
   "execution_count": 54,
   "id": "5b1c5add",
   "metadata": {},
   "outputs": [
    {
     "name": "stdout",
     "output_type": "stream",
     "text": [
      "a+b= 14\n"
     ]
    }
   ],
   "source": [
    "a=12\n",
    "b=2\n",
    "# '+' operater\n",
    "print('a+b=',a+b)"
   ]
  },
  {
   "cell_type": "code",
   "execution_count": 55,
   "id": "7f86cc07",
   "metadata": {},
   "outputs": [
    {
     "name": "stdout",
     "output_type": "stream",
     "text": [
      "a-b= 10\n"
     ]
    }
   ],
   "source": [
    "# '-' operater\n",
    "print('a-b=',a-b)"
   ]
  },
  {
   "cell_type": "code",
   "execution_count": 56,
   "id": "0bddd2ff",
   "metadata": {},
   "outputs": [
    {
     "name": "stdout",
     "output_type": "stream",
     "text": [
      "a*b= 24\n"
     ]
    }
   ],
   "source": [
    "# '*' operater\n",
    "print('a*b=',a*b)"
   ]
  },
  {
   "cell_type": "code",
   "execution_count": 57,
   "id": "658fd642",
   "metadata": {},
   "outputs": [
    {
     "name": "stdout",
     "output_type": "stream",
     "text": [
      "a/b= 6.0\n"
     ]
    }
   ],
   "source": [
    "# '/' operater\n",
    "print('a/b=',a/b)"
   ]
  },
  {
   "cell_type": "code",
   "execution_count": 58,
   "id": "e0fb96c6",
   "metadata": {},
   "outputs": [
    {
     "name": "stdout",
     "output_type": "stream",
     "text": [
      "a//b= 6\n"
     ]
    }
   ],
   "source": [
    "# '//' operater\n",
    "print('a//b=',a//b)"
   ]
  },
  {
   "cell_type": "code",
   "execution_count": 59,
   "id": "827a3cc4",
   "metadata": {},
   "outputs": [
    {
     "name": "stdout",
     "output_type": "stream",
     "text": [
      "a%b= 0\n"
     ]
    }
   ],
   "source": [
    "# '%' operater\n",
    "print('a%b=',a%b)"
   ]
  },
  {
   "cell_type": "code",
   "execution_count": 60,
   "id": "cc3a47c5",
   "metadata": {},
   "outputs": [
    {
     "name": "stdout",
     "output_type": "stream",
     "text": [
      "a**b= 144\n"
     ]
    }
   ],
   "source": [
    "# '**' operater\n",
    "print('a**b=',a**b)"
   ]
  },
  {
   "cell_type": "code",
   "execution_count": 61,
   "id": "2534913e",
   "metadata": {},
   "outputs": [
    {
     "data": {
      "text/plain": [
       "14"
      ]
     },
     "execution_count": 61,
     "metadata": {},
     "output_type": "execute_result"
    }
   ],
   "source": [
    "a+b"
   ]
  },
  {
   "cell_type": "markdown",
   "id": "cdb6a8bb",
   "metadata": {},
   "source": [
    "# comparison operator"
   ]
  },
  {
   "cell_type": "code",
   "execution_count": 62,
   "id": "3aec46d0",
   "metadata": {},
   "outputs": [
    {
     "name": "stdout",
     "output_type": "stream",
     "text": [
      "False\n"
     ]
    },
    {
     "name": "stderr",
     "output_type": "stream",
     "text": [
      "<>:4: SyntaxWarning: \"is\" with a literal. Did you mean \"==\"?\n",
      "<>:4: SyntaxWarning: \"is\" with a literal. Did you mean \"==\"?\n",
      "C:\\Users\\praka\\AppData\\Local\\Temp\\ipykernel_20368\\3109797911.py:4: SyntaxWarning: \"is\" with a literal. Did you mean \"==\"?\n",
      "  print('a>b'is a>b)\n"
     ]
    }
   ],
   "source": [
    "a=10\n",
    "b=20\n",
    "# '>'operator\n",
    "print('a>b'is a>b)"
   ]
  },
  {
   "cell_type": "code",
   "execution_count": 63,
   "id": "9112c8a5",
   "metadata": {},
   "outputs": [],
   "source": [
    "# now use simple <,==,!=,>=,<="
   ]
  },
  {
   "cell_type": "markdown",
   "id": "ff16557f",
   "metadata": {},
   "source": [
    "# Assignment operator"
   ]
  },
  {
   "cell_type": "code",
   "execution_count": 51,
   "id": "55d51a90",
   "metadata": {},
   "outputs": [
    {
     "name": "stdout",
     "output_type": "stream",
     "text": [
      "x=  10\n"
     ]
    }
   ],
   "source": [
    "#'=' operator\n",
    "x=5\n",
    "print(\"x= \",x*2)"
   ]
  },
  {
   "cell_type": "code",
   "execution_count": 65,
   "id": "aaf19922",
   "metadata": {},
   "outputs": [],
   "source": [
    "# just use +=,-=2,*=2,*=2,/=4"
   ]
  },
  {
   "cell_type": "markdown",
   "id": "480ba78f",
   "metadata": {},
   "source": [
    "# logical operator"
   ]
  },
  {
   "cell_type": "code",
   "execution_count": 52,
   "id": "ab6bc943",
   "metadata": {},
   "outputs": [
    {
     "name": "stdout",
     "output_type": "stream",
     "text": [
      "True\n"
     ]
    }
   ],
   "source": [
    "x=11\n",
    "a=x>10 and x<20\n",
    "print(a)"
   ]
  },
  {
   "cell_type": "code",
   "execution_count": 67,
   "id": "507948f1",
   "metadata": {},
   "outputs": [
    {
     "name": "stdout",
     "output_type": "stream",
     "text": [
      "False\n"
     ]
    }
   ],
   "source": [
    "x=11\n",
    "a=x>10 and x==12\n",
    "print(a)"
   ]
  },
  {
   "cell_type": "code",
   "execution_count": null,
   "id": "b842ef73",
   "metadata": {},
   "outputs": [],
   "source": [
    "# And ,Or ,Not"
   ]
  },
  {
   "cell_type": "markdown",
   "id": "f64f20b5",
   "metadata": {},
   "source": [
    "# or' operator"
   ]
  },
  {
   "cell_type": "code",
   "execution_count": 53,
   "id": "fbe007bc",
   "metadata": {},
   "outputs": [
    {
     "name": "stdout",
     "output_type": "stream",
     "text": [
      "True\n"
     ]
    }
   ],
   "source": [
    "x=11\n",
    "a=x>10 or x==20\n",
    "print(a)"
   ]
  },
  {
   "cell_type": "code",
   "execution_count": 67,
   "id": "a4e44cbf",
   "metadata": {},
   "outputs": [
    {
     "name": "stdout",
     "output_type": "stream",
     "text": [
      "False\n"
     ]
    }
   ],
   "source": [
    "x=11\n",
    "a=x>12 or x==20\n",
    "print(a)"
   ]
  },
  {
   "cell_type": "markdown",
   "id": "07e00982",
   "metadata": {},
   "source": [
    "# 1. Introductin To List"
   ]
  },
  {
   "cell_type": "markdown",
   "id": "f51c2a13",
   "metadata": {},
   "source": [
    "Constracting To List"
   ]
  },
  {
   "cell_type": "markdown",
   "id": "d9c86078",
   "metadata": {},
   "source": [
    "to Create a list ,use squre brackets []"
   ]
  },
  {
   "cell_type": "code",
   "execution_count": 13,
   "id": "750ea75c",
   "metadata": {},
   "outputs": [
    {
     "data": {
      "text/plain": [
       "[]"
      ]
     },
     "execution_count": 13,
     "metadata": {},
     "output_type": "execute_result"
    }
   ],
   "source": [
    "# create a empty list\n",
    "empty_list = []\n",
    "empty_list"
   ]
  },
  {
   "cell_type": "code",
   "execution_count": 14,
   "id": "04f65fbe",
   "metadata": {},
   "outputs": [
    {
     "data": {
      "text/plain": [
       "[['data scince', 'machine learning'], [135, 232, 321]]"
      ]
     },
     "execution_count": 14,
     "metadata": {},
     "output_type": "execute_result"
    }
   ],
   "source": [
    "# nested list\n",
    "my_list=[['data scince','machine learning'],[135,232,321]]\n",
    "my_list"
   ]
  },
  {
   "cell_type": "markdown",
   "id": "4ab7f5b5",
   "metadata": {},
   "source": [
    "# indexing list"
   ]
  },
  {
   "cell_type": "code",
   "execution_count": 68,
   "id": "fa03e921",
   "metadata": {},
   "outputs": [
    {
     "name": "stdout",
     "output_type": "stream",
     "text": [
      "['data scince', 'machine learning', 'python', 'html', 'big data']\n",
      "data scince\n"
     ]
    }
   ],
   "source": [
    "# difine a list\n",
    "course = ['data scince','machine learning','python','html','big data']\n",
    "\n",
    "print(course)\n",
    "# access the secound item of a list of index ]\n",
    "print(course[0])"
   ]
  },
  {
   "cell_type": "markdown",
   "id": "f1b0af37",
   "metadata": {},
   "source": [
    "# negetive indexing"
   ]
  },
  {
   "cell_type": "code",
   "execution_count": 74,
   "id": "7d4a6734",
   "metadata": {},
   "outputs": [
    {
     "name": "stdout",
     "output_type": "stream",
     "text": [
      "html\n"
     ]
    }
   ],
   "source": [
    "# difine a list\n",
    "course = ['data scince','machine learning','python','html','big data']\n",
    "\n",
    "# access the secound item of a list of index -2\n",
    "print(course[-2])"
   ]
  },
  {
   "cell_type": "markdown",
   "id": "cd081961",
   "metadata": {},
   "source": [
    "# slicing list"
   ]
  },
  {
   "cell_type": "code",
   "execution_count": 1,
   "id": "f7acc13f",
   "metadata": {},
   "outputs": [
    {
     "data": {
      "text/plain": [
       "['data scince', 'machine learning', 'python']"
      ]
     },
     "execution_count": 1,
     "metadata": {},
     "output_type": "execute_result"
    }
   ],
   "source": [
    "# difine a list\n",
    "course = ['data scince','machine learning','python','html','big data']\n",
    "\n",
    "# print first three element from the list\n",
    "course[:3]"
   ]
  },
  {
   "cell_type": "code",
   "execution_count": 76,
   "id": "c6cf3c53",
   "metadata": {},
   "outputs": [
    {
     "data": {
      "text/plain": [
       "['data scince', 'machine learning', 'python', 'html', 'big data']"
      ]
     },
     "execution_count": 76,
     "metadata": {},
     "output_type": "execute_result"
    }
   ],
   "source": [
    "# difine a list\n",
    "course = ['data scince','machine learning','python','html','big data']\n",
    "# print the all elements\n",
    "course[:]"
   ]
  },
  {
   "cell_type": "code",
   "execution_count": 77,
   "id": "97216efa",
   "metadata": {},
   "outputs": [
    {
     "data": {
      "text/plain": [
       "['python', 'html', 'big data']"
      ]
     },
     "execution_count": 77,
     "metadata": {},
     "output_type": "execute_result"
    }
   ],
   "source": [
    "# difine a list\n",
    "course = ['data scince','machine learning','python','html','big data']\n",
    "# print the all elements\n",
    "course[2:]"
   ]
  },
  {
   "cell_type": "code",
   "execution_count": 54,
   "id": "74e5851f",
   "metadata": {},
   "outputs": [
    {
     "name": "stdout",
     "output_type": "stream",
     "text": [
      "[3, 5, 7]\n"
     ]
    }
   ],
   "source": [
    "a=[1,2,3,4,5,6,7,8,9,10]\n",
    "print(a[2:7:2])"
   ]
  },
  {
   "cell_type": "markdown",
   "id": "7ceadcfb",
   "metadata": {},
   "source": [
    "# change in word"
   ]
  },
  {
   "cell_type": "code",
   "execution_count": 55,
   "id": "9f6afb43",
   "metadata": {},
   "outputs": [
    {
     "data": {
      "text/plain": [
       "['data scince', 'machine learning', 'python', 'statstics', 'big data']"
      ]
     },
     "execution_count": 55,
     "metadata": {},
     "output_type": "execute_result"
    }
   ],
   "source": [
    "# define a list\n",
    "course = ['data scince','machine learning','python','html','big data']\n",
    "\n",
    "# Change the third item\n",
    "course[3]='statstics'\n",
    "course"
   ]
  },
  {
   "cell_type": "markdown",
   "id": "e9473bdd",
   "metadata": {},
   "source": [
    "# List Methods"
   ]
  },
  {
   "cell_type": "raw",
   "id": "dcace1d6",
   "metadata": {},
   "source": [
    "# list.append(item)\n",
    "append()-- add eliment to the list\n",
    "insert()\n",
    "extend()\n",
    "del   ()\n",
    "remove()\n",
    "pop()\n",
    "reverse()"
   ]
  },
  {
   "cell_type": "code",
   "execution_count": 80,
   "id": "9f18a8ec",
   "metadata": {},
   "outputs": [
    {
     "data": {
      "text/plain": [
       "['data scince',\n",
       " 'machine learning',\n",
       " 'python',\n",
       " 'html',\n",
       " 'big data',\n",
       " ['statistics']]"
      ]
     },
     "execution_count": 80,
     "metadata": {},
     "output_type": "execute_result"
    }
   ],
   "source": [
    "# define a list\n",
    "course1 = ['data scince','machine learning','python','html','big data']\n",
    "\n",
    "course2 = ['statistics']\n",
    "# add element to the list\n",
    "course1.append(course2)\n",
    "course1"
   ]
  },
  {
   "cell_type": "markdown",
   "id": "a9483923",
   "metadata": {},
   "source": [
    "# list.insert(items)"
   ]
  },
  {
   "cell_type": "code",
   "execution_count": 81,
   "id": "ca29d7b0",
   "metadata": {},
   "outputs": [
    {
     "data": {
      "text/plain": [
       "['data scince', 'machine learning', 'statistics', 'python', 'html', 'big data']"
      ]
     },
     "execution_count": 81,
     "metadata": {},
     "output_type": "execute_result"
    }
   ],
   "source": [
    "# define a list\n",
    "course = ['data scince','machine learning','python','html','big data']\n",
    "\n",
    "#insert element at 2nd index in a list\n",
    "course.insert(2,'statistics')\n",
    "course"
   ]
  },
  {
   "cell_type": "markdown",
   "id": "87aec3ac",
   "metadata": {},
   "source": [
    "# list.extand(items)"
   ]
  },
  {
   "cell_type": "code",
   "execution_count": 82,
   "id": "9337bd42",
   "metadata": {},
   "outputs": [
    {
     "data": {
      "text/plain": [
       "['data scince',\n",
       " 'machine learning',\n",
       " 'python',\n",
       " 'html',\n",
       " 'big data',\n",
       " ['statistics'],\n",
       " 'artificial intelligence']"
      ]
     },
     "execution_count": 82,
     "metadata": {},
     "output_type": "execute_result"
    }
   ],
   "source": [
    "# define a secound list\n",
    "course2 = ['artificial intelligence']\n",
    "\n",
    "#concatenate the list\n",
    "course1.extend(course2)\n",
    "\n",
    "course1"
   ]
  },
  {
   "cell_type": "markdown",
   "id": "919da933",
   "metadata": {},
   "source": [
    "# Deleting List Elements"
   ]
  },
  {
   "cell_type": "code",
   "execution_count": 56,
   "id": "3b0749d6",
   "metadata": {},
   "outputs": [
    {
     "data": {
      "text/plain": [
       "['data scince', 'machine learning', 'html', 'big data']"
      ]
     },
     "execution_count": 56,
     "metadata": {},
     "output_type": "execute_result"
    }
   ],
   "source": [
    "# define a list\n",
    "course = ['data scince','machine learning','python','html','big data']\n",
    "\n",
    "#delete the third element from the list\n",
    "del course[2]\n",
    "\n",
    "# print the output \n",
    "course"
   ]
  },
  {
   "cell_type": "markdown",
   "id": "715610c8",
   "metadata": {},
   "source": [
    "#  list.remove(items)"
   ]
  },
  {
   "cell_type": "code",
   "execution_count": 85,
   "id": "5616fa05",
   "metadata": {},
   "outputs": [
    {
     "data": {
      "text/plain": [
       "['data scince', 'machine learning', 'python', 'big data']"
      ]
     },
     "execution_count": 85,
     "metadata": {},
     "output_type": "execute_result"
    }
   ],
   "source": [
    "# define a list\n",
    "course = ['data scince','machine learning','python','html','big data']\n",
    "\n",
    "course.remove('html')\n",
    "\n",
    "course"
   ]
  },
  {
   "cell_type": "markdown",
   "id": "eb1fb433",
   "metadata": {},
   "source": [
    "# list.pop()"
   ]
  },
  {
   "cell_type": "code",
   "execution_count": 92,
   "id": "29bbf034",
   "metadata": {},
   "outputs": [
    {
     "data": {
      "text/plain": [
       "'html'"
      ]
     },
     "execution_count": 92,
     "metadata": {},
     "output_type": "execute_result"
    }
   ],
   "source": [
    "# define a list\n",
    "course = ['data scince','machine learning','python','html','big data','html']\n",
    "# Python list pop() is an inbuilt function in Python that removes and returns the \n",
    "# last value from the List or the given index value.\n",
    "course.pop()"
   ]
  },
  {
   "cell_type": "code",
   "execution_count": 86,
   "id": "e818504a",
   "metadata": {},
   "outputs": [
    {
     "data": {
      "text/plain": [
       "['data scince', 'machine learning', 'python', 'html', 'big data']"
      ]
     },
     "execution_count": 86,
     "metadata": {},
     "output_type": "execute_result"
    }
   ],
   "source": [
    "# define a list\n",
    "course = ['data scince','machine learning','python','html','big data','html']\n",
    "\n",
    "course.pop()\n",
    "course"
   ]
  },
  {
   "cell_type": "markdown",
   "id": "00720523",
   "metadata": {},
   "source": [
    "# list.reverse()"
   ]
  },
  {
   "cell_type": "code",
   "execution_count": 87,
   "id": "d693a5dc",
   "metadata": {},
   "outputs": [
    {
     "data": {
      "text/plain": [
       "['big data', 'html', 'python', 'machine learning', 'data scince']"
      ]
     },
     "execution_count": 87,
     "metadata": {},
     "output_type": "execute_result"
    }
   ],
   "source": [
    "# define a list\n",
    "course = ['data scince','machine learning','python','html','big data']\n",
    "# Python reversed() method returns an iterator that \n",
    "# accesses the given sequence in the reverse order.\n",
    "course.reverse()\n",
    "course"
   ]
  },
  {
   "cell_type": "markdown",
   "id": "0c688463",
   "metadata": {},
   "source": [
    "# common list Operations"
   ]
  },
  {
   "cell_type": "markdown",
   "id": "89299277",
   "metadata": {},
   "source": [
    "# concatenation (+)"
   ]
  },
  {
   "cell_type": "code",
   "execution_count": 88,
   "id": "5f83feab",
   "metadata": {},
   "outputs": [
    {
     "data": {
      "text/plain": [
       "['data scince',\n",
       " 'machine learning',\n",
       " 'python',\n",
       " 'html',\n",
       " 'big data',\n",
       " 'artificial intelligence']"
      ]
     },
     "execution_count": 88,
     "metadata": {},
     "output_type": "execute_result"
    }
   ],
   "source": [
    "# define a first list\n",
    "course1 = ['data scince','machine learning','python','html','big data']\n",
    "\n",
    "# define a second list\n",
    "course2 = ['artificial intelligence']\n",
    "# In Python, Strings are arrays of bytes representing Unicode characters.\n",
    "# However, Python does not have a character data type,\n",
    "# a single character is simply a string with a length of 1. \n",
    "# Square brackets [] can be used to access elements of the string.\n",
    "\n",
    "# concatenate the list\n",
    "course1 + course2"
   ]
  },
  {
   "cell_type": "markdown",
   "id": "b130fcb8",
   "metadata": {},
   "source": [
    "# Repetition(*)"
   ]
  },
  {
   "cell_type": "code",
   "execution_count": 28,
   "id": "666e0681",
   "metadata": {},
   "outputs": [
    {
     "data": {
      "text/plain": [
       "['data scince',\n",
       " 'machine learning',\n",
       " 'python',\n",
       " 'html',\n",
       " 'big data',\n",
       " 'data scince',\n",
       " 'machine learning',\n",
       " 'python',\n",
       " 'html',\n",
       " 'big data']"
      ]
     },
     "execution_count": 28,
     "metadata": {},
     "output_type": "execute_result"
    }
   ],
   "source": [
    "# define a first list\n",
    "course1 = ['data scince','machine learning','python','html','big data']\n",
    "# Sometimes we require to add a duplicate value in the list for several different utilities.\n",
    "# This type of application is sometimes required in day-day programming\n",
    "course1*2"
   ]
  },
  {
   "cell_type": "markdown",
   "id": "abd9995b",
   "metadata": {},
   "source": [
    "# 2. Introduction to tuple"
   ]
  },
  {
   "cell_type": "markdown",
   "id": "0156c06d",
   "metadata": {},
   "source": [
    "# Creating Tuple"
   ]
  },
  {
   "cell_type": "code",
   "execution_count": 29,
   "id": "c87d7588",
   "metadata": {},
   "outputs": [
    {
     "name": "stdout",
     "output_type": "stream",
     "text": [
      "(123, 2.228, 'hello python')\n"
     ]
    }
   ],
   "source": [
    "# tuple of int,float,string\n",
    "my_tuple=(123,2.228,'hello python')\n",
    "# Python Tuple is a collection of objects separated by commas.\n",
    "# In some ways, a tuple is similar to a list in terms of indexing,\n",
    "# nested objects, and repetition but a tuple is immutable,\n",
    "# unlike lists which are mutable.\n",
    "print(my_tuple)"
   ]
  },
  {
   "cell_type": "code",
   "execution_count": 91,
   "id": "1a42dc9b",
   "metadata": {},
   "outputs": [
    {
     "name": "stdout",
     "output_type": "stream",
     "text": [
      "('python', 10, 12, 50)\n"
     ]
    }
   ],
   "source": [
    "# tuple of string and list\n",
    "my_tuple=('python', 10,12,50)\n",
    "print(my_tuple)"
   ]
  },
  {
   "cell_type": "markdown",
   "id": "b43f3679",
   "metadata": {},
   "source": [
    "## Access Tuple Elements\n",
    "we use indexes to access the elements of a tuple"
   ]
  },
  {
   "cell_type": "code",
   "execution_count": 92,
   "id": "805bf30a",
   "metadata": {},
   "outputs": [
    {
     "data": {
      "text/plain": [
       "'yellow'"
      ]
     },
     "execution_count": 92,
     "metadata": {},
     "output_type": "execute_result"
    }
   ],
   "source": [
    "# tuple of string\n",
    "my_tuple=('mango','yellow','green','blue')\n",
    "\n",
    "# access the second element from the list\n",
    "my_tuple[1]"
   ]
  },
  {
   "cell_type": "markdown",
   "id": "eeb98d20",
   "metadata": {},
   "source": [
    "# Negetive indexing"
   ]
  },
  {
   "cell_type": "code",
   "execution_count": 35,
   "id": "ef894487",
   "metadata": {},
   "outputs": [
    {
     "data": {
      "text/plain": [
       "'green'"
      ]
     },
     "execution_count": 35,
     "metadata": {},
     "output_type": "execute_result"
    }
   ],
   "source": [
    "# tuple of string\n",
    "my_tuple=('mango','yellow','green','blue')\n",
    "\n",
    "# print last item of the tuple\n",
    "my_tuple[-2]"
   ]
  },
  {
   "cell_type": "markdown",
   "id": "51614796",
   "metadata": {},
   "source": [
    "# change tuple Values"
   ]
  },
  {
   "cell_type": "code",
   "execution_count": 94,
   "id": "71da2779",
   "metadata": {},
   "outputs": [
    {
     "name": "stdout",
     "output_type": "stream",
     "text": [
      "(123, ['s', 'a', 'v'], 'world')\n",
      "(123, ['s', 'a', 99], 'world')\n"
     ]
    }
   ],
   "source": [
    "# defind my  tuple \n",
    "my_tuple = (123,['s','a','v'],'world')\n",
    "print(my_tuple)\n",
    "\n",
    "# changing the element of the list\n",
    "# this is valid because list is moutable\n",
    "my_tuple[1][2]=99\n",
    "print(my_tuple)"
   ]
  },
  {
   "cell_type": "code",
   "execution_count": 95,
   "id": "ce06dcae",
   "metadata": {},
   "outputs": [
    {
     "ename": "TypeError",
     "evalue": "'tuple' object does not support item assignment",
     "output_type": "error",
     "traceback": [
      "\u001b[1;31m---------------------------------------------------------------------------\u001b[0m",
      "\u001b[1;31mTypeError\u001b[0m                                 Traceback (most recent call last)",
      "\u001b[1;32m~\\AppData\\Local\\Temp\\ipykernel_20368\\3422164009.py\u001b[0m in \u001b[0;36m<module>\u001b[1;34m\u001b[0m\n\u001b[0;32m      4\u001b[0m \u001b[1;31m# changing the element of tuple\u001b[0m\u001b[1;33m\u001b[0m\u001b[1;33m\u001b[0m\u001b[0m\n\u001b[0;32m      5\u001b[0m \u001b[1;31m# this is not valid since tuple elements are immutable\u001b[0m\u001b[1;33m\u001b[0m\u001b[1;33m\u001b[0m\u001b[0m\n\u001b[1;32m----> 6\u001b[1;33m \u001b[0mmy_tuple\u001b[0m\u001b[1;33m[\u001b[0m\u001b[1;36m0\u001b[0m\u001b[1;33m]\u001b[0m\u001b[1;33m=\u001b[0m\u001b[1;34m'orange'\u001b[0m\u001b[1;33m\u001b[0m\u001b[1;33m\u001b[0m\u001b[0m\n\u001b[0m\u001b[0;32m      7\u001b[0m \u001b[0mprint\u001b[0m\u001b[1;33m(\u001b[0m\u001b[0mmy_tupple\u001b[0m\u001b[1;33m)\u001b[0m\u001b[1;33m\u001b[0m\u001b[1;33m\u001b[0m\u001b[0m\n",
      "\u001b[1;31mTypeError\u001b[0m: 'tuple' object does not support item assignment"
     ]
    }
   ],
   "source": [
    "# defind the  tuple \n",
    "my_tuple = ('mango','yellow','green','blue')\n",
    "\n",
    "# changing the element of tuple\n",
    "# this is not valid since tuple elements are immutable\n",
    "my_tuple[0]='orange'\n",
    "print(my_tupple)"
   ]
  },
  {
   "cell_type": "markdown",
   "id": "701d8a6e",
   "metadata": {},
   "source": [
    "#  Delete operation on tuple"
   ]
  },
  {
   "cell_type": "code",
   "execution_count": 59,
   "id": "ea5d8f6b",
   "metadata": {},
   "outputs": [],
   "source": [
    "# define the tuple\n",
    "my_tupple=['mango','yellow','green','blue',353,363.2,'w']\n",
    "\n",
    "del my_tupple[0]"
   ]
  },
  {
   "cell_type": "code",
   "execution_count": 60,
   "id": "3988acea-4346-44a8-9d04-bcd2d9273451",
   "metadata": {},
   "outputs": [
    {
     "data": {
      "text/plain": [
       "['yellow', 'green', 'blue', 353, 363.2, 'w']"
      ]
     },
     "execution_count": 60,
     "metadata": {},
     "output_type": "execute_result"
    }
   ],
   "source": [
    "my_tupple"
   ]
  },
  {
   "cell_type": "code",
   "execution_count": 61,
   "id": "9f0e5add-6f6c-43be-8979-f6759ad7c5f9",
   "metadata": {},
   "outputs": [
    {
     "data": {
      "text/plain": [
       "6"
      ]
     },
     "execution_count": 61,
     "metadata": {},
     "output_type": "execute_result"
    }
   ],
   "source": [
    "len(my_tupple)      # len like how many element are in our data number of our store data"
   ]
  },
  {
   "cell_type": "markdown",
   "id": "aae70ea8",
   "metadata": {},
   "source": [
    "# Tuple Methods"
   ]
  },
  {
   "cell_type": "raw",
   "id": "79216bdd",
   "metadata": {},
   "source": [
    "python has two built-in methods that you can use on tuples:\n",
    "count()\n",
    "index()\n",
    "sorted()\n",
    "returns the number of times a specified value occurs in a tuple"
   ]
  },
  {
   "cell_type": "markdown",
   "id": "4c5277eb",
   "metadata": {},
   "source": [
    "#  COUNT()"
   ]
  },
  {
   "cell_type": "code",
   "execution_count": 63,
   "id": "8659d9f2",
   "metadata": {},
   "outputs": [
    {
     "data": {
      "text/plain": [
       "4"
      ]
     },
     "execution_count": 63,
     "metadata": {},
     "output_type": "execute_result"
    }
   ],
   "source": [
    "my_tupple=('a','p','p','i','e','e','d','e','d','e','a','c','w')\n",
    "my_tupple.count('e')                              # like how many times in e  in this tuupple"
   ]
  },
  {
   "cell_type": "markdown",
   "id": "200557db",
   "metadata": {},
   "source": [
    "#  index()"
   ]
  },
  {
   "cell_type": "code",
   "execution_count": 98,
   "id": "51d7ecd1",
   "metadata": {},
   "outputs": [
    {
     "data": {
      "text/plain": [
       "3"
      ]
     },
     "execution_count": 98,
     "metadata": {},
     "output_type": "execute_result"
    }
   ],
   "source": [
    "my_tuple=('a','p','p','i','e','e','d','e','d','e','a','c','w')\n",
    "my_tuple.index('i')"
   ]
  },
  {
   "cell_type": "markdown",
   "id": "b437844e",
   "metadata": {},
   "source": [
    "#   sorted()"
   ]
  },
  {
   "cell_type": "code",
   "execution_count": 99,
   "id": "8082ee9a",
   "metadata": {},
   "outputs": [
    {
     "data": {
      "text/plain": [
       "[2, 2, 3, 3, 4, 5, 6, 7, 8, 9, 9]"
      ]
     },
     "execution_count": 99,
     "metadata": {},
     "output_type": "execute_result"
    }
   ],
   "source": [
    "my_tuple=(2,3,5,6,4,7,8,9,9,2,3)\n",
    "sorted(my_tuple)"
   ]
  },
  {
   "cell_type": "markdown",
   "id": "ee928bb5",
   "metadata": {},
   "source": [
    "# Introduction to Dictionary"
   ]
  },
  {
   "cell_type": "raw",
   "id": "901a6326",
   "metadata": {},
   "source": [
    "General Syntax Of Dictionary\n",
    "dictionary_name={key_1:value_1.\n",
    "                 key_2:value_2\n",
    "                 key_3:value_3\n",
    "                 }\n",
    "                 \n",
    "                 \n",
    "                 \n",
    "                 \n",
    "                 \n",
    "Create Dictionary"
   ]
  },
  {
   "cell_type": "code",
   "execution_count": 64,
   "id": "0bd22905",
   "metadata": {},
   "outputs": [
    {
     "name": "stdout",
     "output_type": "stream",
     "text": [
      "{'Prakash': 82847, 'Ashutosh': 83837, 'Vishwajit': 94766}\n"
     ]
    }
   ],
   "source": [
    "# create dictionry \n",
    "payment={\n",
    "    'Prakash' :82847,\n",
    "    'Ashutosh':83837,\n",
    "    'Vishwajit':94766\n",
    "}\n",
    "print(payment)"
   ]
  },
  {
   "cell_type": "markdown",
   "id": "8d040ad0",
   "metadata": {},
   "source": [
    "# Accessing items"
   ]
  },
  {
   "cell_type": "code",
   "execution_count": 65,
   "id": "1cede172",
   "metadata": {},
   "outputs": [
    {
     "data": {
      "text/plain": [
       "82847"
      ]
     },
     "execution_count": 65,
     "metadata": {},
     "output_type": "execute_result"
    }
   ],
   "source": [
    "# Get the value of 'mia' key\n",
    "x=payment['Prakash']\n",
    "x"
   ]
  },
  {
   "cell_type": "code",
   "execution_count": 66,
   "id": "58d98ea5",
   "metadata": {},
   "outputs": [
    {
     "data": {
      "text/plain": [
       "83837"
      ]
     },
     "execution_count": 66,
     "metadata": {},
     "output_type": "execute_result"
    }
   ],
   "source": [
    "x=payment['Ashutosh']\n",
    "x"
   ]
  },
  {
   "cell_type": "markdown",
   "id": "247125ff",
   "metadata": {},
   "source": [
    "#  Chenge Values in Dictionary"
   ]
  },
  {
   "cell_type": "code",
   "execution_count": 103,
   "id": "8b5bb29b",
   "metadata": {},
   "outputs": [
    {
     "data": {
      "text/plain": [
       "{2015: 34500, 2016: 34300, 2017: 40000}"
      ]
     },
     "execution_count": 103,
     "metadata": {},
     "output_type": "execute_result"
    }
   ],
   "source": [
    "# create a dictinary\n",
    "year_sales={\n",
    "  2015:34500,\n",
    "  2016:34300,\n",
    "  2017:40000\n",
    "}\n",
    "year_sales"
   ]
  },
  {
   "cell_type": "code",
   "execution_count": 104,
   "id": "c632f50f",
   "metadata": {},
   "outputs": [
    {
     "data": {
      "text/plain": [
       "{2015: 45000, 2016: 34300, 2017: 40000}"
      ]
     },
     "execution_count": 104,
     "metadata": {},
     "output_type": "execute_result"
    }
   ],
   "source": [
    "# change the sales figure for 2015\n",
    "year_sales[2015]=45000\n",
    "year_sales"
   ]
  },
  {
   "cell_type": "markdown",
   "id": "127868c8",
   "metadata": {},
   "source": [
    "# Dictionary Length"
   ]
  },
  {
   "cell_type": "code",
   "execution_count": 105,
   "id": "9a1a4ffd",
   "metadata": {},
   "outputs": [
    {
     "name": "stdout",
     "output_type": "stream",
     "text": [
      "3\n"
     ]
    }
   ],
   "source": [
    "# print the length of dictionary\n",
    "print(len(year_sales))"
   ]
  },
  {
   "cell_type": "markdown",
   "id": "e07fdc64",
   "metadata": {},
   "source": [
    "# Adding items"
   ]
  },
  {
   "cell_type": "code",
   "execution_count": 106,
   "id": "244a1ed2",
   "metadata": {},
   "outputs": [
    {
     "data": {
      "text/plain": [
       "{2015: 34500, 2016: 34300, 2017: 40000, '2018': 55000}"
      ]
     },
     "execution_count": 106,
     "metadata": {},
     "output_type": "execute_result"
    }
   ],
   "source": [
    "# create a dictinary\n",
    "year_sales={\n",
    "  2015:34500,\n",
    "  2016:34300,\n",
    "  2017:40000\n",
    "}\n",
    "year_sales['2018']=55000\n",
    "year_sales"
   ]
  },
  {
   "cell_type": "markdown",
   "id": "4f82cdcc",
   "metadata": {},
   "source": [
    "#  length"
   ]
  },
  {
   "cell_type": "code",
   "execution_count": 107,
   "id": "ec0d3403",
   "metadata": {},
   "outputs": [
    {
     "name": "stdout",
     "output_type": "stream",
     "text": [
      "4\n"
     ]
    }
   ],
   "source": [
    "# print the length of dictionary\n",
    "print(len(year_sales))"
   ]
  },
  {
   "cell_type": "markdown",
   "id": "af12ae94",
   "metadata": {},
   "source": [
    "# Dictionry Method"
   ]
  },
  {
   "cell_type": "raw",
   "id": "618b50c1",
   "metadata": {},
   "source": [
    "There are several methods to remove items from a dictinary:\n",
    "pop() method\n",
    "popitem() method\n",
    "del keywords\n",
    "clear keyword\n",
    "sorted()\n",
    "update()"
   ]
  },
  {
   "cell_type": "code",
   "execution_count": 108,
   "id": "748e5aa6",
   "metadata": {},
   "outputs": [
    {
     "data": {
      "text/plain": [
       "{2016: 34300, 2017: 40000}"
      ]
     },
     "execution_count": 108,
     "metadata": {},
     "output_type": "execute_result"
    }
   ],
   "source": [
    "# create a Dictionary\n",
    "year_sales={\n",
    "  2015:34500,\n",
    "  2016:34300,\n",
    "  2017:40000\n",
    "}\n",
    "# remove key from dictionary\n",
    "year_sales.pop(2015)\n",
    "\n",
    "year_sales"
   ]
  },
  {
   "cell_type": "markdown",
   "id": "e90dfa04",
   "metadata": {},
   "source": [
    "# popitmes()"
   ]
  },
  {
   "cell_type": "code",
   "execution_count": 109,
   "id": "f83bbb02",
   "metadata": {},
   "outputs": [
    {
     "data": {
      "text/plain": [
       "{2015: 34500, 2016: 34300}"
      ]
     },
     "execution_count": 109,
     "metadata": {},
     "output_type": "execute_result"
    }
   ],
   "source": [
    "# create a Dictionary\n",
    "year_sales={\n",
    "  2015:34500,\n",
    "  2016:34300,\n",
    "  2017:40000\n",
    "}\n",
    "# remove key from dictionary\n",
    "year_sales.popitem()\n",
    "\n",
    "year_sales"
   ]
  },
  {
   "cell_type": "markdown",
   "id": "53796934",
   "metadata": {},
   "source": [
    "#  Del keywords"
   ]
  },
  {
   "cell_type": "code",
   "execution_count": 110,
   "id": "039f9b58",
   "metadata": {},
   "outputs": [
    {
     "data": {
      "text/plain": [
       "{2016: 34300, 2017: 40000}"
      ]
     },
     "execution_count": 110,
     "metadata": {},
     "output_type": "execute_result"
    }
   ],
   "source": [
    "# create a Dictionary\n",
    "year_sales={\n",
    "  2015:34500,\n",
    "  2016:34300,\n",
    "  2017:40000\n",
    "}\n",
    "# delete item from dictionary\n",
    "del year_sales[2015]\n",
    "\n",
    "year_sales"
   ]
  },
  {
   "cell_type": "markdown",
   "id": "cf1a2e3b",
   "metadata": {},
   "source": [
    "#  clear ()"
   ]
  },
  {
   "cell_type": "code",
   "execution_count": 111,
   "id": "e3cddd3a",
   "metadata": {},
   "outputs": [
    {
     "data": {
      "text/plain": [
       "{}"
      ]
     },
     "execution_count": 111,
     "metadata": {},
     "output_type": "execute_result"
    }
   ],
   "source": [
    "# create a Dictionary\n",
    "year_sales={\n",
    "  2015:34500,\n",
    "  2016:34300,\n",
    "  2017:40000\n",
    "}\n",
    "# clear the dictionary\n",
    "year_sales.clear()\n",
    "\n",
    "year_sales"
   ]
  },
  {
   "cell_type": "markdown",
   "id": "ff09f21b",
   "metadata": {},
   "source": [
    "# Copy"
   ]
  },
  {
   "cell_type": "code",
   "execution_count": 112,
   "id": "207bf1ca",
   "metadata": {},
   "outputs": [],
   "source": [
    "# create a Dictionary\n",
    "year_sales={\n",
    "  2015:34500,\n",
    "  2016:34300,\n",
    "  2017:40000\n",
    "}\n",
    "# make a copy of dictionary\n",
    "copy_dict=year_sales.copy()"
   ]
  },
  {
   "cell_type": "markdown",
   "id": "14f0b84f",
   "metadata": {},
   "source": [
    "# sorted ()"
   ]
  },
  {
   "cell_type": "code",
   "execution_count": 113,
   "id": "914824db",
   "metadata": {},
   "outputs": [
    {
     "data": {
      "text/plain": [
       "[1, 3, 5, 7, 9]"
      ]
     },
     "execution_count": 113,
     "metadata": {},
     "output_type": "execute_result"
    }
   ],
   "source": [
    "square={1:1,3:9,5:25,7:49,9:81}\n",
    "sorted(square)"
   ]
  },
  {
   "cell_type": "markdown",
   "id": "8352f0cc",
   "metadata": {},
   "source": [
    "#  update()"
   ]
  },
  {
   "cell_type": "code",
   "execution_count": 114,
   "id": "3e4324aa",
   "metadata": {},
   "outputs": [
    {
     "data": {
      "text/plain": [
       "{2015: 34500, 2016: 34300, 2017: 40000, 2018: 30000}"
      ]
     },
     "execution_count": 114,
     "metadata": {},
     "output_type": "execute_result"
    }
   ],
   "source": [
    "# create a Dictionary\n",
    "year_sales={\n",
    "  2015:34500,\n",
    "  2016:34300,\n",
    "  2017:40000\n",
    "}\n",
    "# update dictionary\n",
    "year_sales.update({2018:30000})\n",
    "\n",
    "year_sales"
   ]
  },
  {
   "cell_type": "markdown",
   "id": "1eb1b59e",
   "metadata": {},
   "source": [
    "# Introduction To Sets\n",
    "\n",
    "\n",
    "\n",
    "create sets"
   ]
  },
  {
   "cell_type": "code",
   "execution_count": 115,
   "id": "cc89567f",
   "metadata": {},
   "outputs": [
    {
     "name": "stdout",
     "output_type": "stream",
     "text": [
      "{1, 2, 3, 4}\n"
     ]
    },
    {
     "data": {
      "text/plain": [
       "{1, 2, 3, 4}"
      ]
     },
     "execution_count": 115,
     "metadata": {},
     "output_type": "execute_result"
    }
   ],
   "source": [
    "# create a set\n",
    "s={1,2,3,3,4,3,3,2,2,2}\n",
    "print(s)\n",
    "\n",
    "#create a set\n",
    "set([1,2,3,4,4,4])"
   ]
  },
  {
   "cell_type": "code",
   "execution_count": 116,
   "id": "6a5b59fb",
   "metadata": {},
   "outputs": [
    {
     "name": "stdout",
     "output_type": "stream",
     "text": [
      "alphabates: {1, 2, 3, 4, 'a'}\n"
     ]
    }
   ],
   "source": [
    "s={1,2,3,3,4,3,3,2,2,2}\n",
    "# adding'a'\n",
    "s.add('a')\n",
    "print('alphabates:',s)"
   ]
  },
  {
   "cell_type": "code",
   "execution_count": 23,
   "id": "bec4e97b",
   "metadata": {},
   "outputs": [],
   "source": [
    "list1 = [1, 2, 3]\n",
    "list2 = [5, 6, 7]\n",
    "list3 = [10, 11, 12]\n",
    "\n",
    "# Lists converted to sets\n",
    "set1 = set(list2)\n",
    "set2 = set(list1)\n",
    "\n",
    "# Update method\n",
    "set1.update(set2)"
   ]
  },
  {
   "cell_type": "code",
   "execution_count": 18,
   "id": "505037d1",
   "metadata": {},
   "outputs": [
    {
     "data": {
      "text/plain": [
       "{5, 6, 7}"
      ]
     },
     "execution_count": 18,
     "metadata": {},
     "output_type": "execute_result"
    }
   ],
   "source": [
    "set2"
   ]
  },
  {
   "cell_type": "code",
   "execution_count": 24,
   "id": "986d2e7d",
   "metadata": {},
   "outputs": [
    {
     "name": "stdout",
     "output_type": "stream",
     "text": [
      "Letters are: {'g', 's', 'k', 'e'}\n",
      "Letters are: {'g', 's', 'k', 'e'}\n"
     ]
    }
   ],
   "source": [
    "# set of letters\n",
    "GEEK = {'g', 'e', 'k'}\n",
    " \n",
    "# adding 's'\n",
    "GEEK.add('s')\n",
    "print(\"Letters are:\", GEEK)\n",
    " \n",
    "# adding 's' again\n",
    "GEEK.add('s')\n",
    "print(\"Letters are:\", GEEK)"
   ]
  },
  {
   "cell_type": "code",
   "execution_count": 25,
   "id": "5c4856fd",
   "metadata": {},
   "outputs": [
    {
     "name": "stdout",
     "output_type": "stream",
     "text": [
      "The length of set is: 3\n"
     ]
    }
   ],
   "source": [
    "# Python program to find the length\n",
    "# of set\n",
    "  \n",
    "set1 = set()  \n",
    "    \n",
    "# Adding element and tuple to the Set \n",
    "set1.add(8) \n",
    "set1.add(9) \n",
    "set1.add((6, 7)) \n",
    "  \n",
    "print(\"The length of set is:\", len(set1))"
   ]
  },
  {
   "cell_type": "code",
   "execution_count": 121,
   "id": "be48e889",
   "metadata": {},
   "outputs": [
    {
     "name": "stdout",
     "output_type": "stream",
     "text": [
      "{1, 2, 3, 4, 5, 6, 7, 8, 9}\n",
      "{1, 2, 3, 4, 6, 7, 8, 9}\n"
     ]
    }
   ],
   "source": [
    "numbers = {1,2,3,4,5,6,7,8,9}\n",
    "print(numbers)\n",
    "\n",
    "# Deleting 5 from the set\n",
    "numbers.remove(5)\n",
    "\n",
    "# printing the resultant set\n",
    "print(numbers)"
   ]
  },
  {
   "cell_type": "code",
   "execution_count": 122,
   "id": "457c30b7",
   "metadata": {},
   "outputs": [
    {
     "name": "stdout",
     "output_type": "stream",
     "text": [
      "{9, 1}\n"
     ]
    }
   ],
   "source": [
    "s1 = {9, 1, 0}\n",
    "s1.pop()\n",
    "print(s1)"
   ]
  },
  {
   "cell_type": "markdown",
   "id": "e98e2aaa-32af-4d7f-8bde-3b8c022f21fc",
   "metadata": {},
   "source": [
    "python has the following methods that you can use on sets:<bar>\n",
    "add()<bar>\n",
    "update()<bar>\n",
    "len()<bar>\n",
    "removed()<bar>\n",
    "pop()<bar>"
   ]
  },
  {
   "cell_type": "markdown",
   "id": "dabea34e",
   "metadata": {},
   "source": [
    "<a='loops'> </a>"
   ]
  },
  {
   "cell_type": "markdown",
   "id": "3d7c8405",
   "metadata": {},
   "source": [
    "## ## Conditional Stetement and Loops"
   ]
  },
  {
   "cell_type": "raw",
   "id": "5b0e513e",
   "metadata": {},
   "source": [
    "<a id='if satement'> </a"
   ]
  },
  {
   "cell_type": "markdown",
   "id": "3a9dd632",
   "metadata": {},
   "source": [
    "## 5.1 if statement"
   ]
  },
  {
   "cell_type": "markdown",
   "id": "d03170b0",
   "metadata": {},
   "source": [
    "if BOOLEAN EXPRESSION:\n",
    "STATEMENT"
   ]
  },
  {
   "cell_type": "markdown",
   "id": "9670ef12",
   "metadata": {},
   "source": [
    "Now, We will see some examples on if statements"
   ]
  },
  {
   "cell_type": "code",
   "execution_count": 123,
   "id": "4ab089aa",
   "metadata": {},
   "outputs": [
    {
     "name": "stdout",
     "output_type": "stream",
     "text": [
      "pythonTutorial\n"
     ]
    }
   ],
   "source": [
    "# Create a string\n",
    "my_string='python'\n",
    "\n",
    "# create a list\n",
    "my_list=['Data scince','Machine learning','Artificial Intelligence','python']\n",
    "\n",
    "if my_string in my_list:\n",
    "    print(my_string+'Tutorial')"
   ]
  },
  {
   "cell_type": "code",
   "execution_count": 124,
   "id": "4b172e74",
   "metadata": {},
   "outputs": [
    {
     "name": "stdout",
     "output_type": "stream",
     "text": [
      "python Tutorial\n"
     ]
    }
   ],
   "source": [
    "# Create a string\n",
    "my_string='python'\n",
    "\n",
    "# create a list\n",
    "my_list=['Data scince','Machine learning','Artificial Intelligence','python']\n",
    "\n",
    "if my_string in my_list:\n",
    "    print(my_string+' Tutorial')"
   ]
  },
  {
   "cell_type": "markdown",
   "id": "b633a0c2",
   "metadata": {},
   "source": [
    "Test if an item is a member of a list or not."
   ]
  },
  {
   "cell_type": "code",
   "execution_count": 125,
   "id": "44a7e99c",
   "metadata": {},
   "outputs": [
    {
     "name": "stdout",
     "output_type": "stream",
     "text": [
      "right\n"
     ]
    }
   ],
   "source": [
    "languages=['java','python','perl','ruby','c#']\n",
    "if 'python' in languages:\n",
    "    print('right')"
   ]
  },
  {
   "cell_type": "markdown",
   "id": "a907f6bc",
   "metadata": {},
   "source": [
    "#  5.2 if else statement"
   ]
  },
  {
   "cell_type": "raw",
   "id": "f6616c36",
   "metadata": {},
   "source": [
    "if BOOLEAN EXPRESSION: \n",
    "STATEMENT_1\n",
    "\n",
    "else:\n",
    "STATEMENT_2"
   ]
  },
  {
   "cell_type": "code",
   "execution_count": 126,
   "id": "72583875",
   "metadata": {},
   "outputs": [
    {
     "name": "stdout",
     "output_type": "stream",
     "text": [
      "200\n",
      "the value of x different from 500\n"
     ]
    }
   ],
   "source": [
    "# creat a integer\n",
    "x=200\n",
    "print(x)\n",
    "\n",
    "# use the not operator to reverse the result of the logical expression\n",
    "if not x==500:\n",
    "    print('the value of x different from 500')\n",
    "else:\n",
    "    print('the value of x is equal to 500')\n"
   ]
  },
  {
   "cell_type": "code",
   "execution_count": 127,
   "id": "3acfdfc6",
   "metadata": {},
   "outputs": [
    {
     "name": "stdout",
     "output_type": "stream",
     "text": [
      "enter your userid82\n",
      "enter your passwordpassword\n",
      "please check your userid and password\n"
     ]
    }
   ],
   "source": [
    "string1=str(input('enter your userid'))\n",
    "string2=str(input('enter your password'))\n",
    "\n",
    "if (string1=='greatlearning' and string2=='simplelearning123'):\n",
    "    print('succefully logged in!!')\n",
    "else:\n",
    "    print('please check your userid and password')"
   ]
  },
  {
   "cell_type": "markdown",
   "id": "fa97fbcb",
   "metadata": {},
   "source": [
    "<a id ='if elif else'> </a>\n",
    "## 5.3 if elif else"
   ]
  },
  {
   "cell_type": "raw",
   "id": "bbe8b299",
   "metadata": {},
   "source": [
    "** syntax of if elif else:**<bar>\n",
    "    if x <y:<bar>\n",
    "&nbsp;&nbsp;    STATEMENT_A<bar>\n",
    "elif x > y:<bar>\n",
    "&nbsp;&nbsp     STATEMENT_B<bar>\n",
    "else:<bar>\n",
    "&nbsp;&nbsp;    STATEMENT_C"
   ]
  },
  {
   "cell_type": "raw",
   "id": "1e6513d3",
   "metadata": {},
   "source": [
    "**Here is the flow chart of if elif else:**\n",
    "               <img src = 'flowchart_if_elif.png'>"
   ]
  },
  {
   "cell_type": "raw",
   "id": "0067ae4e",
   "metadata": {},
   "source": [
    "Check whether the given number is greter than 50 or not"
   ]
  },
  {
   "cell_type": "code",
   "execution_count": 128,
   "id": "e3023154",
   "metadata": {},
   "outputs": [
    {
     "name": "stdout",
     "output_type": "stream",
     "text": [
      "number is greter than 50\n"
     ]
    }
   ],
   "source": [
    "num=100\n",
    "if (num==0):\n",
    "    print('number is zero')\n",
    "elif(num > 5):\n",
    "        print('number is greter than 50')\n",
    "else:\n",
    "    print('number is smaller than 50')"
   ]
  },
  {
   "cell_type": "markdown",
   "id": "d5c7f5e8",
   "metadata": {},
   "source": [
    "<a id = 'nested_if'> </a>\n",
    "# 5.4 nested if and if else statement"
   ]
  },
  {
   "cell_type": "code",
   "execution_count": 129,
   "id": "f1fcb90b",
   "metadata": {},
   "outputs": [
    {
     "name": "stdout",
     "output_type": "stream",
     "text": [
      "Enter a number:82\n",
      "positive number\n"
     ]
    }
   ],
   "source": [
    "num=float(input('Enter a number:'))\n",
    "if num>=0:\n",
    "    if num == 0:\n",
    "         print('zero')\n",
    "    else:\n",
    "        print('positive number')\n",
    "else:\n",
    "    print('negative number')"
   ]
  },
  {
   "cell_type": "markdown",
   "id": "ae3ae291",
   "metadata": {},
   "source": [
    "<a id='forloop'> </a>\n",
    "# 5.5 for loop"
   ]
  },
  {
   "cell_type": "code",
   "execution_count": 27,
   "id": "590955d7",
   "metadata": {},
   "outputs": [
    {
     "name": "stdout",
     "output_type": "stream",
     "text": [
      "The sum is 2068\n"
     ]
    }
   ],
   "source": [
    "# program to find the sum of all numbers stored in a list\n",
    "\n",
    "# list of numbers\n",
    "numbers = [66,545,223,438,224,122,125,214,111]\n",
    "# variable to store the sum \n",
    "sum=0\n",
    "# iterate over the list\n",
    "for val in numbers:\n",
    "    sum=sum+val\n",
    "    \n",
    "# output the sum is\n",
    "print('The sum is',sum)"
   ]
  },
  {
   "cell_type": "markdown",
   "id": "02a6ced6",
   "metadata": {},
   "source": [
    "<a id='whileloop'> </a>\n",
    "## 5.6while loop"
   ]
  },
  {
   "cell_type": "raw",
   "id": "45d86a61",
   "metadata": {},
   "source": [
    "calculate the sum of the integers from 0 to 9"
   ]
  },
  {
   "cell_type": "code",
   "execution_count": 131,
   "id": "7182b31b",
   "metadata": {},
   "outputs": [
    {
     "name": "stdout",
     "output_type": "stream",
     "text": [
      "the sum of first 9 integers :  45\n"
     ]
    }
   ],
   "source": [
    "a=0\n",
    "b=0\n",
    "while (a<10):\n",
    "    b=b+a\n",
    "    a=a+1\n",
    "else:\n",
    "    print('the sum of first 9 integers : ',b)"
   ]
  },
  {
   "cell_type": "markdown",
   "id": "45527903",
   "metadata": {},
   "source": [
    "<a id='break_statement'> </a>\n",
    "## 5.7 break statement"
   ]
  },
  {
   "cell_type": "code",
   "execution_count": 132,
   "id": "55c8771e",
   "metadata": {},
   "outputs": [
    {
     "name": "stdout",
     "output_type": "stream",
     "text": [
      "82\n",
      "95\n",
      "125\n",
      "165\n",
      "250\n",
      "no nigetive numbers met\n"
     ]
    }
   ],
   "source": [
    "for i in range(5):\n",
    "    a=int(input())\n",
    "    if a < 0:\n",
    "        print('Met a nigetive number', a)\n",
    "        break\n",
    "else:\n",
    "    print('no nigetive numbers met')"
   ]
  },
  {
   "cell_type": "markdown",
   "id": "70d6123d",
   "metadata": {},
   "source": [
    "# 5.8 continue statement"
   ]
  },
  {
   "cell_type": "code",
   "execution_count": 133,
   "id": "7d23a80e",
   "metadata": {},
   "outputs": [
    {
     "name": "stdout",
     "output_type": "stream",
     "text": [
      "1 2 3 4 5 7 8 9 10 "
     ]
    }
   ],
   "source": [
    "#  loop from 1 to 10\n",
    "for i in range(1,11):\n",
    "    if i ==6:\n",
    "        continue\n",
    "    else:\n",
    "        # otherwise print the value of i\n",
    "        print(i,end= ' ')"
   ]
  },
  {
   "cell_type": "raw",
   "id": "5b9f7b93",
   "metadata": {},
   "source": [
    "use the continue statement in a while loop"
   ]
  },
  {
   "cell_type": "code",
   "execution_count": 134,
   "id": "0c8200c2",
   "metadata": {},
   "outputs": [
    {
     "name": "stdout",
     "output_type": "stream",
     "text": [
      "1\n",
      "2\n",
      "4\n",
      "5\n",
      "6\n",
      "7\n",
      "8\n",
      "9\n"
     ]
    }
   ],
   "source": [
    "i=0\n",
    "while i<9:\n",
    "    i+=1\n",
    "    if i ==3:\n",
    "        continue\n",
    "    print(i)"
   ]
  },
  {
   "cell_type": "markdown",
   "id": "3e7e2c32",
   "metadata": {},
   "source": [
    "# The else Statement"
   ]
  },
  {
   "cell_type": "code",
   "execution_count": 135,
   "id": "350cebf6",
   "metadata": {},
   "outputs": [
    {
     "name": "stdout",
     "output_type": "stream",
     "text": [
      "1\n",
      "2\n",
      "3\n",
      "4\n",
      "5\n",
      "i is no longer less than 6\n"
     ]
    }
   ],
   "source": [
    "i = 1\n",
    "while i < 6:\n",
    "  print(i)\n",
    "  i += 1\n",
    "else:\n",
    "  print(\"i is no longer less than 6\")"
   ]
  },
  {
   "cell_type": "markdown",
   "id": "f2bec66a",
   "metadata": {},
   "source": [
    "# Functions"
   ]
  },
  {
   "cell_type": "raw",
   "id": "b9fc0743",
   "metadata": {},
   "source": [
    "1. Built-in functions"
   ]
  },
  {
   "cell_type": "raw",
   "id": "dd33d145",
   "metadata": {},
   "source": [
    "def fun (params):\n",
    "statement1\n",
    "statement2\n",
    "   .\n",
    "   .\n",
    "   ."
   ]
  },
  {
   "cell_type": "raw",
   "id": "c761adab",
   "metadata": {},
   "source": [
    "fun(sample_parameters)"
   ]
  },
  {
   "cell_type": "markdown",
   "id": "d631be0a",
   "metadata": {},
   "source": [
    "#  2.1 User defined functions without arguments"
   ]
  },
  {
   "cell_type": "code",
   "execution_count": 136,
   "id": "ebdc04a5",
   "metadata": {},
   "outputs": [],
   "source": [
    "def twice():\n",
    "    a = int(input('enter a number: '))\n",
    "    print(a*2)"
   ]
  },
  {
   "cell_type": "code",
   "execution_count": 137,
   "id": "feb6e611",
   "metadata": {},
   "outputs": [
    {
     "name": "stdout",
     "output_type": "stream",
     "text": [
      "enter a number: 82\n",
      "164\n"
     ]
    }
   ],
   "source": [
    "# in this function, no argument is passed \n",
    "# call the function\n",
    "twice()"
   ]
  },
  {
   "cell_type": "code",
   "execution_count": 138,
   "id": "5e717059",
   "metadata": {},
   "outputs": [],
   "source": [
    "def four():\n",
    "    a=int(input('enter a number'))\n",
    "    print(a*4)"
   ]
  },
  {
   "cell_type": "code",
   "execution_count": 140,
   "id": "4e92127c",
   "metadata": {},
   "outputs": [
    {
     "name": "stdout",
     "output_type": "stream",
     "text": [
      "enter a number950\n",
      "3800\n"
     ]
    }
   ],
   "source": [
    "four()"
   ]
  },
  {
   "cell_type": "markdown",
   "id": "1310f104",
   "metadata": {},
   "source": [
    "# 2.2 User defined functions with arguments"
   ]
  },
  {
   "cell_type": "raw",
   "id": "9dcbaf84",
   "metadata": {},
   "source": [
    "Most of the function will either 'return' a value are 'print' an output . take a note of this in the examples considered below.\n",
    "\n",
    "\n",
    "user defined function to get the average of all numbers in a sequence."
   ]
  },
  {
   "cell_type": "code",
   "execution_count": 141,
   "id": "ac56e532",
   "metadata": {},
   "outputs": [],
   "source": [
    "def average(x):\n",
    "    count=0\n",
    "    total=0\n",
    "    for i in x:\n",
    "        count+=1\n",
    "        total+=1\n",
    "    avg=total/count\n",
    "    return avg"
   ]
  },
  {
   "cell_type": "code",
   "execution_count": 142,
   "id": "536d4e6c",
   "metadata": {},
   "outputs": [],
   "source": [
    "x=(44,45,-56,44,32,-54,44,56,44,87,44,56)"
   ]
  },
  {
   "cell_type": "code",
   "execution_count": 143,
   "id": "daf157b8",
   "metadata": {},
   "outputs": [
    {
     "data": {
      "text/plain": [
       "1.0"
      ]
     },
     "execution_count": 143,
     "metadata": {},
     "output_type": "execute_result"
    }
   ],
   "source": [
    "# call the founction\n",
    "average(x)"
   ]
  },
  {
   "cell_type": "markdown",
   "id": "661ef181",
   "metadata": {},
   "source": [
    "# 2. Usage of *args."
   ]
  },
  {
   "cell_type": "code",
   "execution_count": 144,
   "id": "5659ba4d",
   "metadata": {},
   "outputs": [],
   "source": [
    "#* indicates the number of arguments can be taken\n",
    "def multiple(*args):\n",
    "    for parameter in args:\n",
    "        print(parameter)"
   ]
  },
  {
   "cell_type": "code",
   "execution_count": 145,
   "id": "dfaea483",
   "metadata": {},
   "outputs": [
    {
     "name": "stdout",
     "output_type": "stream",
     "text": [
      "Lets\n",
      "learn\n",
      "python\n",
      "for\n",
      "data\n",
      "scince\n"
     ]
    }
   ],
   "source": [
    "# call the function\n",
    "multiple('Lets','learn','python','for','data','scince')"
   ]
  },
  {
   "cell_type": "markdown",
   "id": "9f72c192",
   "metadata": {},
   "source": [
    "# usage of 'kwargs'**"
   ]
  },
  {
   "cell_type": "code",
   "execution_count": 146,
   "id": "5ce8acd7",
   "metadata": {},
   "outputs": [],
   "source": [
    "def function(**kwargs):\n",
    "    for a,b in kwargs.items():\n",
    "        print(a,'==',b)"
   ]
  },
  {
   "cell_type": "code",
   "execution_count": 147,
   "id": "f1ca0fc7",
   "metadata": {},
   "outputs": [
    {
     "name": "stdout",
     "output_type": "stream",
     "text": [
      "A == first letter\n",
      "b == Second letter\n",
      "c == Third lrtter\n"
     ]
    }
   ],
   "source": [
    "# call the function\n",
    "a=function(A= 'first letter',b='Second letter',c= 'Third lrtter')"
   ]
  },
  {
   "cell_type": "markdown",
   "id": "22797905",
   "metadata": {},
   "source": [
    "# Lambda Functions\n",
    "1.Obtain the minimum among two numbers"
   ]
  },
  {
   "cell_type": "code",
   "execution_count": 148,
   "id": "efef357e",
   "metadata": {},
   "outputs": [
    {
     "data": {
      "text/plain": [
       "34"
      ]
     },
     "execution_count": 148,
     "metadata": {},
     "output_type": "execute_result"
    }
   ],
   "source": [
    "min_value=(lambda x,y: x if x < y else y)\n",
    "min_value(34,78)"
   ]
  },
  {
   "cell_type": "markdown",
   "id": "246062d7",
   "metadata": {},
   "source": [
    "2.Check whether two strings are equal"
   ]
  },
  {
   "cell_type": "code",
   "execution_count": 149,
   "id": "9f67c28d",
   "metadata": {},
   "outputs": [
    {
     "data": {
      "text/plain": [
       "'True'"
      ]
     },
     "execution_count": 149,
     "metadata": {},
     "output_type": "execute_result"
    }
   ],
   "source": [
    "result=(lambda x, y: 'True' if x == y else 'falsee')\n",
    "result('Data','Data')"
   ]
  },
  {
   "cell_type": "markdown",
   "id": "03f18d0c",
   "metadata": {},
   "source": [
    "3.Demonstrating wrong  usuage of variable name"
   ]
  },
  {
   "cell_type": "code",
   "execution_count": 150,
   "id": "80dacbbd",
   "metadata": {},
   "outputs": [
    {
     "name": "stdout",
     "output_type": "stream",
     "text": [
      "50\n"
     ]
    }
   ],
   "source": [
    "# multiplication - wrong usage of variable\n",
    "x = lambda a,c : a+b\n",
    "print(x(5,6))"
   ]
  },
  {
   "cell_type": "markdown",
   "id": "a897986d",
   "metadata": {},
   "source": [
    "# Recursive Functions\n",
    "A function that calls itself is a recursive function. Recursive function is used when a certain problem is defined in terms of itself."
   ]
  },
  {
   "cell_type": "code",
   "execution_count": 3,
   "id": "538af57a",
   "metadata": {},
   "outputs": [
    {
     "data": {
      "text/plain": [
       "10"
      ]
     },
     "execution_count": 3,
     "metadata": {},
     "output_type": "execute_result"
    }
   ],
   "source": [
    "# calculate the sum of all numbers present in the list\n",
    "def sum_list(nums):\n",
    "    if len(nums) == 0:\n",
    "        return 0\n",
    "\n",
    "    last_num = nums.pop()\n",
    "    return last_num + sum_list(nums)\n",
    "\n",
    "num = [1,2,3,4]\n",
    "sum_list(num)"
   ]
  },
  {
   "cell_type": "code",
   "execution_count": 4,
   "id": "50131a1b",
   "metadata": {},
   "outputs": [
    {
     "name": "stdout",
     "output_type": "stream",
     "text": [
      "0 1 1 2 3 5 8 13 21 34 55 89 144 233 377 "
     ]
    }
   ],
   "source": [
    "# implementation of the fibonacci series using recursion\n",
    "def fib(n):\n",
    "    if n == 0:\n",
    "        return 0\n",
    "    elif n == 1:\n",
    "        return 1\n",
    "    else:\n",
    "        return fib(n - 1) + fib(n - 2)\n",
    " \n",
    " \n",
    "for i in range(15):\n",
    "    print(fib(i), end=\" \")"
   ]
  },
  {
   "cell_type": "code",
   "execution_count": null,
   "id": "de4109a5",
   "metadata": {},
   "outputs": [],
   "source": []
  },
  {
   "cell_type": "markdown",
   "id": "2c560a57",
   "metadata": {},
   "source": [
    "# 4. Overview of map, reduce and filter functions"
   ]
  },
  {
   "cell_type": "markdown",
   "id": "0c11405c",
   "metadata": {},
   "source": [
    "5.1 Function map()"
   ]
  },
  {
   "cell_type": "code",
   "execution_count": 151,
   "id": "016193ef",
   "metadata": {},
   "outputs": [
    {
     "name": "stdout",
     "output_type": "stream",
     "text": [
      "[44.44444444444444, 51.111111111111114, 75.55555555555556, 100.0, 73.33333333333333, 22.22222222222222, 95.55555555555556, 51.111111111111114, 60.0, 75.55555555555556, 82.22222222222223, 97.77777777777777, 93.33333333333333, 95.55555555555556]\n"
     ]
    }
   ],
   "source": [
    "marks = [20,23,34,45,33,10,43,23,27,34,37,44,42,43]\n",
    "print(list(map(lambda x,y=100:x*y/45,marks)))"
   ]
  },
  {
   "cell_type": "markdown",
   "id": "04e7526c",
   "metadata": {},
   "source": [
    "# Function filter"
   ]
  },
  {
   "cell_type": "code",
   "execution_count": 157,
   "id": "ed5bcc7f",
   "metadata": {},
   "outputs": [
    {
     "name": "stdout",
     "output_type": "stream",
     "text": [
      "Type of filter object:   <class 'filter'>\n",
      "Even numbers as follows:  [34, 458, 456, 578]\n"
     ]
    }
   ],
   "source": [
    "numbers = [121,443,477,125,34,655,458,141,363,125,456,578,123]\n",
    "\n",
    "# function that filters the numbers\n",
    "def evennumber(in_num):\n",
    "    if(in_num % 2) ==0:\n",
    "        return True\n",
    "    else:\n",
    "        return False\n",
    "    \n",
    "# use filter() to removed odd numbers\n",
    "out_filter_number = filter(evennumber,numbers)\n",
    "\n",
    "print(\"Type of filter object:  \", type(out_filter_number))\n",
    "print(\"Even numbers as follows: \", list(out_filter_number))"
   ]
  },
  {
   "cell_type": "markdown",
   "id": "f7e34a95",
   "metadata": {},
   "source": [
    "#  2. To obtain the sum of square of even number from 1 to 50"
   ]
  },
  {
   "cell_type": "code",
   "execution_count": 5,
   "id": "deb119e4",
   "metadata": {},
   "outputs": [
    {
     "name": "stdout",
     "output_type": "stream",
     "text": [
      "[1, 9, 25, 49, 81, 121, 169, 225, 289, 361, 441, 529, 625, 729, 841, 961, 1089, 1225, 1369, 1521, 1681, 1849, 2025, 2209, 2401]\n"
     ]
    },
    {
     "data": {
      "text/plain": [
       "20825"
      ]
     },
     "execution_count": 5,
     "metadata": {},
     "output_type": "execute_result"
    }
   ],
   "source": [
    "# sum of cubes of odd numbers from 1 to 50\n",
    "\n",
    "# user drfined function to obtain the cube\n",
    "def cube(x):\n",
    "    return(x*x)\n",
    "\n",
    "# user defined function to obtain odds numbers from a list\n",
    "def isodd(x):\n",
    "    return(x%2==1)\n",
    "# create a list of all cubes\n",
    "list_cubes=list(map(cube,filter(isodd,range(1,50))))\n",
    "print(list_cubes)\n",
    "# sum of all elementsin the in the list_cube\n",
    "sum(list_cubes)"
   ]
  },
  {
   "cell_type": "code",
   "execution_count": 6,
   "id": "8e3edd4f",
   "metadata": {},
   "outputs": [
    {
     "name": "stdout",
     "output_type": "stream",
     "text": [
      "[4, 16, 36, 64, 100, 144, 196, 256, 324, 400, 484, 576, 676, 784, 900, 1024, 1156, 1296, 1444, 1600, 1764, 1936, 2116, 2304]\n"
     ]
    },
    {
     "data": {
      "text/plain": [
       "19600"
      ]
     },
     "execution_count": 6,
     "metadata": {},
     "output_type": "execute_result"
    }
   ],
   "source": [
    "# sum of square of even numbers from 1 to 50\n",
    "# user defined function to obtain the square\n",
    "def square(x):\n",
    "    return(x**2)\n",
    "#user defined function  to obtain even numbers from a list\n",
    "def iseven(x):\n",
    "    return(x%2 == 0)\n",
    "# create a list of all square\n",
    "list_square = list(map(square,filter(iseven,range(1,50))))\n",
    "print(list_square)\n",
    "\n",
    "# sum of all elements in the list_square\n",
    "sum(list_square)"
   ]
  },
  {
   "cell_type": "code",
   "execution_count": 160,
   "id": "740aa326",
   "metadata": {},
   "outputs": [
    {
     "name": "stdout",
     "output_type": "stream",
     "text": [
      "HELLO WORLD\n"
     ]
    }
   ],
   "source": [
    "print(\"HELLO WORLD\")"
   ]
  }
 ],
 "metadata": {
  "kernelspec": {
   "display_name": "Python 3 (ipykernel)",
   "language": "python",
   "name": "python3"
  },
  "language_info": {
   "codemirror_mode": {
    "name": "ipython",
    "version": 3
   },
   "file_extension": ".py",
   "mimetype": "text/x-python",
   "name": "python",
   "nbconvert_exporter": "python",
   "pygments_lexer": "ipython3",
   "version": "3.10.11"
  }
 },
 "nbformat": 4,
 "nbformat_minor": 5
}
