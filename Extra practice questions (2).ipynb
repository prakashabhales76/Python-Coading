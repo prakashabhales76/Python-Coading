{
 "cells": [
  {
   "cell_type": "markdown",
   "id": "013a5730",
   "metadata": {},
   "source": [
    "### Complexity Level - Simple"
   ]
  },
  {
   "cell_type": "markdown",
   "id": "ad90590e",
   "metadata": {},
   "source": [
    "Q1. Create a list of first 20 natural numbers \n",
    "\n",
    "a. using for loop\n",
    "\n",
    "b. using while loop\n",
    "\n",
    "c. using list comprehension"
   ]
  },
  {
   "cell_type": "code",
   "execution_count": 1,
   "id": "fe8f6aa1",
   "metadata": {},
   "outputs": [
    {
     "data": {
      "text/plain": [
       "[1, 2, 3, 4, 5, 6, 7, 8, 9, 10, 11, 12, 13, 14, 15, 16, 17, 18, 19, 20]"
      ]
     },
     "execution_count": 1,
     "metadata": {},
     "output_type": "execute_result"
    }
   ],
   "source": [
    "li1 = []\n",
    "for i in range(1,21):\n",
    "    li1.append(i)\n",
    "li1"
   ]
  },
  {
   "cell_type": "code",
   "execution_count": 2,
   "id": "b86008f8",
   "metadata": {},
   "outputs": [
    {
     "data": {
      "text/plain": [
       "[1, 2, 3, 4, 5, 6, 7, 8, 9, 10, 11, 12, 13, 14, 15, 16, 17, 18, 19, 20]"
      ]
     },
     "execution_count": 2,
     "metadata": {},
     "output_type": "execute_result"
    }
   ],
   "source": [
    "li2 = []\n",
    "i=1\n",
    "while i<21:\n",
    "    li2.append(i)\n",
    "    i+=1\n",
    "li2"
   ]
  },
  {
   "cell_type": "code",
   "execution_count": 3,
   "id": "15b9167e",
   "metadata": {},
   "outputs": [
    {
     "data": {
      "text/plain": [
       "[1, 2, 3, 4, 5, 6, 7, 8, 9, 10, 11, 12, 13, 14, 15, 16, 17, 18, 19, 20]"
      ]
     },
     "execution_count": 3,
     "metadata": {},
     "output_type": "execute_result"
    }
   ],
   "source": [
    "l_c = [i for i in range(1,21)]\n",
    "l_c"
   ]
  },
  {
   "cell_type": "markdown",
   "id": "16d24c9e",
   "metadata": {},
   "source": [
    "Q2. Take the input of Q1 list display (Use loops, list comprehension, lambda function)\n",
    "a. alternate number\n",
    "\n",
    "b. only even numbers\n",
    "\n",
    "c. numbers greater than 5\n",
    "\n",
    "d. numbers divible by 4"
   ]
  },
  {
   "cell_type": "code",
   "execution_count": 5,
   "id": "e00eeb49",
   "metadata": {},
   "outputs": [
    {
     "name": "stdout",
     "output_type": "stream",
     "text": [
      "1 ,3 ,5 ,7 ,9 ,11 ,13 ,15 ,17 ,19 ,"
     ]
    }
   ],
   "source": [
    "# using loop\n",
    "for i in range(1,len(li1),2):\n",
    "    print(i, end=' ,')"
   ]
  },
  {
   "cell_type": "code",
   "execution_count": 6,
   "id": "f7270738",
   "metadata": {},
   "outputs": [
    {
     "data": {
      "text/plain": [
       "[2, 4, 6, 8, 10, 12, 14, 16, 18, 20]"
      ]
     },
     "execution_count": 6,
     "metadata": {},
     "output_type": "execute_result"
    }
   ],
   "source": [
    "# list comprehension\n",
    "[w for w in li2 if w%2==0]"
   ]
  },
  {
   "cell_type": "code",
   "execution_count": 7,
   "id": "80f2922d",
   "metadata": {},
   "outputs": [
    {
     "data": {
      "text/plain": [
       "[6, 7, 8, 9, 10, 11, 12, 13, 14, 15, 16, 17, 18, 19, 20]"
      ]
     },
     "execution_count": 7,
     "metadata": {},
     "output_type": "execute_result"
    }
   ],
   "source": [
    "# using lambda\n",
    "list(filter(lambda x: x>5, li1))"
   ]
  },
  {
   "cell_type": "code",
   "execution_count": 10,
   "id": "e87eac33",
   "metadata": {},
   "outputs": [
    {
     "data": {
      "text/plain": [
       "[4, 8, 12, 16, 20]"
      ]
     },
     "execution_count": 10,
     "metadata": {},
     "output_type": "execute_result"
    }
   ],
   "source": [
    "list(filter(lambda x: x%4==0, li1))"
   ]
  },
  {
   "cell_type": "markdown",
   "id": "9b9528e8",
   "metadata": {},
   "source": [
    "Q3.Take the input of Q1 list and create a dictionary (Use loops, dictionay  comprehension, lambda function)\n",
    "\n",
    "a. Key as 1, 2, 3, 4, 5 and values as numbers divible by 1, numbers divible by 2, numbers divible by 3, numbers divible by 4, numbers divible by 5\n",
    "\n",
    "b.  Key as 1, 2, 3, 4, 5 and values as count of numbers divible by 1, count of numbers divible by 2, count of numbers divible by 3, count of numbers divible by 4, count of numbers divible by 5"
   ]
  },
  {
   "cell_type": "code",
   "execution_count": 11,
   "id": "50bb2efb",
   "metadata": {},
   "outputs": [
    {
     "data": {
      "text/plain": [
       "{1: [1, 2, 3, 4, 5, 6, 7, 8, 9, 10, 11, 12, 13, 14, 15, 16, 17, 18, 19, 20],\n",
       " 2: [2, 4, 6, 8, 10, 12, 14, 16, 18, 20],\n",
       " 3: [3, 6, 9, 12, 15, 18],\n",
       " 4: [4, 8, 12, 16, 20],\n",
       " 5: [5, 10, 15, 20]}"
      ]
     },
     "execution_count": 11,
     "metadata": {},
     "output_type": "execute_result"
    }
   ],
   "source": [
    "# using loops\n",
    "d1 = dict()\n",
    "for i in range(1,6):\n",
    "    d1[i] = list(filter(lambda x:x%i==0, li1))\n",
    "d1"
   ]
  },
  {
   "cell_type": "code",
   "execution_count": 18,
   "id": "c9ac6edf",
   "metadata": {},
   "outputs": [
    {
     "data": {
      "text/plain": [
       "{1: 20, 2: 10, 3: 6, 4: 5, 5: 4}"
      ]
     },
     "execution_count": 18,
     "metadata": {},
     "output_type": "execute_result"
    }
   ],
   "source": [
    "d2 = dict()\n",
    "for i,j in enumerate(d1.values()):\n",
    "    d2[i+1] = len(j) \n",
    "d2"
   ]
  },
  {
   "cell_type": "code",
   "execution_count": 19,
   "id": "12203f0d",
   "metadata": {},
   "outputs": [
    {
     "data": {
      "text/plain": [
       "{1: [1, 2, 3, 4, 5, 6, 7, 8, 9, 10, 11, 12, 13, 14, 15, 16, 17, 18, 19, 20],\n",
       " 2: [2, 4, 6, 8, 10, 12, 14, 16, 18, 20],\n",
       " 3: [3, 6, 9, 12, 15, 18],\n",
       " 4: [4, 8, 12, 16, 20],\n",
       " 5: [5, 10, 15, 20]}"
      ]
     },
     "execution_count": 19,
     "metadata": {},
     "output_type": "execute_result"
    }
   ],
   "source": [
    "# using dictionary comprehension\n",
    "{n:[i for i in li1 if i%n==0] for n in range(1,6)}"
   ]
  },
  {
   "cell_type": "code",
   "execution_count": 20,
   "id": "fc225c21",
   "metadata": {},
   "outputs": [
    {
     "data": {
      "text/plain": [
       "{1: 20, 2: 10, 3: 6, 4: 5, 5: 4}"
      ]
     },
     "execution_count": 20,
     "metadata": {},
     "output_type": "execute_result"
    }
   ],
   "source": [
    "{n:len([i for i in li1 if i%n==0]) for n in range(1,6)}"
   ]
  },
  {
   "cell_type": "code",
   "execution_count": null,
   "id": "bb01fa0f",
   "metadata": {},
   "outputs": [],
   "source": [
    "# using lambda functions\n"
   ]
  },
  {
   "cell_type": "code",
   "execution_count": null,
   "id": "f4039aa4",
   "metadata": {},
   "outputs": [],
   "source": []
  },
  {
   "cell_type": "code",
   "execution_count": null,
   "id": "3d2fa96c",
   "metadata": {},
   "outputs": [],
   "source": []
  },
  {
   "cell_type": "markdown",
   "id": "a7f86e5c",
   "metadata": {},
   "source": [
    "Q4. Write a function to check if the given number is prime or not."
   ]
  },
  {
   "cell_type": "code",
   "execution_count": 12,
   "id": "b6afce61",
   "metadata": {},
   "outputs": [],
   "source": [
    "def primeChecker(num1):\n",
    "    if num1==0 or num1==1 or num1==2:\n",
    "        return False\n",
    "    for i in range(2, num1):\n",
    "        if num1%i==0:\n",
    "            return False\n",
    "    return True"
   ]
  },
  {
   "cell_type": "code",
   "execution_count": 22,
   "id": "84d57b14",
   "metadata": {},
   "outputs": [
    {
     "data": {
      "text/plain": [
       "True"
      ]
     },
     "execution_count": 22,
     "metadata": {},
     "output_type": "execute_result"
    }
   ],
   "source": [
    "primeChecker(23)"
   ]
  },
  {
   "cell_type": "markdown",
   "id": "2f59d8cf",
   "metadata": {},
   "source": [
    "Q5. Use the function created in Q4 and create a dictionary where keys are 'prime' and 'non-prime' and values are list of prime numbers and non-prime number respectively in given range."
   ]
  },
  {
   "cell_type": "code",
   "execution_count": 25,
   "id": "d048fa80",
   "metadata": {},
   "outputs": [
    {
     "name": "stdout",
     "output_type": "stream",
     "text": [
      "Enter the lower range: 12\n",
      "Enter the upper range: 46\n"
     ]
    },
    {
     "data": {
      "text/plain": [
       "({'prime': [13, 17, 19, 23, 29, 31, 37, 41, 43]},\n",
       " {'non prime': [12,\n",
       "   14,\n",
       "   15,\n",
       "   16,\n",
       "   18,\n",
       "   20,\n",
       "   21,\n",
       "   22,\n",
       "   24,\n",
       "   25,\n",
       "   26,\n",
       "   27,\n",
       "   28,\n",
       "   30,\n",
       "   32,\n",
       "   33,\n",
       "   34,\n",
       "   35,\n",
       "   36,\n",
       "   38,\n",
       "   39,\n",
       "   40,\n",
       "   42,\n",
       "   44,\n",
       "   45]})"
      ]
     },
     "execution_count": 25,
     "metadata": {},
     "output_type": "execute_result"
    }
   ],
   "source": [
    "ll = int(input('Enter the lower range: '))\n",
    "ul = int(input('Enter the upper range: '))\n",
    "d11 = {'prime':[w for w in range(ll, ul) if primeChecker(w)==True]}\n",
    "d22 ={'non prime':[w for w in range(ll, ul) if primeChecker(w)==False]}\n",
    "d11,d22"
   ]
  },
  {
   "cell_type": "markdown",
   "id": "ad5ff0f2",
   "metadata": {},
   "source": [
    "Q6. Use the function created in Q4 and create a dictionary where keys are 'prime' and 'non-prime' and values are count of prime numbers and non-prime numbers respectively."
   ]
  },
  {
   "cell_type": "code",
   "execution_count": 27,
   "id": "0b04003d",
   "metadata": {},
   "outputs": [
    {
     "name": "stdout",
     "output_type": "stream",
     "text": [
      "Enter the lower range: 22\n",
      "Enter the upper range: 50\n"
     ]
    },
    {
     "data": {
      "text/plain": [
       "({'prime': 7}, {'non prime': 21})"
      ]
     },
     "execution_count": 27,
     "metadata": {},
     "output_type": "execute_result"
    }
   ],
   "source": [
    "ll = int(input('Enter the lower range: '))\n",
    "ul = int(input('Enter the upper range: '))\n",
    "d11 = {'prime':len([w for w in range(ll, ul) if primeChecker(w)==True])}\n",
    "d22 ={'non prime':len([w for w in range(ll, ul) if primeChecker(w)==False])}\n",
    "d11,d22"
   ]
  },
  {
   "cell_type": "markdown",
   "id": "d53b3892",
   "metadata": {},
   "source": [
    "Q7. Add all the elements of the list created in Q1"
   ]
  },
  {
   "cell_type": "code",
   "execution_count": 28,
   "id": "f185fea2",
   "metadata": {},
   "outputs": [
    {
     "data": {
      "text/plain": [
       "210"
      ]
     },
     "execution_count": 28,
     "metadata": {},
     "output_type": "execute_result"
    }
   ],
   "source": [
    "sum(li1)"
   ]
  },
  {
   "cell_type": "markdown",
   "id": "2326de61",
   "metadata": {},
   "source": [
    "Q8. Divide the each number by 5, round the result to 2 decimal places"
   ]
  },
  {
   "cell_type": "code",
   "execution_count": 31,
   "id": "b73674aa",
   "metadata": {},
   "outputs": [
    {
     "data": {
      "text/plain": [
       "[0.2,\n",
       " 0.4,\n",
       " 0.6,\n",
       " 0.8,\n",
       " 1.0,\n",
       " 1.2,\n",
       " 1.4,\n",
       " 1.6,\n",
       " 1.8,\n",
       " 2.0,\n",
       " 2.2,\n",
       " 2.4,\n",
       " 2.6,\n",
       " 2.8,\n",
       " 3.0,\n",
       " 3.2,\n",
       " 3.4,\n",
       " 3.6,\n",
       " 3.8,\n",
       " 4.0]"
      ]
     },
     "execution_count": 31,
     "metadata": {},
     "output_type": "execute_result"
    }
   ],
   "source": [
    "[round(w/5,4) for w in li1]"
   ]
  },
  {
   "cell_type": "markdown",
   "id": "b69f9987",
   "metadata": {},
   "source": [
    "Q9. Generate a list with 20 random number between 1 to 100. Display the list in order"
   ]
  },
  {
   "cell_type": "code",
   "execution_count": 36,
   "id": "89e82835",
   "metadata": {},
   "outputs": [
    {
     "data": {
      "text/plain": [
       "[10,\n",
       " 23,\n",
       " 25,\n",
       " 25,\n",
       " 27,\n",
       " 29,\n",
       " 46,\n",
       " 47,\n",
       " 50,\n",
       " 60,\n",
       " 67,\n",
       " 72,\n",
       " 81,\n",
       " 81,\n",
       " 90,\n",
       " 96,\n",
       " 97,\n",
       " 98,\n",
       " 98,\n",
       " 99]"
      ]
     },
     "execution_count": 36,
     "metadata": {},
     "output_type": "execute_result"
    }
   ],
   "source": [
    "import numpy as np\n",
    "ran_list = [np.random.randint(1,100) for i in range(20)]\n",
    "sorted(ran_list)"
   ]
  },
  {
   "cell_type": "markdown",
   "id": "31ad3ba9",
   "metadata": {},
   "source": [
    "Q10. Find mean, mode and median of the list generated in Q9."
   ]
  },
  {
   "cell_type": "code",
   "execution_count": 41,
   "id": "379564be",
   "metadata": {},
   "outputs": [
    {
     "name": "stdout",
     "output_type": "stream",
     "text": [
      "61.05 63.5\n"
     ]
    }
   ],
   "source": [
    "arr = np.array(ran_list)\n",
    "print(arr.mean(), np.median(arr))"
   ]
  },
  {
   "cell_type": "code",
   "execution_count": 43,
   "id": "c5ad917d",
   "metadata": {},
   "outputs": [
    {
     "data": {
      "text/plain": [
       "[81, 25, 98]"
      ]
     },
     "execution_count": 43,
     "metadata": {},
     "output_type": "execute_result"
    }
   ],
   "source": [
    "mode_count = max([ran_list.count(x) for x in ran_list])\n",
    "mode = [x for x in ran_list if ran_list.count(x) == mode_count]\n",
    "mode = list(set(mode)) \n",
    "mode"
   ]
  },
  {
   "cell_type": "markdown",
   "id": "2475f514",
   "metadata": {},
   "source": [
    "Q11. Generate the frequncy  table for the list generated in Q9."
   ]
  },
  {
   "cell_type": "code",
   "execution_count": 46,
   "id": "23af3a5b",
   "metadata": {},
   "outputs": [
    {
     "data": {
      "text/plain": [
       "{23: 2,\n",
       " 25: 2,\n",
       " 90: 2,\n",
       " 99: 2,\n",
       " 81: 2,\n",
       " 98: 2,\n",
       " 96: 2,\n",
       " 46: 2,\n",
       " 50: 2,\n",
       " 67: 2,\n",
       " 29: 2,\n",
       " 97: 2,\n",
       " 10: 2,\n",
       " 47: 2,\n",
       " 72: 2,\n",
       " 60: 2,\n",
       " 27: 2}"
      ]
     },
     "execution_count": 46,
     "metadata": {},
     "output_type": "execute_result"
    }
   ],
   "source": [
    "{x:max([ran_list.count(x) for x in ran_list]) for x in ran_list}"
   ]
  },
  {
   "cell_type": "markdown",
   "id": "6256fdeb",
   "metadata": {},
   "source": [
    "Q 12. Genrate a nested list from the list generated in Q9, where each sublist will have 5 elements."
   ]
  },
  {
   "cell_type": "code",
   "execution_count": 49,
   "id": "11a9dc7b",
   "metadata": {},
   "outputs": [
    {
     "data": {
      "text/plain": [
       "[[23, 25, 90, 99, 81],\n",
       " [98, 96, 46, 50, 67],\n",
       " [29, 97, 81, 98, 10],\n",
       " [47, 72, 60, 27, 25]]"
      ]
     },
     "execution_count": 49,
     "metadata": {},
     "output_type": "execute_result"
    }
   ],
   "source": [
    "[ran_list[i:i+5] for i in range(0, len(ran_list), 5)]"
   ]
  },
  {
   "cell_type": "code",
   "execution_count": null,
   "id": "172b18a4",
   "metadata": {},
   "outputs": [],
   "source": []
  },
  {
   "cell_type": "markdown",
   "id": "c8a9ed2c",
   "metadata": {},
   "source": [
    "Q13. Generate a list of 7 strings store it as list_word.\n",
    "list_word = ['a','abc','p','pqr','x','xyz','apple','pear']\n",
    "Sort the list with respct to length of the string"
   ]
  },
  {
   "cell_type": "code",
   "execution_count": 61,
   "id": "0d8d79a4",
   "metadata": {},
   "outputs": [
    {
     "data": {
      "text/plain": [
       "['a', 'p', 'x', 'abc', 'pqr', 'xyz', 'pear', 'apple']"
      ]
     },
     "execution_count": 61,
     "metadata": {},
     "output_type": "execute_result"
    }
   ],
   "source": [
    "list_word = ['a','abc','p','pqr','x','xyz','apple','pear']\n",
    "di12=dict()\n",
    "for w in list_word:\n",
    "    di12[w] = len(w)\n",
    "sodi12=sorted(di12.items(), key=lambda x:x[1])\n",
    "list_word2 = []\n",
    "for w in sodi12:\n",
    "    list_word2.append(w[0])\n",
    "list_word2"
   ]
  },
  {
   "cell_type": "code",
   "execution_count": 9,
   "id": "e6220a51",
   "metadata": {},
   "outputs": [
    {
     "name": "stdout",
     "output_type": "stream",
     "text": [
      "['a', 'p', 'x', 'abc', 'pqr', 'xyz', 'pear', 'apple']\n"
     ]
    }
   ],
   "source": [
    "list_word = ['a', 'abc', 'p', 'pqr', 'x', 'xyz', 'apple', 'pear']\n",
    "sorted_list = sorted(list_word, key=len)\n",
    "print(sorted_list)"
   ]
  },
  {
   "cell_type": "markdown",
   "id": "8e788e6b",
   "metadata": {},
   "source": [
    "Q14. Use list_word, display the first letter in capital case."
   ]
  },
  {
   "cell_type": "code",
   "execution_count": 4,
   "id": "c48ab1df",
   "metadata": {},
   "outputs": [
    {
     "data": {
      "text/plain": [
       "['A', 'Abc', 'P', 'Pqr', 'X', 'Xyz', 'Apple', 'Pear']"
      ]
     },
     "execution_count": 4,
     "metadata": {},
     "output_type": "execute_result"
    }
   ],
   "source": [
    "[w.title() for w in list_word]"
   ]
  },
  {
   "cell_type": "code",
   "execution_count": 8,
   "id": "42b9788e",
   "metadata": {},
   "outputs": [
    {
     "name": "stdout",
     "output_type": "stream",
     "text": [
      "['A', 'Abc', 'P', 'Pqr', 'X', 'Xyz', 'Apple', 'Pear']\n"
     ]
    }
   ],
   "source": [
    "capitalized_list = [word.capitalize() for word in list_word]\n",
    "print(capitalized_list)"
   ]
  },
  {
   "cell_type": "markdown",
   "id": "2daf5655",
   "metadata": {},
   "source": [
    "Q15. Sort list_word with respect to last letter"
   ]
  },
  {
   "cell_type": "code",
   "execution_count": 68,
   "id": "f36c69c0",
   "metadata": {},
   "outputs": [],
   "source": [
    "sodi12=sorted(di12.keys(), key=lambda x:x[-1])"
   ]
  },
  {
   "cell_type": "code",
   "execution_count": 69,
   "id": "49f5c2b8",
   "metadata": {},
   "outputs": [
    {
     "data": {
      "text/plain": [
       "['a', 'abc', 'apple', 'p', 'pqr', 'pear', 'x', 'xyz']"
      ]
     },
     "execution_count": 69,
     "metadata": {},
     "output_type": "execute_result"
    }
   ],
   "source": [
    "sodi12"
   ]
  },
  {
   "cell_type": "markdown",
   "id": "b558c480",
   "metadata": {},
   "source": [
    "Q16. Create a list of word lengths of list_word. a. Use loop b. Use list comprehension"
   ]
  },
  {
   "cell_type": "code",
   "execution_count": 70,
   "id": "3cdea495",
   "metadata": {},
   "outputs": [
    {
     "data": {
      "text/plain": [
       "[1, 3, 1, 3, 1, 3, 5, 4]"
      ]
     },
     "execution_count": 70,
     "metadata": {},
     "output_type": "execute_result"
    }
   ],
   "source": [
    "[len(w) for w in list_word]"
   ]
  },
  {
   "cell_type": "code",
   "execution_count": null,
   "id": "00cde6d4",
   "metadata": {},
   "outputs": [],
   "source": []
  },
  {
   "cell_type": "markdown",
   "id": "06d709f9",
   "metadata": {},
   "source": [
    "Q17. Create a dictionary with word length as key and list of words with same length as values."
   ]
  },
  {
   "cell_type": "code",
   "execution_count": 71,
   "id": "8719ba4e",
   "metadata": {},
   "outputs": [
    {
     "data": {
      "text/plain": [
       "{1: 'x', 3: 'xyz', 5: 'apple', 4: 'pear'}"
      ]
     },
     "execution_count": 71,
     "metadata": {},
     "output_type": "execute_result"
    }
   ],
   "source": [
    "di13=dict()\n",
    "for w in list_word:\n",
    "    di13[len(w)] = w\n",
    "di13"
   ]
  },
  {
   "cell_type": "markdown",
   "id": "e6d9a98d",
   "metadata": {},
   "source": [
    "Q18. Filter the words with length more than 1"
   ]
  },
  {
   "cell_type": "code",
   "execution_count": 72,
   "id": "a977cd04",
   "metadata": {},
   "outputs": [
    {
     "data": {
      "text/plain": [
       "{1: ['a', 'p', 'x'], 3: ['abc', 'pqr', 'xyz'], 5: ['apple'], 4: ['pear']}"
      ]
     },
     "execution_count": 72,
     "metadata": {},
     "output_type": "execute_result"
    }
   ],
   "source": [
    "{len(k): [w for w in list_word if len(w)==len(k)] for k in list_word}"
   ]
  },
  {
   "cell_type": "markdown",
   "id": "6b82f5f9",
   "metadata": {},
   "source": [
    "Q19. Consider the below list list_2 = ['Cherry' , 'Banana' , 'Apple' , 'Mango' , 'Pear']. Find out the common elements of list_word and list_2. \n",
    "\n",
    "a. Use loops \n",
    "\n",
    "b. Use sets \n",
    "\n",
    "c. Use lambda function  "
   ]
  },
  {
   "cell_type": "code",
   "execution_count": 84,
   "id": "89dcd224",
   "metadata": {},
   "outputs": [
    {
     "data": {
      "text/plain": [
       "['Apple', 'Pear']"
      ]
     },
     "execution_count": 84,
     "metadata": {},
     "output_type": "execute_result"
    }
   ],
   "source": [
    "list_2 = ['Cherry' , 'Banana' , 'Apple' , 'Mango' , 'Pear']\n",
    "common_el = []\n",
    "for w in list_2:\n",
    "    if str(w).lower() in list_word:\n",
    "        common_el.append(w)\n",
    "common_el"
   ]
  },
  {
   "cell_type": "code",
   "execution_count": 85,
   "id": "5e900286",
   "metadata": {},
   "outputs": [
    {
     "data": {
      "text/plain": [
       "set()"
      ]
     },
     "execution_count": 85,
     "metadata": {},
     "output_type": "execute_result"
    }
   ],
   "source": [
    "set1 = set(list_word)\n",
    "set2 = set(list_2)\n",
    "set2.intersection(set1)"
   ]
  },
  {
   "cell_type": "code",
   "execution_count": 96,
   "id": "55c6c43b",
   "metadata": {},
   "outputs": [
    {
     "data": {
      "text/plain": [
       "['Cherry', 'Banana', 'Apple', 'Mango', 'Pear']"
      ]
     },
     "execution_count": 96,
     "metadata": {},
     "output_type": "execute_result"
    }
   ],
   "source": [
    "list_2"
   ]
  },
  {
   "cell_type": "markdown",
   "id": "173e7b01",
   "metadata": {},
   "source": [
    "Q20. For every word in list_2 replace each letter by its next letter. Letters at odd places should be replaced as capital letters. "
   ]
  },
  {
   "cell_type": "code",
   "execution_count": 97,
   "id": "1a69e255",
   "metadata": {},
   "outputs": [
    {
     "data": {
      "text/plain": [
       "['herry', 'anana', 'pple', 'ango', 'ear']"
      ]
     },
     "execution_count": 97,
     "metadata": {},
     "output_type": "execute_result"
    }
   ],
   "source": [
    "list1= []\n",
    "for w in list_2:\n",
    "    list1.append(w[1:])\n",
    "list1"
   ]
  },
  {
   "cell_type": "code",
   "execution_count": null,
   "id": "f57b2cf7",
   "metadata": {},
   "outputs": [],
   "source": []
  },
  {
   "cell_type": "markdown",
   "id": "b9ea4b50",
   "metadata": {},
   "source": [
    "Q21. Find out unique letters used in list_2"
   ]
  },
  {
   "cell_type": "code",
   "execution_count": 98,
   "id": "d2be26a1",
   "metadata": {},
   "outputs": [
    {
     "data": {
      "text/plain": [
       "{'A', 'B', 'C', 'M', 'P', 'a', 'e', 'g', 'h', 'l', 'n', 'o', 'p', 'r', 'y'}"
      ]
     },
     "execution_count": 98,
     "metadata": {},
     "output_type": "execute_result"
    }
   ],
   "source": [
    "set1 = set()\n",
    "for w in list_2:\n",
    "    for j in w:\n",
    "        if j not in set1:\n",
    "            set1.add(j)\n",
    "set1"
   ]
  },
  {
   "cell_type": "markdown",
   "id": "6a408115",
   "metadata": {},
   "source": [
    "Q22. Display the words in the list_2 eliminating vowels."
   ]
  },
  {
   "cell_type": "code",
   "execution_count": 100,
   "id": "a1d5522c",
   "metadata": {},
   "outputs": [],
   "source": [
    "def delete_vowels_from_list(word_list):\n",
    "    vowels = ['a', 'e', 'i', 'o', 'u']\n",
    "\n",
    "    for i in range(len(word_list)):\n",
    "        word = word_list[i].lower()\n",
    "        modified_word = ''\n",
    "\n",
    "        for char in word:\n",
    "            if char not in vowels:\n",
    "                modified_word += char\n",
    "\n",
    "        word_list[i] = modified_word\n",
    "\n",
    "    return word_list"
   ]
  },
  {
   "cell_type": "code",
   "execution_count": 101,
   "id": "3c23dc1c",
   "metadata": {},
   "outputs": [
    {
     "data": {
      "text/plain": [
       "['chrry', 'bnn', 'ppl', 'mng', 'pr']"
      ]
     },
     "execution_count": 101,
     "metadata": {},
     "output_type": "execute_result"
    }
   ],
   "source": [
    "delete_vowels_from_list(list_2)"
   ]
  },
  {
   "cell_type": "markdown",
   "id": "4ac1f4ed",
   "metadata": {},
   "source": [
    "Q23. Create a list of words with reverse order with words in the list_2"
   ]
  },
  {
   "cell_type": "code",
   "execution_count": 99,
   "id": "e314142d",
   "metadata": {},
   "outputs": [
    {
     "data": {
      "text/plain": [
       "['Pear', 'Mango', 'Cherry', 'Banana', 'Apple']"
      ]
     },
     "execution_count": 99,
     "metadata": {},
     "output_type": "execute_result"
    }
   ],
   "source": [
    "sorted(list_2, reverse=True)"
   ]
  },
  {
   "cell_type": "markdown",
   "id": "9a304dd9",
   "metadata": {},
   "source": [
    "## Complexity level - Medium"
   ]
  },
  {
   "cell_type": "markdown",
   "id": "94f56c44",
   "metadata": {},
   "source": [
    "Q1. For any given string find out, is it a palindrome"
   ]
  },
  {
   "cell_type": "code",
   "execution_count": 2,
   "id": "125f295a",
   "metadata": {},
   "outputs": [
    {
     "data": {
      "text/plain": [
       "'teejawhsiV'"
      ]
     },
     "execution_count": 2,
     "metadata": {},
     "output_type": "execute_result"
    }
   ],
   "source": [
    "def palindrome(sr1):\n",
    "    sr2=''\n",
    "    for w in sr1:\n",
    "        sr2 = w + sr2\n",
    "    return sr2\n",
    "palindrome(\"Vishwajeet\")"
   ]
  },
  {
   "cell_type": "code",
   "execution_count": null,
   "id": "f56d88cd",
   "metadata": {},
   "outputs": [],
   "source": []
  },
  {
   "cell_type": "markdown",
   "id": "6775b511",
   "metadata": {},
   "source": [
    "Q2. Reverse the given number. "
   ]
  },
  {
   "cell_type": "code",
   "execution_count": 5,
   "id": "4bee0934",
   "metadata": {},
   "outputs": [
    {
     "data": {
      "text/plain": [
       "[56, 34, 23, 12]"
      ]
     },
     "execution_count": 5,
     "metadata": {},
     "output_type": "execute_result"
    }
   ],
   "source": [
    "list3 = [12,23,34,56]\n",
    "list3[-1:-len(list3)-1:-1]"
   ]
  },
  {
   "cell_type": "markdown",
   "id": "1a7bc0a9",
   "metadata": {},
   "source": [
    "Q3. Add the digits at unit place and 100th place from a given number"
   ]
  },
  {
   "cell_type": "code",
   "execution_count": 8,
   "id": "b8d910b5",
   "metadata": {},
   "outputs": [
    {
     "data": {
      "text/plain": [
       "8"
      ]
     },
     "execution_count": 8,
     "metadata": {},
     "output_type": "execute_result"
    }
   ],
   "source": [
    "# 1236\n",
    "def placeAdders(num1):\n",
    "    s1 = str(num1)\n",
    "    s3 = palindrome(s1)\n",
    "    return int(s3[0])+int(s3[2])\n",
    "placeAdders(1236)"
   ]
  },
  {
   "cell_type": "markdown",
   "id": "e7a535db",
   "metadata": {},
   "source": [
    "Q4. Display all the factors of the given number"
   ]
  },
  {
   "cell_type": "code",
   "execution_count": 11,
   "id": "57cf456c",
   "metadata": {},
   "outputs": [
    {
     "data": {
      "text/plain": [
       "[1, 2, 4, 8]"
      ]
     },
     "execution_count": 11,
     "metadata": {},
     "output_type": "execute_result"
    }
   ],
   "source": [
    "def factor_dis(num1):\n",
    "    fac = []\n",
    "    for i in range(1, num1):\n",
    "        if num1%i==0:\n",
    "            fac.append(i)\n",
    "    return fac\n",
    "factor_dis(16)"
   ]
  },
  {
   "cell_type": "markdown",
   "id": "8a0bc4a0",
   "metadata": {},
   "source": [
    "Q5. Display all the prime factors for the given number"
   ]
  },
  {
   "cell_type": "code",
   "execution_count": 13,
   "id": "0f84c5de",
   "metadata": {},
   "outputs": [
    {
     "data": {
      "text/plain": [
       "[7]"
      ]
     },
     "execution_count": 13,
     "metadata": {},
     "output_type": "execute_result"
    }
   ],
   "source": [
    "def prime_factor(num1):\n",
    "    fac=[]\n",
    "    for i in range(1, num1):\n",
    "        if num1%i==0 and primeChecker(i):\n",
    "            fac.append(i)\n",
    "    return fac\n",
    "prime_factor(49)"
   ]
  },
  {
   "cell_type": "markdown",
   "id": "4f94eaca",
   "metadata": {},
   "source": [
    "Q6. Generate 2 random numbers and display product of their common factors?"
   ]
  },
  {
   "cell_type": "code",
   "execution_count": 15,
   "id": "7fc926c8",
   "metadata": {},
   "outputs": [
    {
     "data": {
      "text/plain": [
       "14345"
      ]
     },
     "execution_count": 15,
     "metadata": {},
     "output_type": "execute_result"
    }
   ],
   "source": [
    "import numpy as np\n",
    "np.random.randint(1,100)*np.random.randint(100,200)"
   ]
  },
  {
   "cell_type": "markdown",
   "id": "f00d1505",
   "metadata": {},
   "source": [
    "Q7. Create the following series 0,1,3,6,10,15......\n",
    "\n",
    "1. Accept a number n from the user and check is it part of the series\n",
    "\n",
    "2. Accept a number n from the user and generate nth number of the series"
   ]
  },
  {
   "cell_type": "code",
   "execution_count": 11,
   "id": "810cea2c",
   "metadata": {},
   "outputs": [
    {
     "name": "stdout",
     "output_type": "stream",
     "text": [
      "Enter a number: 7\n"
     ]
    },
    {
     "data": {
      "text/plain": [
       "[0, 1, 3, 6, 10, 15, 21]"
      ]
     },
     "execution_count": 11,
     "metadata": {},
     "output_type": "execute_result"
    }
   ],
   "source": [
    "lii=[]\n",
    "n= int(input(\"Enter a number: \"))\n",
    "sum = 0\n",
    "for i in range(n): # 1,2,3,4, to calculate the number like 0,1,3,6,10,15,21\n",
    "    sum+=i\n",
    "    lii.append(sum)\n",
    "    \n",
    "lii"
   ]
  },
  {
   "cell_type": "code",
   "execution_count": 21,
   "id": "2332694e",
   "metadata": {},
   "outputs": [
    {
     "name": "stdout",
     "output_type": "stream",
     "text": [
      "Enter a number: 15\n",
      "True\n"
     ]
    }
   ],
   "source": [
    "lii=[]\n",
    "n= int(input(\"Enter a number: \"))\n",
    "sum = 0\n",
    "for i in range(n):\n",
    "    sum+=i\n",
    "    lii.append(sum)\n",
    "    \n",
    "if n in lii:\n",
    "    print(\"True\")\n",
    "else:\n",
    "    print(\"False\")"
   ]
  },
  {
   "cell_type": "code",
   "execution_count": 2,
   "id": "800b9386",
   "metadata": {},
   "outputs": [
    {
     "data": {
      "text/plain": [
       "[('a', 10), ('b', 23), ('c', 24)]"
      ]
     },
     "execution_count": 2,
     "metadata": {},
     "output_type": "execute_result"
    }
   ],
   "source": [
    "l1 = ['a', 'b', 'c']\n",
    "l2 = [10, 23, 24, 25]\n",
    "list(zip(l1, l2))"
   ]
  },
  {
   "cell_type": "code",
   "execution_count": 3,
   "id": "c23a9fe7",
   "metadata": {},
   "outputs": [],
   "source": [
    "l1 = ['apple', 'guava', 'mango', 'watermelon']"
   ]
  },
  {
   "cell_type": "code",
   "execution_count": 6,
   "id": "51ffd0ee",
   "metadata": {},
   "outputs": [],
   "source": [
    "def vowel_count(list1):\n",
    "    li12 = []\n",
    "    vow = 'aeiouAEIOU'\n",
    "    for w in list1:\n",
    "        count=0\n",
    "        for char in w:\n",
    "            if char in vow:\n",
    "                count+=1\n",
    "        if count>0:\n",
    "            li12.append([w,count])\n",
    "    return li12"
   ]
  },
  {
   "cell_type": "code",
   "execution_count": 7,
   "id": "20db91c0",
   "metadata": {},
   "outputs": [
    {
     "data": {
      "text/plain": [
       "[['apple', 2], ['guava', 3], ['mango', 2], ['watermelon', 4]]"
      ]
     },
     "execution_count": 7,
     "metadata": {},
     "output_type": "execute_result"
    }
   ],
   "source": [
    "vowel_count(l1)"
   ]
  },
  {
   "cell_type": "code",
   "execution_count": null,
   "id": "493757dc",
   "metadata": {},
   "outputs": [],
   "source": []
  },
  {
   "cell_type": "code",
   "execution_count": 18,
   "id": "11c26135",
   "metadata": {},
   "outputs": [],
   "source": [
    "def count_vow(x):\n",
    "    vow = 'AEIOUaeiou' \n",
    "    count =0\n",
    "    for w in x:\n",
    "        if w in vow:\n",
    "            count+=1\n",
    "    return count"
   ]
  },
  {
   "cell_type": "code",
   "execution_count": 19,
   "id": "005a3a34",
   "metadata": {},
   "outputs": [
    {
     "data": {
      "text/plain": [
       "[2, 3, 2, 4]"
      ]
     },
     "execution_count": 19,
     "metadata": {},
     "output_type": "execute_result"
    }
   ],
   "source": [
    "list(map(count_vow, l1))"
   ]
  },
  {
   "cell_type": "code",
   "execution_count": 10,
   "id": "1ef3c8f2",
   "metadata": {},
   "outputs": [],
   "source": [
    "def vowel_ending(x):\n",
    "    vow = \"aeiouAEIOU\"\n",
    "    if x[-1] in vow:\n",
    "        return True\n",
    "    return False"
   ]
  },
  {
   "cell_type": "code",
   "execution_count": 13,
   "id": "958b3dd5",
   "metadata": {},
   "outputs": [
    {
     "data": {
      "text/plain": [
       "['apple', 'guava', 'mango']"
      ]
     },
     "execution_count": 13,
     "metadata": {},
     "output_type": "execute_result"
    }
   ],
   "source": [
    "list(filter(vowel_ending, l1))"
   ]
  },
  {
   "cell_type": "code",
   "execution_count": 14,
   "id": "2e147e00",
   "metadata": {},
   "outputs": [
    {
     "data": {
      "text/plain": [
       "[80, 51, 26]"
      ]
     },
     "execution_count": 14,
     "metadata": {},
     "output_type": "execute_result"
    }
   ],
   "source": [
    "l123 = [[32,45,3],[34, 8,9], [7,9,10]]\n",
    "list(map(lambda x:sum(x), l123))"
   ]
  },
  {
   "cell_type": "code",
   "execution_count": 20,
   "id": "58947806",
   "metadata": {},
   "outputs": [],
   "source": [
    "import functools, itertools"
   ]
  },
  {
   "cell_type": "code",
   "execution_count": 22,
   "id": "97353602",
   "metadata": {},
   "outputs": [
    {
     "data": {
      "text/plain": [
       "82"
      ]
     },
     "execution_count": 22,
     "metadata": {},
     "output_type": "execute_result"
    }
   ],
   "source": [
    "functools.reduce(lambda x,y : x+y, l2)"
   ]
  },
  {
   "cell_type": "code",
   "execution_count": 25,
   "id": "11278bd2",
   "metadata": {},
   "outputs": [
    {
     "data": {
      "text/plain": [
       "[10, 33, 57, 82]"
      ]
     },
     "execution_count": 25,
     "metadata": {},
     "output_type": "execute_result"
    }
   ],
   "source": [
    "list(itertools.accumulate( l2, lambda x,y : x+y))"
   ]
  },
  {
   "cell_type": "code",
   "execution_count": 30,
   "id": "0e05439d",
   "metadata": {},
   "outputs": [
    {
     "data": {
      "text/plain": [
       "'*'"
      ]
     },
     "execution_count": 30,
     "metadata": {},
     "output_type": "execute_result"
    }
   ],
   "source": [
    "'*'.center(0)"
   ]
  },
  {
   "cell_type": "code",
   "execution_count": 36,
   "id": "f8482e9a",
   "metadata": {},
   "outputs": [
    {
     "data": {
      "text/plain": [
       "'          '"
      ]
     },
     "execution_count": 36,
     "metadata": {},
     "output_type": "execute_result"
    }
   ],
   "source": [
    "' '.rjust(10)"
   ]
  },
  {
   "cell_type": "code",
   "execution_count": 37,
   "id": "88dcd82d",
   "metadata": {},
   "outputs": [
    {
     "name": "stdout",
     "output_type": "stream",
     "text": [
      "  * * \n",
      "  * * \n",
      "   *   * \n",
      "     *    * \n",
      "      *      * \n"
     ]
    }
   ],
   "source": [
    "str1 = '*'\n",
    "for i in range(5):\n",
    "    print(' '.ljust(i), end=' ')\n",
    "    print(str1.center(i), end=' ')\n",
    "    print(str1.rjust(i), end=' ')\n",
    "    print()"
   ]
  },
  {
   "cell_type": "code",
   "execution_count": 38,
   "id": "75207161",
   "metadata": {},
   "outputs": [
    {
     "name": "stdout",
     "output_type": "stream",
     "text": [
      "    *\n",
      "   ***\n",
      "  *****\n",
      " *******\n",
      "*********\n"
     ]
    }
   ],
   "source": [
    "\n",
    "for i in range(5):\n",
    "    print(\" \"*(5-i-1), end='')\n",
    "    print('*'*(2*i+1))"
   ]
  },
  {
   "cell_type": "code",
   "execution_count": 40,
   "id": "07b147c3",
   "metadata": {},
   "outputs": [
    {
     "data": {
      "text/plain": [
       "65"
      ]
     },
     "execution_count": 40,
     "metadata": {},
     "output_type": "execute_result"
    }
   ],
   "source": [
    "ord('A')"
   ]
  },
  {
   "cell_type": "code",
   "execution_count": null,
   "id": "ac3fa003",
   "metadata": {},
   "outputs": [],
   "source": []
  },
  {
   "cell_type": "code",
   "execution_count": 41,
   "id": "2d678904",
   "metadata": {},
   "outputs": [
    {
     "data": {
      "text/plain": [
       "'A'"
      ]
     },
     "execution_count": 41,
     "metadata": {},
     "output_type": "execute_result"
    }
   ],
   "source": [
    "chr(65)"
   ]
  },
  {
   "cell_type": "code",
   "execution_count": 48,
   "id": "ba83b6da",
   "metadata": {},
   "outputs": [
    {
     "name": "stdout",
     "output_type": "stream",
     "text": [
      "A \n",
      "B C \n",
      "C D E \n",
      "D E F G \n",
      "E F G H I \n"
     ]
    }
   ],
   "source": [
    "k=0\n",
    "for i in range(5):\n",
    "    for j in range(i+1):\n",
    "        print(chr(ord('A')+j+k), end=' ')\n",
    "        if j==i:\n",
    "            k+=1\n",
    "    print()   "
   ]
  },
  {
   "cell_type": "code",
   "execution_count": 49,
   "id": "d4391ef8",
   "metadata": {},
   "outputs": [
    {
     "name": "stdout",
     "output_type": "stream",
     "text": [
      "A \n",
      "B C \n",
      "D E F \n",
      "G H I J \n",
      "K L M N O \n",
      "P Q R S T U \n"
     ]
    }
   ],
   "source": [
    "ascii_str = ord('A')\n",
    "\n",
    "for i in range(6):\n",
    "    \n",
    "    for j in range(i+1):\n",
    "        print(chr(ascii_str), end=' ')\n",
    "        ascii_str+=1\n",
    "    print()"
   ]
  },
  {
   "cell_type": "code",
   "execution_count": null,
   "id": "81aefd88",
   "metadata": {},
   "outputs": [],
   "source": [
    "def p(num):\n",
    "    for i in range(2, num):\n",
    "        if num%i==0:\n",
    "            return False"
   ]
  },
  {
   "cell_type": "code",
   "execution_count": null,
   "id": "aeb0f72b",
   "metadata": {},
   "outputs": [],
   "source": []
  },
  {
   "cell_type": "code",
   "execution_count": null,
   "id": "a4571918",
   "metadata": {},
   "outputs": [],
   "source": []
  }
 ],
 "metadata": {
  "kernelspec": {
   "display_name": "Python 3 (ipykernel)",
   "language": "python",
   "name": "python3"
  },
  "language_info": {
   "codemirror_mode": {
    "name": "ipython",
    "version": 3
   },
   "file_extension": ".py",
   "mimetype": "text/x-python",
   "name": "python",
   "nbconvert_exporter": "python",
   "pygments_lexer": "ipython3",
   "version": "3.10.11"
  }
 },
 "nbformat": 4,
 "nbformat_minor": 5
}
