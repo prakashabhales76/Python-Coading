{
 "cells": [
  {
   "cell_type": "markdown",
   "id": "f9d4c12d",
   "metadata": {},
   "source": [
    "# Pytrhon Interview Practice Questions"
   ]
  },
  {
   "cell_type": "code",
   "execution_count": 1,
   "id": "b19c6951",
   "metadata": {},
   "outputs": [],
   "source": [
    "import pandas as pd\n",
    "# Series Object"
   ]
  },
  {
   "cell_type": "code",
   "execution_count": 2,
   "id": "e11b4b49",
   "metadata": {},
   "outputs": [
    {
     "data": {
      "text/plain": [
       "[2, 4, 6, 8, 10]"
      ]
     },
     "execution_count": 2,
     "metadata": {},
     "output_type": "execute_result"
    }
   ],
   "source": [
    "[i for i in range(1,11) if i%2==0] # odd number"
   ]
  },
  {
   "cell_type": "code",
   "execution_count": 3,
   "id": "bb2be8ae",
   "metadata": {},
   "outputs": [
    {
     "data": {
      "text/plain": [
       "[(1, 'odd'),\n",
       " 'even',\n",
       " (3, 'odd'),\n",
       " 'even',\n",
       " (5, 'odd'),\n",
       " 'even',\n",
       " (7, 'odd'),\n",
       " 'even',\n",
       " (9, 'odd'),\n",
       " 'even']"
      ]
     },
     "execution_count": 3,
     "metadata": {},
     "output_type": "execute_result"
    }
   ],
   "source": [
    "[(i,'odd')if i%2!=0 else ('even')for i in range(1,11)]"
   ]
  },
  {
   "cell_type": "code",
   "execution_count": 3,
   "id": "aa29412a",
   "metadata": {},
   "outputs": [],
   "source": [
    "#discount Argument\n",
    "def discount(price,perct):\n",
    "    new_price=price-(price*perct)\n",
    "    return new_price"
   ]
  },
  {
   "cell_type": "code",
   "execution_count": 4,
   "id": "5c2f3c80",
   "metadata": {},
   "outputs": [
    {
     "data": {
      "text/plain": [
       "90.0"
      ]
     },
     "execution_count": 4,
     "metadata": {},
     "output_type": "execute_result"
    }
   ],
   "source": [
    "discount(100,0.1)"
   ]
  },
  {
   "cell_type": "code",
   "execution_count": 6,
   "id": "2651021b",
   "metadata": {},
   "outputs": [
    {
     "data": {
      "text/plain": [
       "-9.9"
      ]
     },
     "execution_count": 6,
     "metadata": {},
     "output_type": "execute_result"
    }
   ],
   "source": [
    "discount(0.1,100)"
   ]
  },
  {
   "cell_type": "code",
   "execution_count": 7,
   "id": "7681ab20",
   "metadata": {},
   "outputs": [
    {
     "data": {
      "text/plain": [
       "90.0"
      ]
     },
     "execution_count": 7,
     "metadata": {},
     "output_type": "execute_result"
    }
   ],
   "source": [
    "discount(perct=0.1,price=100)"
   ]
  },
  {
   "cell_type": "code",
   "execution_count": 8,
   "id": "e02d009e",
   "metadata": {},
   "outputs": [],
   "source": [
    "def discount(price,perct=0.1):  # discount argument\n",
    "    new_price=price-(price*perct)\n",
    "    return new_price"
   ]
  },
  {
   "cell_type": "code",
   "execution_count": 9,
   "id": "af9ccb95",
   "metadata": {},
   "outputs": [
    {
     "data": {
      "text/plain": [
       "90.0"
      ]
     },
     "execution_count": 9,
     "metadata": {},
     "output_type": "execute_result"
    }
   ],
   "source": [
    "discount(100,0.1)"
   ]
  },
  {
   "cell_type": "code",
   "execution_count": 11,
   "id": "a7b48ca7",
   "metadata": {},
   "outputs": [
    {
     "data": {
      "text/plain": [
       "85.0"
      ]
     },
     "execution_count": 11,
     "metadata": {},
     "output_type": "execute_result"
    }
   ],
   "source": [
    "discount(100,perct=0.15)"
   ]
  },
  {
   "cell_type": "code",
   "execution_count": 10,
   "id": "cd33cd18",
   "metadata": {},
   "outputs": [
    {
     "data": {
      "text/plain": [
       "9"
      ]
     },
     "execution_count": 10,
     "metadata": {},
     "output_type": "execute_result"
    }
   ],
   "source": [
    "min(10,9)"
   ]
  },
  {
   "cell_type": "code",
   "execution_count": 5,
   "id": "5181ff41",
   "metadata": {},
   "outputs": [
    {
     "data": {
      "text/plain": [
       "a    1\n",
       "b    2\n",
       "c    3\n",
       "d    4\n",
       "e    5\n",
       "f    6\n",
       "g    7\n",
       "h    8\n",
       "i    9\n",
       "dtype: int64"
      ]
     },
     "execution_count": 5,
     "metadata": {},
     "output_type": "execute_result"
    }
   ],
   "source": [
    "s1=pd.Series([1,2,3,4,5,6,7,8,9],index=['a','b','c','d','e','f','g','h','i'])\n",
    "s1"
   ]
  },
  {
   "cell_type": "code",
   "execution_count": 10,
   "id": "bc6c81ef",
   "metadata": {},
   "outputs": [
    {
     "data": {
      "text/plain": [
       "a    101\n",
       "b    102\n",
       "c    103\n",
       "d    104\n",
       "e    105\n",
       "f    106\n",
       "g    107\n",
       "h    108\n",
       "i    109\n",
       "dtype: int64"
      ]
     },
     "execution_count": 10,
     "metadata": {},
     "output_type": "execute_result"
    }
   ],
   "source": [
    "s1 + 100"
   ]
  },
  {
   "cell_type": "code",
   "execution_count": 11,
   "id": "1570d9d4",
   "metadata": {},
   "outputs": [
    {
     "data": {
      "text/plain": [
       "a    1\n",
       "b    2\n",
       "c    3\n",
       "d    4\n",
       "e    5\n",
       "dtype: int64"
      ]
     },
     "execution_count": 11,
     "metadata": {},
     "output_type": "execute_result"
    }
   ],
   "source": [
    "s1[:5]   # serch element"
   ]
  },
  {
   "cell_type": "code",
   "execution_count": 12,
   "id": "6d53a6cb",
   "metadata": {},
   "outputs": [
    {
     "data": {
      "text/plain": [
       "e    5\n",
       "f    6\n",
       "g    7\n",
       "h    8\n",
       "i    9\n",
       "dtype: int64"
      ]
     },
     "execution_count": 12,
     "metadata": {},
     "output_type": "execute_result"
    }
   ],
   "source": [
    "s1[-5:]"
   ]
  },
  {
   "cell_type": "code",
   "execution_count": 34,
   "id": "04728110",
   "metadata": {},
   "outputs": [
    {
     "data": {
      "text/plain": [
       "a     5\n",
       "b    10\n",
       "c    15\n",
       "d    20\n",
       "e    25\n",
       "f    30\n",
       "g    35\n",
       "h    40\n",
       "i    45\n",
       "dtype: int64"
      ]
     },
     "execution_count": 34,
     "metadata": {},
     "output_type": "execute_result"
    }
   ],
   "source": [
    "s1*5 # multiplecation   # add like +,/,-,//,**"
   ]
  },
  {
   "cell_type": "code",
   "execution_count": 6,
   "id": "bdb094f3",
   "metadata": {},
   "outputs": [],
   "source": [
    "def func(*args):\n",
    "    return args"
   ]
  },
  {
   "cell_type": "code",
   "execution_count": 7,
   "id": "9854d0a4",
   "metadata": {},
   "outputs": [
    {
     "data": {
      "text/plain": [
       "(10, 12, 19, 12)"
      ]
     },
     "execution_count": 7,
     "metadata": {},
     "output_type": "execute_result"
    }
   ],
   "source": [
    "func(10,12,19,12)"
   ]
  },
  {
   "cell_type": "code",
   "execution_count": 9,
   "id": "abf6af40",
   "metadata": {},
   "outputs": [],
   "source": [
    "import matplotlib.pyplot as plt\n",
    "import seaborn as sns"
   ]
  },
  {
   "cell_type": "code",
   "execution_count": 17,
   "id": "33357100",
   "metadata": {},
   "outputs": [],
   "source": [
    "def func(*args):\n",
    "    return args"
   ]
  },
  {
   "cell_type": "code",
   "execution_count": null,
   "id": "4bd74374",
   "metadata": {},
   "outputs": [],
   "source": [
    "func(a=20,b=30,c=40)"
   ]
  },
  {
   "cell_type": "code",
   "execution_count": 33,
   "id": "e9f72a5b",
   "metadata": {},
   "outputs": [
    {
     "name": "stdout",
     "output_type": "stream",
     "text": [
      "         name  pyment  year\n",
      "0     prakash   83000  2023\n",
      "1      anshul   95000  2023\n",
      "2  vishwajeet  100000  2023\n"
     ]
    }
   ],
   "source": [
    "s2 = {'name':['prakash','anshul','vishwajeet'],\n",
    "   'pyment':(83000,95000,100000),\n",
    "   'year':[2023,2023,2023]}\n",
    "s3=pd.DataFrame(s2)\n",
    "print(s3)"
   ]
  },
  {
   "cell_type": "code",
   "execution_count": 45,
   "id": "d0687ce2",
   "metadata": {},
   "outputs": [],
   "source": [
    "s1=pd.Series([1,2,3,4,5,6,7,8,9])\n",
    "s2=pd.Series([10,20,30,40,50,60,70,80,90])"
   ]
  },
  {
   "cell_type": "code",
   "execution_count": 51,
   "id": "f52c0fc6",
   "metadata": {},
   "outputs": [
    {
     "data": {
      "text/plain": [
       "0    11\n",
       "1    22\n",
       "2    33\n",
       "3    44\n",
       "4    55\n",
       "5    66\n",
       "6    77\n",
       "7    88\n",
       "8    99\n",
       "dtype: int64"
      ]
     },
     "execution_count": 51,
     "metadata": {},
     "output_type": "execute_result"
    }
   ],
   "source": [
    "s1+s2   # you will add the +,-,*,/,//,**"
   ]
  },
  {
   "cell_type": "code",
   "execution_count": 22,
   "id": "fcb4ab44",
   "metadata": {},
   "outputs": [
    {
     "name": "stdout",
     "output_type": "stream",
     "text": [
      "Enter the min8\n",
      "Enter the max12\n",
      "11\n"
     ]
    }
   ],
   "source": [
    "# Formet 1\n",
    "minimum=int(input('Enter the min'))\n",
    "maximum=int(input('Enter the max'))\n",
    "\n",
    "for n in range(minimum,maximum+1):\n",
    "    if n >1:\n",
    "        for i in range(2,n):\n",
    "            if (n%i)==0:\n",
    "                break\n",
    "           \n",
    "        else:\n",
    "            print(n)"
   ]
  },
  {
   "cell_type": "code",
   "execution_count": 23,
   "id": "eb927609",
   "metadata": {},
   "outputs": [
    {
     "name": "stdout",
     "output_type": "stream",
     "text": [
      "Enter range:9\n",
      "Prime Number: 1 2 3 5 7 "
     ]
    }
   ],
   "source": [
    "# Formet 2\n",
    "numr=int(input('Enter range:'))\n",
    "print('Prime Number:',end=' ')\n",
    "for n in range(1,numr) :\n",
    "    for i in range(2,n):\n",
    "        if(n%i==0):\n",
    "            break\n",
    "    else:\n",
    "        print(n,end=' ')"
   ]
  },
  {
   "cell_type": "code",
   "execution_count": 26,
   "id": "6f2ef663",
   "metadata": {},
   "outputs": [
    {
     "name": "stdout",
     "output_type": "stream",
     "text": [
      "[5, 8, 9, 6, 3]\n",
      "[2, 2, 3, 4, 5, 5, 5, 7]\n"
     ]
    }
   ],
   "source": [
    "# sorting elements in the list\n",
    "# method -1\n",
    "\n",
    "mylist =[5,8,9,6,3]\n",
    "\n",
    "for i in range(i+1,len(mylist)):\n",
    "    for j in range(i+1,len(mylist[i])):\n",
    "        if mylist[j]<mylist[i]:\n",
    "            mylist[i],mylist[j]=mylist[j],mylist[i]\n",
    "            \n",
    "print(mylist)\n",
    "\n",
    "# method 2\n",
    "mylist=[2,5,7,5,3,4,5,2]\n",
    "ass=[]\n",
    "while mylist:\n",
    "    minimum=mylist[0]\n",
    "    for i in mylist:\n",
    "        if i<minimum:\n",
    "            minimum=i\n",
    "    ass.append(minimum)\n",
    "    mylist.remove(minimum)\n",
    "print(ass)"
   ]
  },
  {
   "cell_type": "code",
   "execution_count": 27,
   "id": "b4d78ae5",
   "metadata": {},
   "outputs": [],
   "source": [
    "# find the maximam number from on array"
   ]
  },
  {
   "cell_type": "code",
   "execution_count": 28,
   "id": "cfe00d2e",
   "metadata": {},
   "outputs": [
    {
     "name": "stdout",
     "output_type": "stream",
     "text": [
      "9\n"
     ]
    }
   ],
   "source": [
    "arr=[5,4,3,6,9]\n",
    "\n",
    "maximum=arr[0]\n",
    "\n",
    "for i in arr:\n",
    "    if i>maximum:\n",
    "        maximum=i\n",
    "print(maximum)"
   ]
  },
  {
   "cell_type": "code",
   "execution_count": 29,
   "id": "7a012e93",
   "metadata": {},
   "outputs": [
    {
     "name": "stdout",
     "output_type": "stream",
     "text": [
      "[3, 5, 6, 8, 9]\n"
     ]
    }
   ],
   "source": [
    "# for accending \n",
    "mylist =[5,8,9,6,3]\n",
    "new=sorted(mylist)\n",
    "print(new)"
   ]
  },
  {
   "cell_type": "code",
   "execution_count": 30,
   "id": "678cb435",
   "metadata": {},
   "outputs": [
    {
     "name": "stdout",
     "output_type": "stream",
     "text": [
      "[9, 8, 6, 5, 3]\n"
     ]
    }
   ],
   "source": [
    "# for deccending\n",
    "mylist =[5,8,9,6,3]\n",
    "new=sorted(mylist,reverse=True)\n",
    "print(new)"
   ]
  },
  {
   "cell_type": "code",
   "execution_count": 32,
   "id": "e06829b0",
   "metadata": {},
   "outputs": [],
   "source": [
    "# find duplicate value and sort in accending order\n",
    "\n",
    "mylist=[2,5,7,5,3,4,5,2]\n",
    "\n",
    "def duplicate(mylist):\n",
    "    empty=[]\n",
    "    ass=[]\n",
    "    \n",
    "    for i in mylist:\n",
    "        if i not in empty:\n",
    "            empty.append(i)\n",
    "            \n",
    "    while empty:\n",
    "        minimum=empty[0]\n",
    "        for i in empty:\n",
    "            if i <minimum:\n",
    "                minimum=i\n",
    "        ass.append(minimum)\n",
    "        empty.remove(minimum)\n",
    "    return ass"
   ]
  },
  {
   "cell_type": "code",
   "execution_count": 33,
   "id": "3e32fcde",
   "metadata": {},
   "outputs": [
    {
     "data": {
      "text/plain": [
       "[2, 3, 4, 5, 7]"
      ]
     },
     "execution_count": 33,
     "metadata": {},
     "output_type": "execute_result"
    }
   ],
   "source": [
    "duplicate([2,5,7,5,3,4,5,2])"
   ]
  },
  {
   "cell_type": "code",
   "execution_count": 46,
   "id": "3f456cf2",
   "metadata": {},
   "outputs": [
    {
     "name": "stdout",
     "output_type": "stream",
     "text": [
      "[3, 6, 9, 8, 5]\n"
     ]
    }
   ],
   "source": [
    "# sorting list on accending order\n",
    "mylist=[5,8,9,6,3]\n",
    "empty=[]\n",
    "\n",
    "while mylist:\n",
    "    minimum=mylist[0]\n",
    "    for i in mylist:\n",
    "        #or i <minimum:\n",
    "            minimum=i\n",
    "    empty.append (minimum)\n",
    "    mylist.remove(minimum)\n",
    "print(empty)"
   ]
  },
  {
   "cell_type": "code",
   "execution_count": 47,
   "id": "01c19417",
   "metadata": {},
   "outputs": [
    {
     "name": "stdout",
     "output_type": "stream",
     "text": [
      "second largest element is 45\n"
     ]
    }
   ],
   "source": [
    "# python program to find secound largest number in a list\n",
    "# list of numbers\n",
    "list1=[10,20,20,4,45,45,45,99,99]\n",
    "\n",
    "# removing duplicates from the list\n",
    "list2=list(set(list1))\n",
    "\n",
    "# sorting the list if posible if above method to sort\n",
    "list2.sort()\n",
    "\n",
    "# print second last element\n",
    "print('second largest element is',list2[-2])"
   ]
  },
  {
   "cell_type": "code",
   "execution_count": 1,
   "id": "3698a127",
   "metadata": {},
   "outputs": [],
   "source": [
    "def fab (n):\n",
    "    if n ==0:\n",
    "        return 0\n",
    "    elif n==1:\n",
    "        return 1\n",
    "    elif n==2:\n",
    "        return 1\n",
    "    else:\n",
    "        return fab(n-1)+fab(n-2)    \n",
    "    for i in range(1):\n",
    "        print(fab(i),end=',')"
   ]
  },
  {
   "cell_type": "code",
   "execution_count": 2,
   "id": "0f32b5ae",
   "metadata": {},
   "outputs": [
    {
     "name": "stdout",
     "output_type": "stream",
     "text": [
      "34\n"
     ]
    }
   ],
   "source": [
    "def Fibonacci(n):\n",
    "    # check if input is 0 than it will\n",
    "    # print incorrect input\n",
    "    if n<0:\n",
    "        print('Incorect Number')\n",
    "        \n",
    "        # check if n is 0\n",
    "        # than it will return 0\n",
    "    elif n==0:\n",
    "        return 0\n",
    "        # check if n is 1,2\n",
    "        # it will return 1\n",
    "    elif n==1 or n==2:\n",
    "        return 1\n",
    "    else:\n",
    "        return Fibonacci(n-1)+Fibonacci(n-2)\n",
    "# Driver Program\n",
    "print(Fibonacci(9))"
   ]
  },
  {
   "cell_type": "code",
   "execution_count": 53,
   "id": "a7d4ce1b",
   "metadata": {},
   "outputs": [
    {
     "name": "stdout",
     "output_type": "stream",
     "text": [
      "34\n"
     ]
    }
   ],
   "source": [
    "# Fabonacci Series\n",
    "def fab (n):\n",
    "    if n ==0:\n",
    "        return 0\n",
    "    elif n==1:\n",
    "        return 1\n",
    "    elif n==2:\n",
    "        return 1\n",
    "    else:\n",
    "        return fab(n-1)+fab(n-2)    \n",
    "    for i in range(1):\n",
    "        print(fab(i),end=',')\n",
    "\n",
    "# Function for nth fibonacci number\n",
    "def Fibonacci(n):\n",
    "    # check if input is 0 than it will\n",
    "    # print incorrect input\n",
    "    if n<0:\n",
    "        print('Incorect Number')\n",
    "        \n",
    "        # check if n is 0\n",
    "        # than it will return 0\n",
    "    elif n==0:\n",
    "        return 0\n",
    "        # check if n is 1,2\n",
    "        # it will return 1\n",
    "    elif n==1 or n==2:\n",
    "        return 1\n",
    "    else:\n",
    "        return Fibonacci(n-1)+Fibonacci(n-2)\n",
    "# Driver Program\n",
    "print(Fibonacci(9))"
   ]
  },
  {
   "cell_type": "code",
   "execution_count": 55,
   "id": "553c709f",
   "metadata": {},
   "outputs": [
    {
     "name": "stdout",
     "output_type": "stream",
     "text": [
      "[3, 5, 6, 8, 9]\n"
     ]
    }
   ],
   "source": [
    "# print list in deccending order\n",
    "mylist=[5,8,9,6,3]\n",
    "empty=[]\n",
    "\n",
    "while mylist:\n",
    "    maximum =mylist[0]\n",
    "    for i in mylist:\n",
    "        if i<maximum:\n",
    "            maximum=i\n",
    "    empty.append(maximum)\n",
    "    mylist.remove(maximum)\n",
    "print(empty)"
   ]
  },
  {
   "cell_type": "code",
   "execution_count": 56,
   "id": "7a1d916a",
   "metadata": {},
   "outputs": [
    {
     "name": "stdout",
     "output_type": "stream",
     "text": [
      "[3, 6, 9, 8, 5]\n"
     ]
    }
   ],
   "source": [
    "# Reversing the list\n",
    "mylist=[5,8,9,6,3]\n",
    "new=mylist[::-1]\n",
    "print(new)"
   ]
  },
  {
   "cell_type": "code",
   "execution_count": 60,
   "id": "a8ddc395",
   "metadata": {},
   "outputs": [
    {
     "name": "stdout",
     "output_type": "stream",
     "text": [
      "Its Palindrome\n"
     ]
    }
   ],
   "source": [
    "# cheching string is palindrome or npt\n",
    "mystring='malam'\n",
    "new=mystring[::-1]\n",
    "\n",
    "if mystring ==new:\n",
    "    print('Its Palindrome')\n",
    "else:\n",
    "    print('Its not palindrome')"
   ]
  },
  {
   "cell_type": "code",
   "execution_count": 62,
   "id": "197c3103",
   "metadata": {},
   "outputs": [
    {
     "name": "stdout",
     "output_type": "stream",
     "text": [
      "Its palindrome\n"
     ]
    }
   ],
   "source": [
    "# without indexing \n",
    "mystring='mam'\n",
    "string=''\n",
    "\n",
    "for i in mystring:\n",
    "    string=i+string\n",
    "    \n",
    "if mystring == string:\n",
    "    print('Its palindrome')\n",
    "else:\n",
    "    print('Its not palindrom')"
   ]
  },
  {
   "cell_type": "code",
   "execution_count": 66,
   "id": "2f210f15",
   "metadata": {},
   "outputs": [
    {
     "name": "stdout",
     "output_type": "stream",
     "text": [
      "{1, 3, 6}\n",
      "{1, 3, 6}\n"
     ]
    }
   ],
   "source": [
    "# find the duplicate number in mylist\n",
    "mylist=[1,1,1,1,2,3,3,6,9,7,6]\n",
    "print(set([ x for x in mylist if mylist.count(x)>1]))\n",
    "\n",
    "# using Long-method\n",
    "\n",
    "empty=[]\n",
    "for i in mylist:\n",
    "    if mylist.count(i)>1:\n",
    "        empty.append(i)\n",
    "print(set(empty))"
   ]
  },
  {
   "cell_type": "code",
   "execution_count": 68,
   "id": "a1418149",
   "metadata": {},
   "outputs": [
    {
     "data": {
      "text/plain": [
       "10"
      ]
     },
     "execution_count": 68,
     "metadata": {},
     "output_type": "execute_result"
    }
   ],
   "source": [
    "# Number of words in a given sentence\n",
    "mystring='Maintaining & expending the database of proscpects for the organization.'\n",
    "len(mystring.split())"
   ]
  },
  {
   "cell_type": "code",
   "execution_count": 73,
   "id": "2be25072",
   "metadata": {},
   "outputs": [
    {
     "name": "stdout",
     "output_type": "stream",
     "text": [
      "Enter the number you want to find :5\n",
      "Number Found\n"
     ]
    }
   ],
   "source": [
    "# find a number in a list whether it is present or not\n",
    "find=int(input('Enter the number you want to find :'))\n",
    "mylist=[5,8,9,6,3]\n",
    "\n",
    "if find in mylist:\n",
    "    print('Number Found')\n",
    "else:\n",
    "    print('Number no found')"
   ]
  },
  {
   "cell_type": "code",
   "execution_count": 74,
   "id": "49a08b0a",
   "metadata": {},
   "outputs": [
    {
     "name": "stdout",
     "output_type": "stream",
     "text": [
      "123451334512345\n"
     ]
    }
   ],
   "source": [
    "# extract digit from a given string\n",
    "mystring='Maintaining 12345 & expending 13345 the database of prospects for 12345 the org:'\n",
    "digit=''\n",
    "\n",
    "for i in mystring:\n",
    "    if i.isdigit()==True:\n",
    "        digit=digit+i\n",
    "        \n",
    "print(digit)"
   ]
  },
  {
   "cell_type": "code",
   "execution_count": 75,
   "id": "8d444622",
   "metadata": {},
   "outputs": [
    {
     "data": {
      "text/plain": [
       "['Maintaining',\n",
       " '',\n",
       " '12345',\n",
       " '&',\n",
       " 'expending',\n",
       " '12345the',\n",
       " 'database',\n",
       " 'of',\n",
       " 'prospects',\n",
       " 'for',\n",
       " '12345',\n",
       " 'thr',\n",
       " 'org:']"
      ]
     },
     "execution_count": 75,
     "metadata": {},
     "output_type": "execute_result"
    }
   ],
   "source": [
    "# convert the string in to words\n",
    "mystring='Maintaining  12345 & expending 12345the database of prospects for 12345 thr org:'\n",
    "mystring.rstrip().split(' ')"
   ]
  },
  {
   "cell_type": "code",
   "execution_count": 1,
   "id": "df4c1042",
   "metadata": {},
   "outputs": [
    {
     "name": "stdout",
     "output_type": "stream",
     "text": [
      "1221\n",
      "1221\n",
      "palindrome\n",
      "not palindrome\n"
     ]
    }
   ],
   "source": [
    "# check whether a number is palindrome\n",
    "num=1221\n",
    "\n",
    "temp=num\n",
    "\n",
    "rev=0\n",
    "\n",
    "while (num>0):\n",
    "    rem=num%10\n",
    "    rev=rev*10+rem\n",
    "    # use to add digit in last suppose in 34 we want\n",
    "    # to make 345 then what we do multiply by 10 then add 5\n",
    "    \n",
    "    num=num//10 # use to access quotient\n",
    "    \n",
    "print(rev)\n",
    "print(temp)\n",
    "\n",
    "if temp==rev:\n",
    "    print('palindrome')\n",
    "    print('not palindrome')\n"
   ]
  },
  {
   "cell_type": "code",
   "execution_count": 2,
   "id": "bbc924d4",
   "metadata": {},
   "outputs": [
    {
     "name": "stdout",
     "output_type": "stream",
     "text": [
      "1221\n",
      "1221\n",
      "2361449266000\n",
      "2361449266000\n",
      "1222\n",
      "1221\n",
      "2361449265456\n",
      "2361449266000\n"
     ]
    }
   ],
   "source": [
    "# very important suppose we are saving some number with variable and that variable\n",
    "# is assign to some new variable so if you make changes in old variable no change will happy\n",
    "# in newly assign variable becouse string and integer are imutable\n",
    "\n",
    "num=1221\n",
    "print(num)\n",
    "\n",
    "temp=num\n",
    "print(temp)\n",
    "\n",
    "print(id(num))\n",
    "print(id(temp))\n",
    "\n",
    "num=num+1\n",
    "\n",
    "print(num)\n",
    "print(temp)\n",
    "\n",
    "print(id(num))\n",
    "print(id(temp))"
   ]
  },
  {
   "cell_type": "code",
   "execution_count": 3,
   "id": "fee2e11d",
   "metadata": {},
   "outputs": [
    {
     "name": "stdout",
     "output_type": "stream",
     "text": [
      "0\n",
      "1\n",
      "2\n",
      "6\n",
      "24\n"
     ]
    }
   ],
   "source": [
    "# Factorial of a number\n",
    "def fact(num):\n",
    "    if num<0:\n",
    "        return 'number invalid'\n",
    "    elif num==1:\n",
    "        return 1\n",
    "    elif num==0:\n",
    "        return 0\n",
    "    else:\n",
    "        return num *fact(num-1)\n",
    "# find the factorial Series\n",
    "for i in range(5):\n",
    "    print(fact(i))"
   ]
  },
  {
   "cell_type": "code",
   "execution_count": 4,
   "id": "529ee5db",
   "metadata": {},
   "outputs": [
    {
     "data": {
      "text/plain": [
       "6"
      ]
     },
     "execution_count": 4,
     "metadata": {},
     "output_type": "execute_result"
    }
   ],
   "source": [
    "fact(3)"
   ]
  },
  {
   "cell_type": "code",
   "execution_count": 7,
   "id": "f6f1c020",
   "metadata": {},
   "outputs": [
    {
     "name": "stdout",
     "output_type": "stream",
     "text": [
      "2\n",
      "6\n",
      "24\n"
     ]
    }
   ],
   "source": [
    "# factorial without reccurence\n",
    "num=4\n",
    "fact=1\n",
    "\n",
    "if num<0:\n",
    "    print('please enter valid number')\n",
    "elif num == 0:\n",
    "    print(0)\n",
    "elif num ==1:\n",
    "    print(1)\n",
    "else:\n",
    "    for i in range(2,num+1):\n",
    "        fact = fact*i\n",
    "        print(fact)"
   ]
  },
  {
   "cell_type": "code",
   "execution_count": 8,
   "id": "4bdf8279",
   "metadata": {},
   "outputs": [
    {
     "name": "stdout",
     "output_type": "stream",
     "text": [
      "Enter a number153\n",
      "Its Amstrong Number\n",
      "Its Not Amstrong\n"
     ]
    }
   ],
   "source": [
    "# amstron number\n",
    "num =int(input('Enter a number'))\n",
    "temp=num\n",
    "\n",
    "add=0\n",
    "\n",
    "while temp >0:\n",
    "    rem=temp%10\n",
    "    add=add+rem**3\n",
    "    temp=temp//10\n",
    "    if num ==add:\n",
    "        print('Its Amstrong Number')\n",
    "else:\n",
    "    print('Its Not Amstrong')\n"
   ]
  },
  {
   "cell_type": "code",
   "execution_count": 9,
   "id": "2f4aed6d",
   "metadata": {},
   "outputs": [
    {
     "name": "stdout",
     "output_type": "stream",
     "text": [
      "5\n"
     ]
    }
   ],
   "source": [
    "# find the lenght of array without using len function\n",
    "arr=[1,5,9,6,3]\n",
    "\n",
    "counter=0\n",
    "for i in arr:\n",
    "    counter =counter+1\n",
    "print(counter)"
   ]
  },
  {
   "cell_type": "code",
   "execution_count": 11,
   "id": "8835349d",
   "metadata": {},
   "outputs": [
    {
     "name": "stdout",
     "output_type": "stream",
     "text": [
      "GEEK before clear: [6, 0, 4, 1]\n",
      "GEEK after clear: []\n"
     ]
    }
   ],
   "source": [
    "# python program to clear to list\n",
    "# using clear() method\n",
    "\n",
    "# creating list\n",
    "GEEK=[6,0,4,1]\n",
    "print('GEEK before clear:',GEEK)\n",
    "\n",
    "# clearing list\n",
    "GEEK.clear()\n",
    "print('GEEK after clear:',GEEK)"
   ]
  },
  {
   "cell_type": "code",
   "execution_count": 12,
   "id": "1d380ff4",
   "metadata": {},
   "outputs": [
    {
     "name": "stdout",
     "output_type": "stream",
     "text": [
      "The original list is :[5, 6, [], 3, [], [], 9]\n",
      "List after empty list removel:[5, 6, 3, 9]\n"
     ]
    }
   ],
   "source": [
    "# remove the empty list from list\n",
    "test_list=[5,6,[],3,[],[],9]\n",
    "#printing original list\n",
    "print('The original list is :'+str(test_list))\n",
    "\n",
    "# remove empty list from list\n",
    "# using list compention\n",
    "res=[ele for ele in test_list if ele !=[]]\n",
    "\n",
    "# printing result\n",
    "print('List after empty list removel:'+str(res))"
   ]
  },
  {
   "cell_type": "code",
   "execution_count": 14,
   "id": "3357dbfb",
   "metadata": {},
   "outputs": [
    {
     "name": "stdout",
     "output_type": "stream",
     "text": [
      "1\n",
      "2\n",
      "3\n",
      "4\n",
      "5\n"
     ]
    }
   ],
   "source": [
    "# find the lenght of arraywithout using len function \n",
    "arr=[1,5,9,6,3]\n",
    "\n",
    "counter=0\n",
    "\n",
    "for i in arr:\n",
    "    counter =counter+1\n",
    "    print(counter)"
   ]
  },
  {
   "cell_type": "code",
   "execution_count": 1,
   "id": "a060b698",
   "metadata": {},
   "outputs": [
    {
     "name": "stdout",
     "output_type": "stream",
     "text": [
      "A \n",
      "B C \n",
      "D E F \n",
      "G H I J \n",
      "K L M N O \n",
      "P Q R S T U \n"
     ]
    }
   ],
   "source": [
    "ascci_start = ord(\"A\")\n",
    "\n",
    "for i in range(6):\n",
    "    for j in range(i+1):\n",
    "        print(chr(ascci_start), end = \" \")\n",
    "        ascci_start += 1\n",
    "    print()"
   ]
  },
  {
   "cell_type": "code",
   "execution_count": 16,
   "id": "a6b394f1",
   "metadata": {},
   "outputs": [
    {
     "name": "stdout",
     "output_type": "stream",
     "text": [
      "*\n",
      "**\n",
      "***\n",
      "****\n",
      "*****\n"
     ]
    }
   ],
   "source": [
    "# Right angle Triangle\n",
    "num=5\n",
    "\n",
    "for i in range(1,num+1):\n",
    "    for j in range(i):\n",
    "        print('*',end='')\n",
    "    print()"
   ]
  },
  {
   "cell_type": "code",
   "execution_count": 17,
   "id": "5d64fb15",
   "metadata": {},
   "outputs": [
    {
     "name": "stdout",
     "output_type": "stream",
     "text": [
      "1 \n",
      "1 2 \n",
      "1 2 3 \n",
      "1 2 3 4 \n",
      "1 2 3 4 5 \n"
     ]
    }
   ],
   "source": [
    "num = 5\n",
    "for i in range(1,num+1):\n",
    "    for j in range(i):\n",
    "        print(j+1,end=' ')\n",
    "    print()"
   ]
  },
  {
   "cell_type": "code",
   "execution_count": 19,
   "id": "fc90633a",
   "metadata": {},
   "outputs": [
    {
     "name": "stdout",
     "output_type": "stream",
     "text": [
      "* * * * * \n",
      "* * * * \n",
      "* * * \n",
      "* * \n",
      "* \n"
     ]
    }
   ],
   "source": [
    "num=5\n",
    "for i in range(1,num+1):\n",
    "    for j in range((num-i)+1):\n",
    "        print('*',end=' ')\n",
    "    print()"
   ]
  },
  {
   "cell_type": "code",
   "execution_count": 20,
   "id": "09351d35",
   "metadata": {},
   "outputs": [
    {
     "name": "stdout",
     "output_type": "stream",
     "text": [
      "1 2 3 4 5 \n",
      "1 2 3 4 \n",
      "1 2 3 \n",
      "1 2 \n",
      "1 \n"
     ]
    }
   ],
   "source": [
    "num=5\n",
    "for i in range (1,num+1):\n",
    "    for j in range((num-i)+1):\n",
    "        print(j+1,end=' ')\n",
    "    print()"
   ]
  },
  {
   "cell_type": "code",
   "execution_count": 2,
   "id": "a5f5e641",
   "metadata": {},
   "outputs": [
    {
     "name": "stdout",
     "output_type": "stream",
     "text": [
      "Enter number of rows:12\n",
      "           *\n",
      "          ***\n",
      "         *****\n",
      "        *******\n",
      "       *********\n",
      "      ***********\n",
      "     *************\n",
      "    ***************\n",
      "   *****************\n",
      "  *******************\n",
      " *********************\n",
      "***********************\n"
     ]
    }
   ],
   "source": [
    "# creating star pyramid\n",
    "rows=int(input('Enter number of rows:'))\n",
    "k=0\n",
    "for i in range(1,rows+1):\n",
    "    for space in range(1,(rows-i)+1):\n",
    "        print(end=' ')\n",
    "    while k!=(2*i-1):\n",
    "        print('*',end='')\n",
    "        k+=1\n",
    "    k=0\n",
    "    print()"
   ]
  },
  {
   "cell_type": "code",
   "execution_count": 32,
   "id": "08818347",
   "metadata": {},
   "outputs": [
    {
     "name": "stdout",
     "output_type": "stream",
     "text": [
      "Enter a number :180\n",
      "leap year\n"
     ]
    }
   ],
   "source": [
    "# finding the leap year\n",
    "num=int(input('Enter a number :'))\n",
    "if num % 4 ==0:\n",
    "    print('leap year')\n",
    "elif num % 400 ==0:\n",
    "    print('leap year')\n",
    "elif num % 100==0:\n",
    "    print('not leap year')\n",
    "else:\n",
    "    print('not leap year')"
   ]
  },
  {
   "cell_type": "code",
   "execution_count": 35,
   "id": "a4d5d4e5",
   "metadata": {},
   "outputs": [
    {
     "name": "stdout",
     "output_type": "stream",
     "text": [
      "enter a number :7\n",
      "Its prime number\n"
     ]
    }
   ],
   "source": [
    "# prime number \n",
    "num=int(input('enter a number :'))\n",
    "flag=0\n",
    "for i in range(2,num):\n",
    "    if num%i==0:\n",
    "        flag=flag+1\n",
    "if flag ==0:\n",
    "    print('Its prime number')\n",
    "else:\n",
    "    print('not prime')"
   ]
  },
  {
   "cell_type": "code",
   "execution_count": 37,
   "id": "a4651ab3",
   "metadata": {},
   "outputs": [
    {
     "name": "stdout",
     "output_type": "stream",
     "text": [
      "Enter a number :7\n",
      "Its prime number\n"
     ]
    }
   ],
   "source": [
    "# optimized code\n",
    "num=int(input('Enter a number :'))\n",
    "flag = 0\n",
    "for i in range(2,int(num/2)+1):\n",
    "    if num%i==0:\n",
    "        flag=flag+1\n",
    "if flag ==0:\n",
    "    print('Its prime number')\n",
    "else:\n",
    "    print('Not Prime')"
   ]
  },
  {
   "cell_type": "code",
   "execution_count": 39,
   "id": "eb7b28ff",
   "metadata": {},
   "outputs": [
    {
     "name": "stdout",
     "output_type": "stream",
     "text": [
      "Enter a number :999999937\n",
      "Its prime number\n"
     ]
    }
   ],
   "source": [
    "# optimized code\n",
    "num=int(input('Enter a number :'))\n",
    "flag = 0\n",
    "for i in range(2,int(num**0.5)+1):\n",
    "    if num%i==0:\n",
    "        flag=flag+1\n",
    "if flag ==0:\n",
    "    print('Its prime number')\n",
    "else:\n",
    "    print('Not Prime')"
   ]
  },
  {
   "cell_type": "code",
   "execution_count": 41,
   "id": "c7bd23e9",
   "metadata": {},
   "outputs": [
    {
     "name": "stdout",
     "output_type": "stream",
     "text": [
      "[5, 4, 3, 2, 1]\n"
     ]
    }
   ],
   "source": [
    "# Reversing the list\n",
    "mylist=[1,2,3,4,5,]\n",
    "a=mylist[::-1]\n",
    "print(a)"
   ]
  },
  {
   "cell_type": "code",
   "execution_count": 43,
   "id": "131ec580",
   "metadata": {},
   "outputs": [
    {
     "name": "stdout",
     "output_type": "stream",
     "text": [
      "[5, 4, 3, 2, 1]\n"
     ]
    }
   ],
   "source": [
    "# Reversing a list\n",
    "mylist=[1,2,3,4,5]\n",
    "for i in range(int(len(mylist)/2)):\n",
    "    mylist[i],mylist[len(mylist)-i-1]=mylist[len(mylist)-i-1],mylist[i]\n",
    "    \n",
    "print(mylist)    "
   ]
  },
  {
   "cell_type": "code",
   "execution_count": 44,
   "id": "ca1e1d6a",
   "metadata": {},
   "outputs": [
    {
     "name": "stdout",
     "output_type": "stream",
     "text": [
      "Enter a number5\n",
      "1 2 3 4 5 "
     ]
    }
   ],
   "source": [
    "# print the list of the integers from throgh as a string without spaces.\n",
    "num= int(input('Enter a number'))\n",
    "for i in range(1,num+1):\n",
    "    print(str(i),end=' ')\n",
    "    "
   ]
  },
  {
   "cell_type": "code",
   "execution_count": 51,
   "id": "6c64df01",
   "metadata": {},
   "outputs": [
    {
     "name": "stdout",
     "output_type": "stream",
     "text": [
      "{'H': 1, 'e': 4, 'l': 2, 'o': 6, ' ': 3, 'E': 1, 'v': 1, 'r': 2, 'y': 1, 'n': 3, ',': 1, 'g': 1, 'd': 1, 'a': 1, 'f': 1, 't': 1}\n",
      "{'Key': 'a', 'value': 6, 'key': 'o'}\n"
     ]
    }
   ],
   "source": [
    "#count of maximum accuring latter and number of times it is repeted\n",
    "mystring='Hello Everyone ,good afternoon'\n",
    "mydict={}\n",
    "\n",
    "for i in mystring:\n",
    "    if i in mydict:\n",
    "        mydict[i]=mydict[i]+1\n",
    "    else:\n",
    "        mydict[i]=1\n",
    "print(mydict)\n",
    "        \n",
    "mylist=[]\n",
    "new_dict={'Key':'a','value':0}\n",
    "\n",
    "for i in mydict:\n",
    "    if mydict[i] > new_dict['value']:\n",
    "        new_dict['key']=i\n",
    "        new_dict['value']=mydict[i]\n",
    "        \n",
    "print(new_dict)"
   ]
  },
  {
   "cell_type": "code",
   "execution_count": 53,
   "id": "3e592204",
   "metadata": {},
   "outputs": [
    {
     "name": "stdout",
     "output_type": "stream",
     "text": [
      "Enter a binary number : 100010000\n",
      "4\n"
     ]
    }
   ],
   "source": [
    "# maximum accurence of 0s in a string\n",
    "string =input('Enter a binary number : ')\n",
    "mulist=[]\n",
    "\n",
    "for i in string.split('1'):\n",
    "    mylist.append(len(i))\n",
    "    \n",
    "print(max(mylist))"
   ]
  },
  {
   "cell_type": "code",
   "execution_count": 55,
   "id": "bf2814cd",
   "metadata": {},
   "outputs": [
    {
     "name": "stdout",
     "output_type": "stream",
     "text": [
      "Enter a number : 3\n",
      "1\n",
      "2\n",
      "Fizz\n"
     ]
    }
   ],
   "source": [
    "# Fizz Buzz Method \n",
    "num=int(input('Enter a number : '))\n",
    "for i in range(1,num+1):\n",
    "    if i%3==0:\n",
    "        print('Fizz')\n",
    "    elif i%5==0:\n",
    "        print('Buzz')\n",
    "    elif i%5==0and i%3==0:\n",
    "        print('FizzBuzz')\n",
    "    else:\n",
    "        print(i)"
   ]
  },
  {
   "cell_type": "code",
   "execution_count": 68,
   "id": "9777e97c",
   "metadata": {},
   "outputs": [
    {
     "name": "stdout",
     "output_type": "stream",
     "text": [
      "1\n",
      "2\n",
      "4\n",
      "7\n",
      "8\n",
      "11\n",
      "13\n",
      "14\n"
     ]
    }
   ],
   "source": [
    "def fizz(num):\n",
    "    dic = {3:'fizz',5:'buzz'}\n",
    "    for i in range(1,num+1):\n",
    "        result = ''\n",
    "        for k,v in dic.items():\n",
    "            if i%k==0:\n",
    "                result=result+v\n",
    "        if not result:\n",
    "            result = i\n",
    "            print(result)\n",
    "            \n",
    "fizz(15)"
   ]
  },
  {
   "cell_type": "code",
   "execution_count": 81,
   "id": "449e325b",
   "metadata": {},
   "outputs": [
    {
     "name": "stdout",
     "output_type": "stream",
     "text": [
      "{'a': 4, 's': 9, 'd': 8}\n",
      "a\n"
     ]
    }
   ],
   "source": [
    "# charecter accourence \n",
    "#least repeting charector in string\n",
    "\n",
    "string='aaaasssssssssdddddddd'\n",
    "\n",
    "lrc={}\n",
    "\n",
    "for i in string:\n",
    "    if i in lrc:\n",
    "        lrc[i]=lrc[i]+1\n",
    "    else:\n",
    "        lrc[i]=1\n",
    "        \n",
    "print(lrc)  # print the occourance of all the charectord\n",
    "result=min(lrc,key = lrc.get)        \n",
    "print(result)\n",
    "\n"
   ]
  },
  {
   "cell_type": "code",
   "execution_count": 82,
   "id": "93eac222",
   "metadata": {},
   "outputs": [
    {
     "name": "stdout",
     "output_type": "stream",
     "text": [
      "{'a': 4, 's': 9, 'd': 8}\n",
      "4\n"
     ]
    }
   ],
   "source": [
    "# Display Count of any perticuler element in a string\n",
    "\n",
    "string='aaaasssssssssdddddddd'\n",
    "\n",
    "search='a'\n",
    "\n",
    "lrc={}\n",
    "\n",
    "for i in string:\n",
    "    if i in lrc:\n",
    "        lrc[i]=lrc[i]+1\n",
    "    else:\n",
    "        lrc[i]=1\n",
    "        \n",
    "print(lrc)  # print the occourance of all the charectord\n",
    "      \n",
    "print(lrc[search])\n",
    "\n"
   ]
  },
  {
   "cell_type": "code",
   "execution_count": 84,
   "id": "542abc66",
   "metadata": {},
   "outputs": [
    {
     "name": "stdout",
     "output_type": "stream",
     "text": [
      "Enter a Number:11223\n",
      "(2, 1) (2, 2) (1, 3) "
     ]
    }
   ],
   "source": [
    "# you are given a string 's' suppose a charector 'c'  occcurs counsecutively 'x' times\n",
    "# in the string reaplace these consecutive accurrences of the charector 'c' with (x,c) in S should be a number\n",
    "from itertools import groupby\n",
    "for k,c in groupby(input('Enter a Number:')):\n",
    "    print((len(list(c)),int(k)),end=' ')"
   ]
  },
  {
   "cell_type": "code",
   "execution_count": 5,
   "id": "e528a017",
   "metadata": {},
   "outputs": [
    {
     "name": "stdout",
     "output_type": "stream",
     "text": [
      "7 7 7 7 7 7 7 \n",
      "6 6 6 6 6 6 \n",
      "5 5 5 5 5 \n",
      "4 4 4 4 \n",
      "3 3 3 \n",
      "2 2 \n",
      "1 \n"
     ]
    }
   ],
   "source": [
    "# write the python code to print the following pattern\n",
    "for i in range (7,0,-1):\n",
    "    for j in range (i,0,-1):\n",
    "        print(i,end=' ')\n",
    "    print()"
   ]
  },
  {
   "cell_type": "code",
   "execution_count": 7,
   "id": "3f9e6651",
   "metadata": {},
   "outputs": [
    {
     "name": "stdout",
     "output_type": "stream",
     "text": [
      "enter number of rows:6\n",
      "1 2 3 4 5 6 \n",
      "1 2 3 4 5 \n",
      "1 2 3 4 \n",
      "1 2 3 \n",
      "1 2 \n",
      "1 \n"
     ]
    }
   ],
   "source": [
    "rows=int(input('enter number of rows:'))\n",
    "for i in range (rows,0,-1):\n",
    "    for j in range(1,i+1):\n",
    "        print(j,end=' ')\n",
    "    print()"
   ]
  },
  {
   "cell_type": "code",
   "execution_count": 9,
   "id": "1bb88ad1",
   "metadata": {},
   "outputs": [
    {
     "name": "stdout",
     "output_type": "stream",
     "text": [
      "The reverse of number is 4321\n"
     ]
    }
   ],
   "source": [
    "# Reversing a number\n",
    "num=1234\n",
    "temp=1234\n",
    "\n",
    "rev=0\n",
    "\n",
    "while temp:\n",
    "    rem=temp%10\n",
    "    rev=rev*10+rem\n",
    "    temp=temp//10\n",
    "    \n",
    "print('The reverse of number is',rev)"
   ]
  },
  {
   "cell_type": "code",
   "execution_count": 85,
   "id": "1665a323",
   "metadata": {},
   "outputs": [
    {
     "data": {
      "text/plain": [
       "'paya'"
      ]
     },
     "execution_count": 85,
     "metadata": {},
     "output_type": "execute_result"
    }
   ],
   "source": [
    "# remove a charector from a string\n",
    "name='payal'\n",
    "name.replace('l','')\n",
    "\n"
   ]
  },
  {
   "cell_type": "code",
   "execution_count": 87,
   "id": "80339eb1",
   "metadata": {},
   "outputs": [
    {
     "name": "stdout",
     "output_type": "stream",
     "text": [
      "Please Enter String 1 :payal\n",
      "Please Enter String 2 :ayalp\n",
      "Anagram\n"
     ]
    }
   ],
   "source": [
    "# Anagam words containing same latters and charectors \n",
    "def anagramCheck(str1,str2):\n",
    "    if (sorted(str1)==sorted(str2)) :\n",
    "        return True\n",
    "    else:\n",
    "        return False\n",
    "str1=input('Please Enter String 1 :')\n",
    "str2=input('Please Enter String 2 :')    \n",
    "\n",
    "if anagramCheck(str1,str2):\n",
    "    print('Anagram')\n",
    "else:\n",
    "    print('Non an anagram')"
   ]
  },
  {
   "cell_type": "code",
   "execution_count": 93,
   "id": "b1c2bbc5",
   "metadata": {},
   "outputs": [
    {
     "name": "stdout",
     "output_type": "stream",
     "text": [
      "Enter a string :payal\n",
      "   ,EHadeeeefgllnnnoooooorrtvy\n",
      "yvtrroooooonnnllgfeeeedaHE,   \n"
     ]
    }
   ],
   "source": [
    "# sorted charectors of string in sorted order\n",
    "\n",
    "mustring=input('Enter a string :')\n",
    "\n",
    "ass_new=''.join(sorted(mystring))\n",
    "\n",
    "desc_new=''.join(sorted(mystring,reverse=True))\n",
    "\n",
    "print(ass_new)\n",
    "print(desc_new)"
   ]
  },
  {
   "cell_type": "code",
   "execution_count": 95,
   "id": "64cb56b5",
   "metadata": {},
   "outputs": [
    {
     "name": "stdout",
     "output_type": "stream",
     "text": [
      "0\n",
      "1\n",
      "2\n",
      "3\n",
      "4\n",
      "5\n",
      "6\n",
      "7\n",
      "8\n",
      "9\n",
      "10\n"
     ]
    }
   ],
   "source": [
    "#find missing number in a array\n",
    "array=list(range (0,101))\n",
    "check=list(range(0,11))\n",
    "\n",
    "missing=[]\n",
    "\n",
    "for i in array:\n",
    "    if i in check:\n",
    "        print(i)"
   ]
  },
  {
   "cell_type": "code",
   "execution_count": 97,
   "id": "39196a6b",
   "metadata": {},
   "outputs": [
    {
     "name": "stdout",
     "output_type": "stream",
     "text": [
      "1\n"
     ]
    }
   ],
   "source": [
    "# Occorence of word in loist\n",
    "weekdays=['sunday','monday','tuesday','wednesday','thursday','friday','saturday']\n",
    "\n",
    "print(weekdays.count('monday'))"
   ]
  },
  {
   "cell_type": "code",
   "execution_count": 101,
   "id": "b7548935",
   "metadata": {},
   "outputs": [
    {
     "name": "stdout",
     "output_type": "stream",
     "text": [
      "Enter string:payal\n",
      "Number of vowels are:\n",
      "2\n"
     ]
    }
   ],
   "source": [
    "# python program to count the number of vovels in a string\n",
    "string=input('Enter string:')\n",
    "\n",
    "vowels=0\n",
    "\n",
    "for i in string:\n",
    "    if(i=='a' or i=='e' or i=='i' or i=='o' or i=='u' or i=='A' or i=='E' or i=='I' or i=='O'):\n",
    "        vowels=vowels+1\n",
    "    \n",
    "print('Number of vowels are:')\n",
    "print(vowels)"
   ]
  },
  {
   "cell_type": "code",
   "execution_count": 104,
   "id": "20ae5ff4",
   "metadata": {},
   "outputs": [
    {
     "name": "stdout",
     "output_type": "stream",
     "text": [
      "Enter a Stringprakash\n",
      "Vowels: 2 Consonants: 5\n"
     ]
    }
   ],
   "source": [
    "# counts of vowels and cosonants\n",
    "#tacking input from the user\n",
    "string = input('Enter a String')\n",
    "vowels=0\n",
    "consonants=0\n",
    "\n",
    "for i in string:\n",
    "    if i in ('a','e','i','o','u','A','E','I','o','U'):\n",
    "        vowels+=1\n",
    "    elif i.isalpha():\n",
    "        consonants+=1\n",
    "print('Vowels:',vowels,'Consonants:',consonants)"
   ]
  },
  {
   "cell_type": "code",
   "execution_count": 3,
   "id": "1ce9dfdc",
   "metadata": {},
   "outputs": [
    {
     "name": "stdout",
     "output_type": "stream",
     "text": [
      "    August 2023\n",
      "Mo Tu We Th Fr Sa Su\n",
      "    1  2  3  4  5  6\n",
      " 7  8  9 10 11 12 13\n",
      "14 15 16 17 18 19 20\n",
      "21 22 23 24 25 26 27\n",
      "28 29 30 31\n",
      "\n"
     ]
    }
   ],
   "source": [
    "import calendar\n",
    "year=2023\n",
    "month=8\n",
    "print(calendar.month(year,month))"
   ]
  },
  {
   "cell_type": "code",
   "execution_count": null,
   "id": "2e8c7c86",
   "metadata": {},
   "outputs": [],
   "source": []
  }
 ],
 "metadata": {
  "kernelspec": {
   "display_name": "Python 3 (ipykernel)",
   "language": "python",
   "name": "python3"
  },
  "language_info": {
   "codemirror_mode": {
    "name": "ipython",
    "version": 3
   },
   "file_extension": ".py",
   "mimetype": "text/x-python",
   "name": "python",
   "nbconvert_exporter": "python",
   "pygments_lexer": "ipython3",
   "version": "3.10.11"
  }
 },
 "nbformat": 4,
 "nbformat_minor": 5
}
