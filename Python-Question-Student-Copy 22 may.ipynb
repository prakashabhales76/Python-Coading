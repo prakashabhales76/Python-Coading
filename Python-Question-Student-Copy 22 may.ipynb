{
 "cells": [
  {
   "cell_type": "code",
   "execution_count": 1,
   "id": "fbd4242d",
   "metadata": {},
   "outputs": [],
   "source": [
    "#1.\n",
    "# Given a string \"Great10YearsLearning!\", reverse the given strings but the special \n",
    "# characters and numbers should be in it's original position rest all should be reversed\n",
    "\n",
    "\n",
    "## Input - reverseAlphaStrings(\"Great10Learning!\")\n",
    "## Output - 'gninr10aeLtaerG!'"
   ]
  },
  {
   "cell_type": "code",
   "execution_count": 2,
   "id": "67b7871b",
   "metadata": {},
   "outputs": [],
   "source": [
    "s='Great10Learning'\n",
    "k=list(enumerate(s))"
   ]
  },
  {
   "cell_type": "code",
   "execution_count": 3,
   "id": "493ac7bc",
   "metadata": {},
   "outputs": [
    {
     "data": {
      "text/plain": [
       "[(0, 'G'),\n",
       " (1, 'r'),\n",
       " (2, 'e'),\n",
       " (3, 'a'),\n",
       " (4, 't'),\n",
       " (5, '1'),\n",
       " (6, '0'),\n",
       " (7, 'L'),\n",
       " (8, 'e'),\n",
       " (9, 'a'),\n",
       " (10, 'r'),\n",
       " (11, 'n'),\n",
       " (12, 'i'),\n",
       " (13, 'n'),\n",
       " (14, 'g')]"
      ]
     },
     "execution_count": 3,
     "metadata": {},
     "output_type": "execute_result"
    }
   ],
   "source": [
    "k"
   ]
  },
  {
   "cell_type": "code",
   "execution_count": 4,
   "id": "eb5d0a7c",
   "metadata": {},
   "outputs": [
    {
     "data": {
      "text/plain": [
       "'G'"
      ]
     },
     "execution_count": 4,
     "metadata": {},
     "output_type": "execute_result"
    }
   ],
   "source": [
    "i=0,'G'\n",
    "i[1]"
   ]
  },
  {
   "cell_type": "code",
   "execution_count": 5,
   "id": "015c8498",
   "metadata": {},
   "outputs": [],
   "source": [
    "alpha=[]\n",
    "charc=[]\n",
    "index=[]\n",
    "for i in k:\n",
    "    if str.isalpha(i[1]):\n",
    "        alpha.append(i[1])\n",
    "    else:\n",
    "        index.append(i[0])\n",
    "        charc.append(i[1])\n",
    "\n",
    "        \n",
    "a=alpha[: :-1]\n",
    "for i in range(len(charc)):\n",
    "    a.insert(index[i],charc[i])\n",
    "    "
   ]
  },
  {
   "cell_type": "code",
   "execution_count": 6,
   "id": "a70f7471",
   "metadata": {},
   "outputs": [
    {
     "data": {
      "text/plain": [
       "'gninr10aeLtaerG'"
      ]
     },
     "execution_count": 6,
     "metadata": {},
     "output_type": "execute_result"
    }
   ],
   "source": [
    "''.join(a)"
   ]
  },
  {
   "cell_type": "code",
   "execution_count": 7,
   "id": "3211e1e2",
   "metadata": {},
   "outputs": [
    {
     "data": {
      "text/plain": [
       "15"
      ]
     },
     "execution_count": 7,
     "metadata": {},
     "output_type": "execute_result"
    }
   ],
   "source": [
    "len(a)"
   ]
  },
  {
   "cell_type": "code",
   "execution_count": 8,
   "id": "89667e01",
   "metadata": {},
   "outputs": [
    {
     "data": {
      "text/plain": [
       "['G', 'r', 'e', 'a', 't', 'L', 'e', 'a', 'r', 'n', 'i', 'n', 'g']"
      ]
     },
     "execution_count": 8,
     "metadata": {},
     "output_type": "execute_result"
    }
   ],
   "source": [
    "alpha"
   ]
  },
  {
   "cell_type": "code",
   "execution_count": 9,
   "id": "651289ff",
   "metadata": {},
   "outputs": [
    {
     "data": {
      "text/plain": [
       "['1', '0']"
      ]
     },
     "execution_count": 9,
     "metadata": {},
     "output_type": "execute_result"
    }
   ],
   "source": [
    "charc"
   ]
  },
  {
   "cell_type": "code",
   "execution_count": 10,
   "id": "7a5a61eb",
   "metadata": {},
   "outputs": [
    {
     "data": {
      "text/plain": [
       "[5, 6]"
      ]
     },
     "execution_count": 10,
     "metadata": {},
     "output_type": "execute_result"
    }
   ],
   "source": [
    "index"
   ]
  },
  {
   "cell_type": "code",
   "execution_count": null,
   "id": "960e3c3b",
   "metadata": {},
   "outputs": [],
   "source": []
  },
  {
   "cell_type": "code",
   "execution_count": 11,
   "id": "d41ee9f5",
   "metadata": {},
   "outputs": [],
   "source": [
    "x=0\n",
    "ns=[]\n",
    "for i in range(len(s)):\n",
    "    if i in index:\n",
    "        ns.append(alpha[-1-x])\n",
    "        x=x-1\n",
    "    if i in index:\n",
    "            ns.append(s[i])\n",
    "            "
   ]
  },
  {
   "cell_type": "code",
   "execution_count": 12,
   "id": "ffc5a906",
   "metadata": {},
   "outputs": [],
   "source": [
    "#2\n",
    "# Someone has attempted to censor my strings by replacing every vowel with a *, l*k* th*s. Luckily, I've been able \n",
    "# to find the vowels that were removed.\n",
    "\n",
    "# Given a censored string and a string of the censored vowels, return the original uncensored string.\n",
    "\n",
    "# Example\n",
    "# uncensor(\"Wh*r* d*d my v*w*ls g*?\", \"eeioeo\") ➞ \"Where did my vowels go?\"\n",
    "\n",
    "# uncensor(\"abcd\", \"\") ➞ \"abcd\"\n",
    "\n",
    "# uncensor(\"*PP*RC*S*\", \"UEAE\") ➞ \"UPPERCASE\""
   ]
  },
  {
   "cell_type": "code",
   "execution_count": 13,
   "id": "8ec45a43",
   "metadata": {},
   "outputs": [
    {
     "name": "stdout",
     "output_type": "stream",
     "text": [
      "'*pp*rc*s*',  'ueae'\n",
      "'*pp*rc*s*'\n",
      "  'ueae'\n"
     ]
    },
    {
     "data": {
      "text/plain": [
       "\"''ppurcesa'\""
      ]
     },
     "execution_count": 13,
     "metadata": {},
     "output_type": "execute_result"
    }
   ],
   "source": [
    "n=2\n",
    "s3=[]\n",
    "s1,s2=input().split(',')\n",
    "print(s1)\n",
    "print(s2)\n",
    "for i in s1:\n",
    "    if i =='*':\n",
    "        s3.append(s2[n])\n",
    "        n+=1\n",
    "    else:\n",
    "        s3.append(i)\n",
    "''.join(s3).strip('\"\"') # '*pp*rc*s*',  'ueae'  # this code is the empty line # pass with space"
   ]
  },
  {
   "cell_type": "code",
   "execution_count": 14,
   "id": "49505078",
   "metadata": {},
   "outputs": [
    {
     "name": "stdout",
     "output_type": "stream",
     "text": [
      "'*pp*rc*s*','ueae'\n",
      "'*pp*rc*s*'\n",
      "'ueae'\n"
     ]
    },
    {
     "data": {
      "text/plain": [
       "\"'epparces''\""
      ]
     },
     "execution_count": 14,
     "metadata": {},
     "output_type": "execute_result"
    }
   ],
   "source": [
    "n=2\n",
    "s3=[]\n",
    "s1,s2=input().split(',')\n",
    "print(s1)\n",
    "print(s2)\n",
    "for _ in s1:\n",
    "    if _ =='*':\n",
    "        s3.append(s2[n])\n",
    "        n+=1\n",
    "    else:\n",
    "        s3.append(_)\n",
    "''.join(s3).strip('\"\"') # '*pp*rc*s*','ueae'  # this code is the empty line # pass with not space"
   ]
  },
  {
   "cell_type": "code",
   "execution_count": 15,
   "id": "e6d7df0e",
   "metadata": {},
   "outputs": [],
   "source": [
    "# 3.\n",
    "# Factorial of factorials\n",
    "## Input 4 \n",
    "## Expected output - 288"
   ]
  },
  {
   "cell_type": "code",
   "execution_count": 16,
   "id": "bb52e554",
   "metadata": {},
   "outputs": [
    {
     "name": "stdout",
     "output_type": "stream",
     "text": [
      "any nbr4\n",
      "288\n"
     ]
    }
   ],
   "source": [
    "b=int(input('any nbr'))\n",
    "d=1\n",
    "\n",
    "for i in range(1,b+1):\n",
    "    fac=1\n",
    "    for j in range(1,i+1):\n",
    "        fac*=j\n",
    "    d*=fac\n",
    "print(d)"
   ]
  },
  {
   "cell_type": "code",
   "execution_count": 17,
   "id": "b5d7e54f",
   "metadata": {},
   "outputs": [],
   "source": [
    "def facts(x): # to solve\n",
    "    fact=1\n",
    "    z=1\n",
    "    for i in range(1,5):\n",
    "        fact=fact*i\n",
    "        z=z*fact\n",
    "    return(z)"
   ]
  },
  {
   "cell_type": "code",
   "execution_count": 18,
   "id": "13310257",
   "metadata": {},
   "outputs": [
    {
     "data": {
      "text/plain": [
       "288"
      ]
     },
     "execution_count": 18,
     "metadata": {},
     "output_type": "execute_result"
    }
   ],
   "source": [
    "facts(4)"
   ]
  },
  {
   "cell_type": "code",
   "execution_count": 19,
   "id": "4af48f36",
   "metadata": {},
   "outputs": [],
   "source": [
    "# 4.\n",
    "# Fibonacci series using recursive function\n"
   ]
  },
  {
   "cell_type": "code",
   "execution_count": 1,
   "id": "2784426e",
   "metadata": {},
   "outputs": [
    {
     "data": {
      "text/plain": [
       "[0, 1, 1, 2, 3, 5, 8, 13, 21, 34]"
      ]
     },
     "execution_count": 1,
     "metadata": {},
     "output_type": "execute_result"
    }
   ],
   "source": [
    "def fibonacci(n):\n",
    "    # Base case: Fibonacci of 0 is 0, Fibonacci of 1 is 1\n",
    "    if n == 0:\n",
    "        return 0\n",
    "    elif n == 1:\n",
    "        return 1\n",
    "    else:\n",
    "        # Recursive case: Fibonacci of n is the sum of Fibonacci of (n-1) and Fibonacci of (n-2)\n",
    "        return fibonacci(n - 1) + fibonacci(n - 2)\n",
    "[fibonacci(i) for i in range(10)]"
   ]
  },
  {
   "cell_type": "code",
   "execution_count": 21,
   "id": "86996b03",
   "metadata": {},
   "outputs": [
    {
     "ename": "NameError",
     "evalue": "name 'fib' is not defined",
     "output_type": "error",
     "traceback": [
      "\u001b[1;31m---------------------------------------------------------------------------\u001b[0m",
      "\u001b[1;31mNameError\u001b[0m                                 Traceback (most recent call last)",
      "Cell \u001b[1;32mIn[21], line 8\u001b[0m\n\u001b[0;32m      5\u001b[0m         \u001b[38;5;28;01mreturn\u001b[39;00m fibonacci(x\u001b[38;5;241m-\u001b[39m\u001b[38;5;241m1\u001b[39m)\u001b[38;5;241m+\u001b[39mfibonacci(x\u001b[38;5;241m-\u001b[39m\u001b[38;5;241m2\u001b[39m)\n\u001b[0;32m      7\u001b[0m fibonacci(\u001b[38;5;241m3\u001b[39m)\u001b[38;5;241m+\u001b[39mfibonacci(\u001b[38;5;241m2\u001b[39m)\n\u001b[1;32m----> 8\u001b[0m \u001b[43mfib\u001b[49m(\u001b[38;5;241m2\u001b[39m)\u001b[38;5;241m+\u001b[39mfib(\u001b[38;5;241m1\u001b[39m)\n\u001b[0;32m     10\u001b[0m [fibonacci(i) \u001b[38;5;28;01mfor\u001b[39;00m i \u001b[38;5;129;01min\u001b[39;00m \u001b[38;5;28mrange\u001b[39m(\u001b[38;5;241m10\u001b[39m)]\n",
      "\u001b[1;31mNameError\u001b[0m: name 'fib' is not defined"
     ]
    }
   ],
   "source": [
    "def fibonacci(x):\n",
    "    if x<=1:\n",
    "        return x\n",
    "    else:\n",
    "        return fibonacci(x-1)+fibonacci(x-2)\n",
    "    \n",
    "fibonacci(3)+fibonacci(2)\n",
    "fib(2)+fib(1)\n",
    "    \n",
    "[fibonacci(i) for i in range(10)]"
   ]
  },
  {
   "cell_type": "code",
   "execution_count": null,
   "id": "8421e3dc",
   "metadata": {},
   "outputs": [],
   "source": [
    "for i in range(5):\n",
    "    [fibonacci(i)]"
   ]
  },
  {
   "cell_type": "code",
   "execution_count": null,
   "id": "64d85df8",
   "metadata": {},
   "outputs": [],
   "source": [
    "i"
   ]
  },
  {
   "cell_type": "code",
   "execution_count": null,
   "id": "3b3de8bc",
   "metadata": {},
   "outputs": [],
   "source": [
    "# 5.\n",
    "# Find the longest word from the sentence\n"
   ]
  },
  {
   "cell_type": "code",
   "execution_count": null,
   "id": "37214dbb",
   "metadata": {},
   "outputs": [],
   "source": [
    "sentence=str(input('Enter a sentence: '))\n",
    "sent=sentence.split(' ')\n",
    "length=[]\n",
    "for word in sent:\n",
    "    length.append(len(word))\n",
    "print(length)\n",
    "print('The longest word is: ',sent[length.index(max(length))])"
   ]
  },
  {
   "cell_type": "code",
   "execution_count": null,
   "id": "4edb6702",
   "metadata": {},
   "outputs": [],
   "source": [
    "# 6.\n",
    "# Write a program that takes a string and returns a new string with all the vowels removed.\n",
    "# Example: remove_vowels(\"Hello World\") ➞ \"Hll Wrld\""
   ]
  },
  {
   "cell_type": "code",
   "execution_count": null,
   "id": "8e0e605c",
   "metadata": {},
   "outputs": [],
   "source": [
    "def vowR(str1):\n",
    "    vow='aeiou'\n",
    "    str2=str1.lower()\n",
    "    li1=[]\n",
    "    for w in str2:\n",
    "        if w not in vow:\n",
    "            li1.append(w)\n",
    "            \n",
    "    return ''.join(li1).title()"
   ]
  },
  {
   "cell_type": "code",
   "execution_count": null,
   "id": "803975c0",
   "metadata": {},
   "outputs": [],
   "source": [
    "vowR('Hello World')"
   ]
  },
  {
   "cell_type": "code",
   "execution_count": null,
   "id": "df6c45bc",
   "metadata": {},
   "outputs": [],
   "source": [
    "#7.\n",
    "# Create a function that takes a string of words and returns the longest word.\n",
    "# Example: longest_word(\"I love to code in Python\") ➞ \"Python\""
   ]
  },
  {
   "cell_type": "code",
   "execution_count": null,
   "id": "0e879b89",
   "metadata": {},
   "outputs": [],
   "source": [
    "sentence=str(input('Enter a sentence: '))\n",
    "sent=sentence.split(' ')\n",
    "length=[]\n",
    "for word in sent:\n",
    "    length.append(len(word))\n",
    "print(length)\n",
    "print('The longest word is: ',sent[length.index(max(length))])"
   ]
  },
  {
   "cell_type": "code",
   "execution_count": null,
   "id": "94018738",
   "metadata": {},
   "outputs": [],
   "source": [
    "num_list=list(input('Enter a list of number: '))\n",
    "\n",
    "def num_check(x):\n",
    "    for num in x:\n",
    "        if num_list.count(num)>1:\n",
    "            val='True'\n",
    "        else:\n",
    "            val='False'\n",
    "        return val\n",
    "num_check(num_list)"
   ]
  },
  {
   "cell_type": "code",
   "execution_count": null,
   "id": "9b3d204e",
   "metadata": {},
   "outputs": [],
   "source": [
    "num_list"
   ]
  },
  {
   "cell_type": "code",
   "execution_count": null,
   "id": "03649b41",
   "metadata": {},
   "outputs": [],
   "source": [
    "#8.\n",
    "# Create a function that takes two strings and returns True if the first string ends with the second string; otherwise return False.\n",
    "# Example: ends_with(\"Hello World\", \"ld\") ➞ True"
   ]
  },
  {
   "cell_type": "code",
   "execution_count": null,
   "id": "8c055d6b",
   "metadata": {},
   "outputs": [],
   "source": [
    "def ends_with(str1, str2):\n",
    "    return str1.endswith(str2)\n",
    "str1 = \"Hello World\"\n",
    "str2 = \"ld\"\n",
    "result = ends_with(str1, str2)\n",
    "print(result)"
   ]
  },
  {
   "cell_type": "code",
   "execution_count": null,
   "id": "3474103c",
   "metadata": {},
   "outputs": [],
   "source": [
    "def duplicates(input1):\n",
    "    duplicate=[]\n",
    "    for i in input1:\n",
    "        if input1.count(i)>1:\n",
    "            duplicate.append(i)\n",
    "        print(set(duplicate))\n",
    "duplicates([1,2,3,4,2,3])"
   ]
  },
  {
   "cell_type": "code",
   "execution_count": null,
   "id": "7736307c",
   "metadata": {},
   "outputs": [],
   "source": [
    "#9.\n",
    "# Given a list of numbers, write a function that returns True if there are any duplicates in the list; otherwise return False.\n",
    "# Example: has_duplicates([1, 2, 3, 4, 5]) ➞ False"
   ]
  },
  {
   "cell_type": "code",
   "execution_count": null,
   "id": "c835597e",
   "metadata": {},
   "outputs": [],
   "source": [
    "def has_duplicates(numbers):\n",
    "    return len(numbers) != len(set(numbers))\n",
    "numbers = [1, 2, 3, 4, 5]\n",
    "result = has_duplicates(numbers)\n",
    "print(result)"
   ]
  },
  {
   "cell_type": "code",
   "execution_count": null,
   "id": "e88892dd",
   "metadata": {},
   "outputs": [],
   "source": [
    "# 10.\n",
    "# Given a list of numbers, write a function that returns True if there are any duplicates in the list; otherwise return False.\n",
    "# Example: has_duplicates([1, 2, 3, 4, 5]) ➞ False"
   ]
  },
  {
   "cell_type": "code",
   "execution_count": null,
   "id": "fb9aa1e7",
   "metadata": {},
   "outputs": [],
   "source": [
    "def has_duplicates(numbers):\n",
    "    seen = set()\n",
    "    for num in numbers:\n",
    "        if num in seen:\n",
    "            return True\n",
    "        seen.add(num)\n",
    "    return False\n",
    "numbers = [1, 2, 3, 4, 5]\n",
    "result = has_duplicates(numbers)\n",
    "print(result)"
   ]
  },
  {
   "cell_type": "code",
   "execution_count": null,
   "id": "a04fca5a",
   "metadata": {},
   "outputs": [],
   "source": [
    "# 11.\n",
    "# Solve the following game.\n",
    "\n",
    "# Step 1. Generate a random number between 1 to 100. \n",
    "\n",
    "# Step 2. Accept another number from user in the same range. \n",
    "\n",
    "# Step 3. Generate score of the round : \n",
    "\n",
    "# Rule 1: If both numbers have 1 factor common - Score 1\n",
    "\n",
    "# Rule 2: If both numbers have 2 factors common - Score 2\n",
    "\n",
    "# Rule 3: If both numbers have 3 factors common - Score 3\n",
    "\n",
    "# Rule 4: If both numbers have more than 3 factors common - Score 5\n",
    "\n",
    "# Generate 3 rounds of game. Cumulate the scores of each round. If total score is 10 or more. Declare winner.    "
   ]
  },
  {
   "cell_type": "code",
   "execution_count": null,
   "id": "66cd79cd",
   "metadata": {},
   "outputs": [],
   "source": [
    "# step 1\n",
    "import random\n",
    "\n",
    "number = random.randint(1, 100)\n",
    "print(number)"
   ]
  },
  {
   "cell_type": "code",
   "execution_count": null,
   "id": "299990c9",
   "metadata": {},
   "outputs": [],
   "source": [
    "# step 2\n",
    "number = int(input(\"Enter a number between 1 and 100: \"))\n",
    "print(number)"
   ]
  },
  {
   "cell_type": "code",
   "execution_count": null,
   "id": "e61d77e0",
   "metadata": {},
   "outputs": [],
   "source": [
    "# step 3\n",
    "def calculate_score(random_num, user_num):\n",
    "    random_factors = set()\n",
    "    user_factors = set()\n",
    "\n",
    "    # Calculate factors of random_num\n",
    "    for i in range(1, random_num + 1):\n",
    "        if random_num % i == 0:\n",
    "            random_factors.add(i)\n",
    "\n",
    "    # Calculate factors of user_num\n",
    "    for i in range(1, user_num + 1):\n",
    "        if user_num % i == 0:\n",
    "            user_factors.add(i)\n",
    "\n",
    "    # Find common factors\n",
    "    common_factors = random_factors.intersection(user_factors)\n",
    "\n",
    "    # Determine the score based on the number of common factors\n",
    "    if len(common_factors) == 1:\n",
    "        score = 1\n",
    "    elif len(common_factors) == 2:\n",
    "        score = 2\n",
    "    elif len(common_factors) == 3:\n",
    "        score = 3\n",
    "    elif len(common_factors) > 3:\n",
    "        score = 5\n",
    "    else:\n",
    "        score = 0\n",
    "\n",
    "    return score"
   ]
  },
  {
   "cell_type": "code",
   "execution_count": null,
   "id": "b1229f17",
   "metadata": {},
   "outputs": [],
   "source": []
  },
  {
   "cell_type": "code",
   "execution_count": 31,
   "id": "fcf31ecb",
   "metadata": {},
   "outputs": [
    {
     "data": {
      "text/plain": [
       "<filter at 0x1e3720635e0>"
      ]
     },
     "execution_count": 31,
     "metadata": {},
     "output_type": "execute_result"
    }
   ],
   "source": [
    "sales=[10,15,2,5,8,10]\n",
    "filter(lambda x:X<=7,sales) "
   ]
  },
  {
   "cell_type": "code",
   "execution_count": 33,
   "id": "82987591",
   "metadata": {},
   "outputs": [
    {
     "data": {
      "text/plain": [
       "<filter at 0x1e3738285b0>"
      ]
     },
     "execution_count": 33,
     "metadata": {},
     "output_type": "execute_result"
    }
   ],
   "source": [
    "list_1=['apple','gwava','mango','watermalen']    # tupple length 4\n",
    "filter(lambda x:x<=7,list_1)"
   ]
  },
  {
   "cell_type": "code",
   "execution_count": 34,
   "id": "c782aec1",
   "metadata": {},
   "outputs": [
    {
     "ename": "SyntaxError",
     "evalue": "invalid syntax (2358612050.py, line 3)",
     "output_type": "error",
     "traceback": [
      "\u001b[1;36m  Cell \u001b[1;32mIn[34], line 3\u001b[1;36m\u001b[0m\n\u001b[1;33m    map(   ,fruits)\u001b[0m\n\u001b[1;37m           ^\u001b[0m\n\u001b[1;31mSyntaxError\u001b[0m\u001b[1;31m:\u001b[0m invalid syntax\n"
     ]
    }
   ],
   "source": [
    "fruits=['apple','gwava','mango','watermalen']\n",
    "\n",
    "map(   ,fruits)"
   ]
  },
  {
   "cell_type": "code",
   "execution_count": 35,
   "id": "750c57d5",
   "metadata": {},
   "outputs": [],
   "source": [
    "def countVow(s):   # like you want to the in wor any name to try this codde\n",
    "    c=0\n",
    "    for i in s:\n",
    "        if i in 'aeiouAEIOU':\n",
    "            c +=1\n",
    "    return c"
   ]
  },
  {
   "cell_type": "code",
   "execution_count": 36,
   "id": "18e678a0",
   "metadata": {},
   "outputs": [
    {
     "data": {
      "text/plain": [
       "2"
      ]
     },
     "execution_count": 36,
     "metadata": {},
     "output_type": "execute_result"
    }
   ],
   "source": [
    "countVow('mango')"
   ]
  },
  {
   "cell_type": "code",
   "execution_count": 37,
   "id": "947af483",
   "metadata": {},
   "outputs": [
    {
     "data": {
      "text/plain": [
       "2"
      ]
     },
     "execution_count": 37,
     "metadata": {},
     "output_type": "execute_result"
    }
   ],
   "source": [
    "countVow('gwava')"
   ]
  },
  {
   "cell_type": "code",
   "execution_count": 38,
   "id": "a7f573e0",
   "metadata": {},
   "outputs": [
    {
     "data": {
      "text/plain": [
       "2"
      ]
     },
     "execution_count": 38,
     "metadata": {},
     "output_type": "execute_result"
    }
   ],
   "source": [
    "countVow('apple')"
   ]
  },
  {
   "cell_type": "code",
   "execution_count": 39,
   "id": "4a9eaa95",
   "metadata": {},
   "outputs": [
    {
     "data": {
      "text/plain": [
       "4"
      ]
     },
     "execution_count": 39,
     "metadata": {},
     "output_type": "execute_result"
    }
   ],
   "source": [
    "countVow('watermalen')"
   ]
  },
  {
   "cell_type": "code",
   "execution_count": 42,
   "id": "c7f53263",
   "metadata": {},
   "outputs": [
    {
     "name": "stdout",
     "output_type": "stream",
     "text": [
      "Enter number of rows:5\n",
      "    *\n",
      "   ***\n",
      "  *****\n",
      " *******\n",
      "*********\n"
     ]
    }
   ],
   "source": [
    "# creating star pyramid\n",
    "rows=int(input('Enter number of rows:'))\n",
    "k=0\n",
    "for i in range(1,rows+1):\n",
    "    for space in range(1,(rows-i)+1):\n",
    "        print(end=' ')\n",
    "    while k!=(2*i-1):\n",
    "        print('*',end='')\n",
    "        k+=1\n",
    "    k=0\n",
    "    print()"
   ]
  },
  {
   "cell_type": "code",
   "execution_count": 47,
   "id": "439508da",
   "metadata": {},
   "outputs": [
    {
     "name": "stdout",
     "output_type": "stream",
     "text": [
      "* * * * * * * * * * * * * * * "
     ]
    }
   ],
   "source": [
    "for i in range(5):\n",
    "    for j in range(i,5):\n",
    "        print('*',end=' ')"
   ]
  },
  {
   "cell_type": "code",
   "execution_count": 52,
   "id": "10dbf767",
   "metadata": {},
   "outputs": [
    {
     "name": "stdout",
     "output_type": "stream",
     "text": [
      "    *\n",
      "   ***\n",
      "  *****\n",
      " *******\n",
      "*********\n"
     ]
    }
   ],
   "source": [
    "rows=5\n",
    "n=1\n",
    "for i in range(rows):\n",
    "        print(\" \"*(rows-i-1)+\"*\"*n)\n",
    "        n+=2"
   ]
  },
  {
   "cell_type": "code",
   "execution_count": 59,
   "id": "a9f25da5",
   "metadata": {},
   "outputs": [],
   "source": [
    "def displaypatter(rows):\n",
    "    n=1\n",
    "    for i in range(rows):\n",
    "        print(\" \"*(rows-i-1)+\"*\"*n)\n",
    "        n+=2"
   ]
  },
  {
   "cell_type": "code",
   "execution_count": 60,
   "id": "ae104ac0",
   "metadata": {},
   "outputs": [
    {
     "name": "stdout",
     "output_type": "stream",
     "text": [
      "       *\n",
      "      ***\n",
      "     *****\n",
      "    *******\n",
      "   *********\n",
      "  ***********\n",
      " *************\n",
      "***************\n"
     ]
    }
   ],
   "source": [
    "displaypatter(8)"
   ]
  },
  {
   "cell_type": "code",
   "execution_count": 55,
   "id": "b17cd31b",
   "metadata": {},
   "outputs": [
    {
     "name": "stdout",
     "output_type": "stream",
     "text": [
      "                                                                                May 2023\n",
      "         Monday                 Tuesday                Wednesday                Thursday                 Friday                 Saturday                 Sunday\n",
      "            1                       2                       3                       4                       5                       6                       7\n",
      "            8                       9                      10                      11                      12                      13                      14\n",
      "           15                      16                      17                      18                      19                      20                      21\n",
      "           22                      23                      24                      25                      26                      27                      28\n",
      "           29                      30                      31\n",
      "\n"
     ]
    }
   ],
   "source": [
    "import calendar\n",
    "year=2023\n",
    "month=5\n",
    "date=23\n",
    "print(calendar.month(year,month,date))"
   ]
  },
  {
   "cell_type": "code",
   "execution_count": null,
   "id": "d2e2e7da",
   "metadata": {},
   "outputs": [],
   "source": [
    "A\n",
    "BC\n",
    "DEF\n",
    "GHIJ\n",
    "KLMNO"
   ]
  },
  {
   "cell_type": "code",
   "execution_count": 71,
   "id": "2a6aa336",
   "metadata": {},
   "outputs": [
    {
     "name": "stdout",
     "output_type": "stream",
     "text": [
      "A \n",
      "B C \n",
      "D E F \n",
      "G H I J \n",
      "K L M N O \n",
      "P Q R S T U \n"
     ]
    }
   ],
   "source": [
    "ascci_start = ord(\"A\")\n",
    "\n",
    "for i in range(6):\n",
    "    for j in range(i+1):\n",
    "        print(chr(ascci_start), end = \" \")\n",
    "        ascci_start += 1\n",
    "    print()"
   ]
  },
  {
   "cell_type": "code",
   "execution_count": 70,
   "id": "82ffeb46",
   "metadata": {},
   "outputs": [],
   "source": [
    "primes=17171   # prime or not"
   ]
  },
  {
   "cell_type": "code",
   "execution_count": 84,
   "id": "0d4774f9",
   "metadata": {},
   "outputs": [],
   "source": [
    "def prime_no(num):\n",
    "    if num==0 or num ==1 or num==2:\n",
    "        return False\n",
    "    for i in range(2,num):\n",
    "        if num%i==0:\n",
    "            return False\n",
    "    return True"
   ]
  },
  {
   "cell_type": "code",
   "execution_count": 85,
   "id": "8ebc3267",
   "metadata": {},
   "outputs": [
    {
     "data": {
      "text/plain": [
       "False"
      ]
     },
     "execution_count": 85,
     "metadata": {},
     "output_type": "execute_result"
    }
   ],
   "source": [
    "prime_no(8)"
   ]
  },
  {
   "cell_type": "code",
   "execution_count": 98,
   "id": "f8c5b3ab",
   "metadata": {
    "scrolled": true
   },
   "outputs": [
    {
     "name": "stdout",
     "output_type": "stream",
     "text": [
      "1\n",
      "17\n",
      "171\n",
      "1717\n",
      "17171\n"
     ]
    }
   ],
   "source": [
    "num=17171\n",
    "num_str=str(num)\n",
    "\n",
    "for i in range(len(num_str)):\n",
    "    print(num_str[ 0:i+1 ])"
   ]
  },
  {
   "cell_type": "code",
   "execution_count": 97,
   "id": "8633c351",
   "metadata": {},
   "outputs": [
    {
     "name": "stdout",
     "output_type": "stream",
     "text": [
      "1\n",
      "17\n",
      "171\n",
      "1717\n",
      "\n"
     ]
    },
    {
     "ename": "ValueError",
     "evalue": "invalid literal for int() with base 10: ''",
     "output_type": "error",
     "traceback": [
      "\u001b[1;31m---------------------------------------------------------------------------\u001b[0m",
      "\u001b[1;31mValueError\u001b[0m                                Traceback (most recent call last)",
      "Cell \u001b[1;32mIn[97], line 8\u001b[0m\n\u001b[0;32m      6\u001b[0m \u001b[38;5;28;01mfor\u001b[39;00m i \u001b[38;5;129;01min\u001b[39;00m \u001b[38;5;28mrange\u001b[39m(\u001b[38;5;28mlen\u001b[39m(num_str)):\n\u001b[0;32m      7\u001b[0m     \u001b[38;5;28mprint\u001b[39m(num_str[s : i\u001b[38;5;241m+\u001b[39m\u001b[38;5;241m1\u001b[39m ])\n\u001b[1;32m----> 8\u001b[0m     n\u001b[38;5;241m=\u001b[39m\u001b[38;5;28;43mint\u001b[39;49m\u001b[43m(\u001b[49m\u001b[43mnum_str\u001b[49m\u001b[43m[\u001b[49m\u001b[43m \u001b[49m\u001b[43ms\u001b[49m\u001b[43m \u001b[49m\u001b[43m:\u001b[49m\u001b[43m \u001b[49m\u001b[43mi\u001b[49m\u001b[38;5;241;43m+\u001b[39;49m\u001b[38;5;241;43m1\u001b[39;49m\u001b[43m \u001b[49m\u001b[43m]\u001b[49m\u001b[43m)\u001b[49m\n\u001b[0;32m     10\u001b[0m     \u001b[38;5;28;01mif\u001b[39;00m prime_no(n):\n\u001b[0;32m     11\u001b[0m         list_primes\u001b[38;5;241m.\u001b[39mappend(n)\n",
      "\u001b[1;31mValueError\u001b[0m: invalid literal for int() with base 10: ''"
     ]
    }
   ],
   "source": [
    "num=1717\n",
    "num_str=str(num)\n",
    "s=0\n",
    "list_primes=[]\n",
    "for j in range(len(num_str)):\n",
    "    for i in range(len(num_str)):\n",
    "        if num_str[ s : i+1 ] =='':\n",
    "            continue\n",
    "        else\n",
    "        print(num_str[s : i+1 ])\n",
    "        n=int(num_str[ s : i+1 ])\n",
    "        \n",
    "        if prime_no(n):\n",
    "            list_primes.append(n)\n",
    "    s+=1"
   ]
  },
  {
   "cell_type": "code",
   "execution_count": 88,
   "id": "9981f514",
   "metadata": {},
   "outputs": [],
   "source": [
    "def prime_ex(num1):\n",
    "    k=0\n",
    "    li1=[]\n",
    "    for i in range(1,len(str(num1))+1):\n",
    "        for j in range(0+k,i):\n",
    "            if prime_no(int(str(num1)[j:i])):\n",
    "                li1.append(int(str(num1)[j:i]))\n",
    "        if k==len(str(num1))-1:\n",
    "            break\n",
    "        if i == len(str(num1)):\n",
    "            k+=1\n",
    "            i=1\n",
    "        se1=set(sorted(li1))"
   ]
  },
  {
   "cell_type": "code",
   "execution_count": 89,
   "id": "6688164a",
   "metadata": {},
   "outputs": [],
   "source": [
    "prime_ex(17171)"
   ]
  },
  {
   "cell_type": "code",
   "execution_count": null,
   "id": "8451bded",
   "metadata": {},
   "outputs": [],
   "source": []
  }
 ],
 "metadata": {
  "kernelspec": {
   "display_name": "Python 3 (ipykernel)",
   "language": "python",
   "name": "python3"
  },
  "language_info": {
   "codemirror_mode": {
    "name": "ipython",
    "version": 3
   },
   "file_extension": ".py",
   "mimetype": "text/x-python",
   "name": "python",
   "nbconvert_exporter": "python",
   "pygments_lexer": "ipython3",
   "version": "3.10.11"
  }
 },
 "nbformat": 4,
 "nbformat_minor": 5
}
